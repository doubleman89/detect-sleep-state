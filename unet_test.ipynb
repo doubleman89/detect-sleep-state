{
 "cells": [
  {
   "cell_type": "markdown",
   "metadata": {},
   "source": []
  },
  {
   "cell_type": "code",
   "execution_count": 1,
   "metadata": {},
   "outputs": [],
   "source": [
    "from datetime import datetime\n",
    "import tensorflow as tf\n",
    "import importlib\n",
    "import numpy as np\n",
    "\n"
   ]
  },
  {
   "cell_type": "code",
   "execution_count": 17,
   "metadata": {},
   "outputs": [],
   "source": [
    "# import config \n",
    "import configs.config\n",
    "importlib.reload(configs.config)\n",
    "from configs.config import CFG\n",
    "from utils import config\n",
    "config = config.Config.from_json(CFG)"
   ]
  },
  {
   "cell_type": "markdown",
   "metadata": {},
   "source": [
    "## Create Dataset"
   ]
  },
  {
   "cell_type": "code",
   "execution_count": 28,
   "metadata": {},
   "outputs": [
    {
     "data": {
      "text/plain": [
       "(6668, 160, 2)"
      ]
     },
     "execution_count": 28,
     "metadata": {},
     "output_type": "execute_result"
    }
   ],
   "source": [
    "# create Train Series and Dataset \n",
    "import dataloader.dataloader\n",
    "importlib.reload(dataloader.dataloader)\n",
    "from dataloader.dataloader import Train_Series,Dataset\n",
    "try: \n",
    "    del series,ds\n",
    "except:\n",
    "    pass\n",
    "\n",
    "series = Train_Series(config.data,config.paths)\n",
    "series.createSeries()\n",
    "ds = Dataset(series)\n",
    "ds.split_dataset()\n",
    "\n",
    "X_train = ds.X_train\n",
    "y_train = ds.y_train\n",
    "X_test = ds.X_test\n",
    "y_test = ds.y_test\n",
    "\n",
    "X_train.shape"
   ]
  },
  {
   "cell_type": "markdown",
   "metadata": {},
   "source": [
    "## Save Datset to Files "
   ]
  },
  {
   "cell_type": "code",
   "execution_count": 29,
   "metadata": {},
   "outputs": [],
   "source": [
    "import pickle\n",
    "# Include the epoch in the file name (uses `str.format`)\n",
    "ds_path = \"./model/saved_ds/ds.obj\"\n",
    "\n",
    "with  open(ds_path,'wb') as file:\n",
    "    exampleObj = pickle.dump(ds,file)\n"
   ]
  },
  {
   "cell_type": "code",
   "execution_count": null,
   "metadata": {},
   "outputs": [],
   "source": [
    "import dataloader.dataloader\n",
    "importlib.reload(dataloader.dataloader)\n",
    "from dataloader.dataloader import Test_Series\n",
    "try: \n",
    "    del test_series\n",
    "except:\n",
    "    pass\n",
    "test_series = Test_Series(config.data,config.paths)\n",
    "test_series.createSeries()"
   ]
  },
  {
   "cell_type": "markdown",
   "metadata": {},
   "source": [
    "## Call model and compile"
   ]
  },
  {
   "cell_type": "code",
   "execution_count": 30,
   "metadata": {},
   "outputs": [
    {
     "name": "stdout",
     "output_type": "stream",
     "text": [
      "Model: \"model_2\"\n",
      "__________________________________________________________________________________________________\n",
      " Layer (type)                   Output Shape         Param #     Connected to                     \n",
      "==================================================================================================\n",
      " input_3 (InputLayer)           [(None, 160, 2)]     0           []                               \n",
      "                                                                                                  \n",
      " downsampling_block_10 (Downsam  ((None, 80, 8),     256         ['input_3[0][0]']                \n",
      " plingBlock)                     (None, 160, 8))                                                  \n",
      "                                                                                                  \n",
      " downsampling_block_11 (Downsam  ((None, 40, 16),    1184        ['downsampling_block_10[0][0]']  \n",
      " plingBlock)                     (None, 80, 16))                                                  \n",
      "                                                                                                  \n",
      " downsampling_block_12 (Downsam  ((None, 20, 32),    4672        ['downsampling_block_11[0][0]']  \n",
      " plingBlock)                     (None, 40, 32))                                                  \n",
      "                                                                                                  \n",
      " downsampling_block_13 (Downsam  ((None, 10, 64),    18560       ['downsampling_block_12[0][0]']  \n",
      " plingBlock)                     (None, 20, 64))                                                  \n",
      "                                                                                                  \n",
      " downsampling_block_14 (Downsam  ((None, 10, 128),   73984       ['downsampling_block_13[0][0]']  \n",
      " plingBlock)                     (None, 10, 128))                                                 \n",
      "                                                                                                  \n",
      " upsampling_block_8 (Upsampling  (None, 20, 64)      61632       ['downsampling_block_14[0][0]',  \n",
      " Block)                                                           'downsampling_block_13[0][1]']  \n",
      "                                                                                                  \n",
      " upsampling_block_9 (Upsampling  (None, 40, 32)      15456       ['upsampling_block_8[0][0]',     \n",
      " Block)                                                           'downsampling_block_12[0][1]']  \n",
      "                                                                                                  \n",
      " upsampling_block_10 (Upsamplin  (None, 80, 16)      3888        ['upsampling_block_9[0][0]',     \n",
      " gBlock)                                                          'downsampling_block_11[0][1]']  \n",
      "                                                                                                  \n",
      " upsampling_block_11 (Upsamplin  (None, 160, 8)      984         ['upsampling_block_10[0][0]',    \n",
      " gBlock)                                                          'downsampling_block_10[0][1]']  \n",
      "                                                                                                  \n",
      " conv1d_58 (Conv1D)             (None, 160, 4)       100         ['upsampling_block_11[0][0]']    \n",
      "                                                                                                  \n",
      " conv1d_59 (Conv1D)             (None, 160, 3)       15          ['conv1d_58[0][0]']              \n",
      "                                                                                                  \n",
      "==================================================================================================\n",
      "Total params: 180,731\n",
      "Trainable params: 180,731\n",
      "Non-trainable params: 0\n",
      "__________________________________________________________________________________________________\n"
     ]
    }
   ],
   "source": [
    "from model.model1D import Unet,Unet_Model\n",
    "import model.model1D\n",
    "importlib.reload(model.model1D)\n",
    "try: \n",
    "    del unet\n",
    "except:\n",
    "    pass\n",
    "\n",
    "unet = Unet(n_classes=3,n_filters=8)\n",
    "unet.compile(optimizer='adam',\n",
    "              loss=tf.keras.losses.SparseCategoricalCrossentropy(from_logits=True),\n",
    "              metrics=['accuracy'])\n",
    "unet.model((160,2)).summary()"
   ]
  },
  {
   "cell_type": "markdown",
   "metadata": {},
   "source": [
    "## Train Model and save weights and model to files"
   ]
  },
  {
   "cell_type": "code",
   "execution_count": 31,
   "metadata": {},
   "outputs": [
    {
     "name": "stdout",
     "output_type": "stream",
     "text": [
      "Epoch 1/100\n",
      "209/209 [==============================] - 7s 18ms/step - loss: 1.0994 - accuracy: 5.1084e-04\n",
      "Epoch 2/100\n",
      "209/209 [==============================] - 4s 19ms/step - loss: 1.0986 - accuracy: 0.0000e+00\n",
      "Epoch 3/100\n",
      "209/209 [==============================] - 4s 18ms/step - loss: 1.0986 - accuracy: 0.0000e+00\n",
      "Epoch 4/100\n",
      "209/209 [==============================] - 4s 19ms/step - loss: 1.0986 - accuracy: 0.0000e+00\n",
      "Epoch 5/100\n",
      "209/209 [==============================] - 4s 19ms/step - loss: 1.0986 - accuracy: 0.0000e+00\n",
      "Epoch 6/100\n",
      "209/209 [==============================] - 4s 21ms/step - loss: 1.0986 - accuracy: 0.0000e+00\n",
      "Epoch 7/100\n",
      "209/209 [==============================] - 4s 20ms/step - loss: 1.0986 - accuracy: 0.0000e+00\n",
      "Epoch 8/100\n",
      "209/209 [==============================] - 4s 20ms/step - loss: 1.0986 - accuracy: 0.0000e+00\n",
      "Epoch 9/100\n",
      "209/209 [==============================] - 4s 21ms/step - loss: 1.0986 - accuracy: 0.0000e+00\n",
      "Epoch 10/100\n",
      "209/209 [==============================] - 4s 20ms/step - loss: 1.0986 - accuracy: 0.0000e+00\n",
      "Epoch 11/100\n",
      "209/209 [==============================] - 4s 21ms/step - loss: 1.0986 - accuracy: 0.0000e+00\n",
      "Epoch 12/100\n",
      "209/209 [==============================] - 4s 20ms/step - loss: 1.0986 - accuracy: 0.0000e+00\n",
      "Epoch 13/100\n",
      "209/209 [==============================] - 4s 20ms/step - loss: 1.0986 - accuracy: 0.0000e+00\n",
      "Epoch 14/100\n",
      "209/209 [==============================] - 4s 21ms/step - loss: 1.0986 - accuracy: 0.0000e+00\n",
      "Epoch 15/100\n",
      "209/209 [==============================] - 4s 21ms/step - loss: 1.0986 - accuracy: 0.0000e+00\n",
      "Epoch 16/100\n",
      "209/209 [==============================] - 4s 20ms/step - loss: 1.0986 - accuracy: 0.0000e+00\n",
      "Epoch 17/100\n",
      "209/209 [==============================] - 4s 20ms/step - loss: 1.0986 - accuracy: 0.0000e+00\n",
      "Epoch 18/100\n",
      "209/209 [==============================] - 4s 20ms/step - loss: 1.0986 - accuracy: 0.0000e+00\n",
      "Epoch 19/100\n",
      "209/209 [==============================] - 4s 20ms/step - loss: 1.0986 - accuracy: 0.0000e+00\n",
      "Epoch 20/100\n",
      "209/209 [==============================] - 4s 21ms/step - loss: 1.0986 - accuracy: 0.0000e+00\n",
      "Epoch 21/100\n",
      "209/209 [==============================] - 4s 21ms/step - loss: 1.0986 - accuracy: 0.0000e+00\n",
      "Epoch 22/100\n",
      "209/209 [==============================] - 4s 21ms/step - loss: 1.0986 - accuracy: 0.0000e+00\n",
      "Epoch 23/100\n",
      "209/209 [==============================] - 4s 21ms/step - loss: 1.0986 - accuracy: 0.0000e+00\n",
      "Epoch 24/100\n",
      "209/209 [==============================] - 4s 21ms/step - loss: 1.0986 - accuracy: 0.0000e+00\n",
      "Epoch 25/100\n",
      "209/209 [==============================] - 4s 21ms/step - loss: 1.0986 - accuracy: 0.0000e+00\n",
      "Epoch 26/100\n",
      "209/209 [==============================] - 4s 21ms/step - loss: 1.0986 - accuracy: 0.0000e+00\n",
      "Epoch 27/100\n",
      "209/209 [==============================] - 4s 21ms/step - loss: 1.0986 - accuracy: 0.0000e+00\n",
      "Epoch 28/100\n",
      "209/209 [==============================] - 4s 21ms/step - loss: 1.0986 - accuracy: 0.0000e+00\n",
      "Epoch 29/100\n",
      "209/209 [==============================] - 4s 21ms/step - loss: 1.0986 - accuracy: 0.0000e+00\n",
      "Epoch 30/100\n",
      "209/209 [==============================] - 4s 21ms/step - loss: 1.0986 - accuracy: 0.0000e+00\n",
      "Epoch 31/100\n",
      "209/209 [==============================] - 4s 21ms/step - loss: 1.0986 - accuracy: 0.0000e+00\n",
      "Epoch 32/100\n",
      "209/209 [==============================] - 4s 20ms/step - loss: 1.0984 - accuracy: 0.0024\n",
      "Epoch 33/100\n",
      "209/209 [==============================] - 5s 23ms/step - loss: 0.5296 - accuracy: 0.6641\n",
      "Epoch 34/100\n",
      "209/209 [==============================] - 5s 23ms/step - loss: 0.2856 - accuracy: 0.9226\n",
      "Epoch 35/100\n",
      "209/209 [==============================] - 5s 22ms/step - loss: 0.2261 - accuracy: 0.9328\n",
      "Epoch 36/100\n",
      "209/209 [==============================] - 4s 21ms/step - loss: 0.1963 - accuracy: 0.9409\n",
      "Epoch 37/100\n",
      "209/209 [==============================] - 4s 21ms/step - loss: 0.1978 - accuracy: 0.9341\n",
      "Epoch 38/100\n",
      "209/209 [==============================] - 4s 21ms/step - loss: 0.1834 - accuracy: 0.9415\n",
      "Epoch 39/100\n",
      "209/209 [==============================] - 4s 21ms/step - loss: 0.1755 - accuracy: 0.9434\n",
      "Epoch 40/100\n",
      "209/209 [==============================] - 4s 21ms/step - loss: 0.1671 - accuracy: 0.9439\n",
      "Epoch 41/100\n",
      "209/209 [==============================] - 4s 21ms/step - loss: 0.1672 - accuracy: 0.9459\n",
      "Epoch 42/100\n",
      "209/209 [==============================] - 4s 21ms/step - loss: 0.1631 - accuracy: 0.9459\n",
      "Epoch 43/100\n",
      "209/209 [==============================] - 4s 21ms/step - loss: 0.1603 - accuracy: 0.9468\n",
      "Epoch 44/100\n",
      "209/209 [==============================] - 4s 21ms/step - loss: 0.1559 - accuracy: 0.9479\n",
      "Epoch 45/100\n",
      "209/209 [==============================] - 4s 21ms/step - loss: 0.1535 - accuracy: 0.9495\n",
      "Epoch 46/100\n",
      "209/209 [==============================] - 4s 21ms/step - loss: 0.1511 - accuracy: 0.9503\n",
      "Epoch 47/100\n",
      "209/209 [==============================] - 4s 21ms/step - loss: 0.1485 - accuracy: 0.9512\n",
      "Epoch 48/100\n",
      "209/209 [==============================] - 5s 22ms/step - loss: 0.1519 - accuracy: 0.9504\n",
      "Epoch 49/100\n",
      "209/209 [==============================] - 5s 22ms/step - loss: 0.1455 - accuracy: 0.9529\n",
      "Epoch 50/100\n",
      "209/209 [==============================] - 4s 22ms/step - loss: 0.1425 - accuracy: 0.9531\n",
      "Epoch 51/100\n",
      "209/209 [==============================] - 4s 21ms/step - loss: 0.1357 - accuracy: 0.9569\n",
      "Epoch 52/100\n",
      "209/209 [==============================] - 4s 21ms/step - loss: 0.1378 - accuracy: 0.9554\n",
      "Epoch 53/100\n",
      "209/209 [==============================] - 4s 21ms/step - loss: 0.1417 - accuracy: 0.9541\n",
      "Epoch 54/100\n",
      "209/209 [==============================] - 5s 22ms/step - loss: 0.1438 - accuracy: 0.9525\n",
      "Epoch 55/100\n",
      "209/209 [==============================] - 4s 21ms/step - loss: 0.1397 - accuracy: 0.9540\n",
      "Epoch 56/100\n",
      "209/209 [==============================] - 5s 22ms/step - loss: 0.1320 - accuracy: 0.9574\n",
      "Epoch 57/100\n",
      "209/209 [==============================] - 5s 22ms/step - loss: 0.1288 - accuracy: 0.9592\n",
      "Epoch 58/100\n",
      "209/209 [==============================] - 5s 22ms/step - loss: 0.1294 - accuracy: 0.9586\n",
      "Epoch 59/100\n",
      "209/209 [==============================] - 5s 22ms/step - loss: 0.1284 - accuracy: 0.9584\n",
      "Epoch 60/100\n",
      "209/209 [==============================] - 5s 22ms/step - loss: 0.1235 - accuracy: 0.9610\n",
      "Epoch 61/100\n",
      "209/209 [==============================] - 5s 22ms/step - loss: 0.1220 - accuracy: 0.9613\n",
      "Epoch 62/100\n",
      "209/209 [==============================] - 5s 22ms/step - loss: 0.1203 - accuracy: 0.9624\n",
      "Epoch 63/100\n",
      "209/209 [==============================] - 5s 22ms/step - loss: 0.1243 - accuracy: 0.9599\n",
      "Epoch 64/100\n",
      "209/209 [==============================] - 5s 22ms/step - loss: 0.1195 - accuracy: 0.9624\n",
      "Epoch 65/100\n",
      "209/209 [==============================] - 5s 22ms/step - loss: 0.1170 - accuracy: 0.9636\n",
      "Epoch 66/100\n",
      "209/209 [==============================] - 5s 22ms/step - loss: 0.1150 - accuracy: 0.9641\n",
      "Epoch 67/100\n",
      "209/209 [==============================] - 4s 21ms/step - loss: 0.1200 - accuracy: 0.9623\n",
      "Epoch 68/100\n",
      "209/209 [==============================] - 4s 21ms/step - loss: 0.1129 - accuracy: 0.9650\n",
      "Epoch 69/100\n",
      "209/209 [==============================] - 5s 22ms/step - loss: 0.1148 - accuracy: 0.9641\n",
      "Epoch 70/100\n",
      "209/209 [==============================] - 4s 21ms/step - loss: 0.1229 - accuracy: 0.9605\n",
      "Epoch 71/100\n",
      "209/209 [==============================] - 4s 21ms/step - loss: 0.1277 - accuracy: 0.9593\n",
      "Epoch 72/100\n",
      "209/209 [==============================] - 4s 21ms/step - loss: 0.1155 - accuracy: 0.9636\n",
      "Epoch 73/100\n",
      "209/209 [==============================] - 4s 21ms/step - loss: 0.1112 - accuracy: 0.9647\n",
      "Epoch 74/100\n",
      "209/209 [==============================] - 5s 22ms/step - loss: 0.1075 - accuracy: 0.9666\n",
      "Epoch 75/100\n",
      "209/209 [==============================] - 5s 22ms/step - loss: 0.1057 - accuracy: 0.9677\n",
      "Epoch 76/100\n",
      "209/209 [==============================] - 5s 24ms/step - loss: 0.1035 - accuracy: 0.9679\n",
      "Epoch 77/100\n",
      "209/209 [==============================] - 5s 22ms/step - loss: 0.1163 - accuracy: 0.9639\n",
      "Epoch 78/100\n",
      "209/209 [==============================] - 5s 23ms/step - loss: 0.1177 - accuracy: 0.9621\n",
      "Epoch 79/100\n",
      "209/209 [==============================] - 6s 26ms/step - loss: 0.1024 - accuracy: 0.9681\n",
      "Epoch 80/100\n",
      "209/209 [==============================] - 5s 24ms/step - loss: 0.1074 - accuracy: 0.9662\n",
      "Epoch 81/100\n",
      "209/209 [==============================] - 5s 24ms/step - loss: 0.1013 - accuracy: 0.9687\n",
      "Epoch 82/100\n",
      "209/209 [==============================] - 5s 23ms/step - loss: 0.1045 - accuracy: 0.9670\n",
      "Epoch 83/100\n",
      "209/209 [==============================] - 5s 23ms/step - loss: 0.1041 - accuracy: 0.9673\n",
      "Epoch 84/100\n",
      "209/209 [==============================] - 5s 24ms/step - loss: 0.1105 - accuracy: 0.9648\n",
      "Epoch 85/100\n",
      "209/209 [==============================] - 5s 23ms/step - loss: 0.1122 - accuracy: 0.9641\n",
      "Epoch 86/100\n",
      "209/209 [==============================] - 5s 22ms/step - loss: 0.0984 - accuracy: 0.9691\n",
      "Epoch 87/100\n",
      "209/209 [==============================] - 5s 22ms/step - loss: 0.1039 - accuracy: 0.9669\n",
      "Epoch 88/100\n",
      "209/209 [==============================] - 5s 22ms/step - loss: 0.0987 - accuracy: 0.9689\n",
      "Epoch 89/100\n",
      "209/209 [==============================] - 5s 22ms/step - loss: 0.1069 - accuracy: 0.9658\n",
      "Epoch 90/100\n",
      "209/209 [==============================] - 5s 22ms/step - loss: 0.0989 - accuracy: 0.9685\n",
      "Epoch 91/100\n",
      "209/209 [==============================] - 5s 22ms/step - loss: 0.1044 - accuracy: 0.9675\n",
      "Epoch 92/100\n",
      "209/209 [==============================] - 5s 22ms/step - loss: 0.1059 - accuracy: 0.9659\n",
      "Epoch 93/100\n",
      "209/209 [==============================] - 5s 23ms/step - loss: 0.0969 - accuracy: 0.9696\n",
      "Epoch 94/100\n",
      "209/209 [==============================] - 5s 22ms/step - loss: 0.0970 - accuracy: 0.9687\n",
      "Epoch 95/100\n",
      "209/209 [==============================] - 5s 22ms/step - loss: 0.0958 - accuracy: 0.9695\n",
      "Epoch 96/100\n",
      "209/209 [==============================] - 5s 22ms/step - loss: 0.0933 - accuracy: 0.9704\n",
      "Epoch 97/100\n",
      "209/209 [==============================] - 5s 22ms/step - loss: 0.0932 - accuracy: 0.9706\n",
      "Epoch 98/100\n",
      "209/209 [==============================] - 5s 22ms/step - loss: 0.0925 - accuracy: 0.9703\n",
      "Epoch 99/100\n",
      "209/209 [==============================] - 5s 22ms/step - loss: 0.0921 - accuracy: 0.9711\n",
      "Epoch 100/100\n",
      "209/209 [==============================] - 5s 22ms/step - loss: 0.1002 - accuracy: 0.9674\n",
      "WARNING:tensorflow:Skipping full serialization of Keras layer <keras.layers.regularization.dropout.Dropout object at 0x000001BC8F23A6B0>, because it is not built.\n"
     ]
    },
    {
     "name": "stderr",
     "output_type": "stream",
     "text": [
      "WARNING:tensorflow:Skipping full serialization of Keras layer <keras.layers.regularization.dropout.Dropout object at 0x000001BC8F23A6B0>, because it is not built.\n"
     ]
    },
    {
     "name": "stdout",
     "output_type": "stream",
     "text": [
      "WARNING:tensorflow:Skipping full serialization of Keras layer <keras.layers.regularization.dropout.Dropout object at 0x000001BC8EE02AD0>, because it is not built.\n"
     ]
    },
    {
     "name": "stderr",
     "output_type": "stream",
     "text": [
      "WARNING:tensorflow:Skipping full serialization of Keras layer <keras.layers.regularization.dropout.Dropout object at 0x000001BC8EE02AD0>, because it is not built.\n"
     ]
    },
    {
     "name": "stdout",
     "output_type": "stream",
     "text": [
      "WARNING:tensorflow:Skipping full serialization of Keras layer <keras.layers.regularization.dropout.Dropout object at 0x000001BC8EE00F10>, because it is not built.\n"
     ]
    },
    {
     "name": "stderr",
     "output_type": "stream",
     "text": [
      "WARNING:tensorflow:Skipping full serialization of Keras layer <keras.layers.regularization.dropout.Dropout object at 0x000001BC8EE00F10>, because it is not built.\n"
     ]
    },
    {
     "name": "stdout",
     "output_type": "stream",
     "text": [
      "WARNING:tensorflow:Skipping full serialization of Keras layer <keras.layers.pooling.max_pooling1d.MaxPooling1D object at 0x000001BCD71D1C00>, because it is not built.\n"
     ]
    },
    {
     "name": "stderr",
     "output_type": "stream",
     "text": [
      "WARNING:tensorflow:Skipping full serialization of Keras layer <keras.layers.pooling.max_pooling1d.MaxPooling1D object at 0x000001BCD71D1C00>, because it is not built.\n",
      "WARNING:absl:Found untraced functions such as _jit_compiled_convolution_op, _jit_compiled_convolution_op, _update_step_xla, double_conv1d_18_layer_call_fn, double_conv1d_18_layer_call_and_return_conditional_losses while saving (showing 5 of 91). These functions will not be directly callable after loading.\n"
     ]
    },
    {
     "name": "stdout",
     "output_type": "stream",
     "text": [
      "INFO:tensorflow:Assets written to: model/saved_models/unet_v1_2023-09-30\\assets\n"
     ]
    },
    {
     "name": "stderr",
     "output_type": "stream",
     "text": [
      "INFO:tensorflow:Assets written to: model/saved_models/unet_v1_2023-09-30\\assets\n"
     ]
    }
   ],
   "source": [
    "from datetime import datetime\n",
    "#train model\n",
    "history = unet.fit(X_train,y_train,epochs = 100)\n",
    "\n",
    "\n",
    "# Include the epoch in the file name (uses `str.format`)\n",
    "checkpoint_path = \"model/weights/cp-{epoch:04d}.ckpt\"\n",
    "# save weights \n",
    "unet.save_weights(checkpoint_path.format(epoch=100))\n",
    "#save model\n",
    "models_path = \"model/saved_models/unet_{version}_{now}\"\n",
    "unet.save(models_path.format(version = \"v1\", now = str(datetime.now().date())))"
   ]
  },
  {
   "cell_type": "code",
   "execution_count": null,
   "metadata": {},
   "outputs": [
    {
     "data": {
      "text/plain": [
       "[<matplotlib.lines.Line2D at 0x23b596e8a60>]"
      ]
     },
     "metadata": {},
     "output_type": "display_data"
    },
    {
     "data": {
      "image/png": "[encoded data removed]",
      "text/plain": [
       "<Figure size 640x480 with 1 Axes>"
      ]
     },
     "metadata": {},
     "output_type": "display_data"
    }
   ],
   "source": [
    "from matplotlib import pyplot as plt\n",
    "plt.plot(history.history[\"accuracy\"])"
   ]
  },
  {
   "cell_type": "code",
   "execution_count": 18,
   "metadata": {},
   "outputs": [],
   "source": [
    "def accuracy(real,pred):\n",
    "    comp = real == pred\n",
    "    return np.sum(comp)/(comp.shape[0]*comp.shape[1])\n",
    "\n",
    "\n",
    "y_train_pred = unet.predict(X_train)\n",
    "print(\"train accuracy : \" + str(accuracy(y_train,y_train_pred)))\n",
    "\n",
    "\n",
    "y_test_pred = unet.predict(X_test)\n",
    "print(\"test accuracy : \" +  str(accuracy(y_test,y_test_pred)))"
   ]
  },
  {
   "cell_type": "code",
   "execution_count": 167,
   "metadata": {},
   "outputs": [
    {
     "ename": "ValueError",
     "evalue": "Must pass 2-d input. shape=(51, 8640, 3)",
     "output_type": "error",
     "traceback": [
      "\u001b[1;31m---------------------------------------------------------------------------\u001b[0m",
      "\u001b[1;31mValueError\u001b[0m                                Traceback (most recent call last)",
      "\u001b[1;32md:\\DEV\\Projekty\\PythonProjects\\Kaggle\\Detect-sleep-state\\unet_test.ipynb Cell 20\u001b[0m line \u001b[0;36m7\n\u001b[0;32m      <a href='vscode-notebook-cell:/d%3A/DEV/Projekty/PythonProjects/Kaggle/Detect-sleep-state/unet_test.ipynb#X22sZmlsZQ%3D%3D?line=3'>4</a>\u001b[0m \u001b[39m# import os\u001b[39;00m\n\u001b[0;32m      <a href='vscode-notebook-cell:/d%3A/DEV/Projekty/PythonProjects/Kaggle/Detect-sleep-state/unet_test.ipynb#X22sZmlsZQ%3D%3D?line=4'>5</a>\u001b[0m \u001b[39m# os.chdir(r'kaggle/working')'\u001b[39;00m\n\u001b[0;32m      <a href='vscode-notebook-cell:/d%3A/DEV/Projekty/PythonProjects/Kaggle/Detect-sleep-state/unet_test.ipynb#X22sZmlsZQ%3D%3D?line=5'>6</a>\u001b[0m filename \u001b[39m=\u001b[39m \u001b[39m'\u001b[39m\u001b[39mtrain_\u001b[39m\u001b[39m'\u001b[39m \u001b[39m+\u001b[39m\u001b[39m'\u001b[39m\u001b[39m.csv\u001b[39m\u001b[39m'\u001b[39m\n\u001b[1;32m----> <a href='vscode-notebook-cell:/d%3A/DEV/Projekty/PythonProjects/Kaggle/Detect-sleep-state/unet_test.ipynb#X22sZmlsZQ%3D%3D?line=6'>7</a>\u001b[0m pd\u001b[39m.\u001b[39;49mDataFrame(test_mask)\u001b[39m.\u001b[39mto_csv(filename)\n\u001b[0;32m      <a href='vscode-notebook-cell:/d%3A/DEV/Projekty/PythonProjects/Kaggle/Detect-sleep-state/unet_test.ipynb#X22sZmlsZQ%3D%3D?line=8'>9</a>\u001b[0m FileLink(filename)\n",
      "File \u001b[1;32md:\\DEV\\Projekty\\PythonProjects\\venv\\lib\\site-packages\\pandas\\core\\frame.py:758\u001b[0m, in \u001b[0;36mDataFrame.__init__\u001b[1;34m(self, data, index, columns, dtype, copy)\u001b[0m\n\u001b[0;32m    747\u001b[0m         mgr \u001b[39m=\u001b[39m dict_to_mgr(\n\u001b[0;32m    748\u001b[0m             \u001b[39m# error: Item \"ndarray\" of \"Union[ndarray, Series, Index]\" has no\u001b[39;00m\n\u001b[0;32m    749\u001b[0m             \u001b[39m# attribute \"name\"\u001b[39;00m\n\u001b[1;32m   (...)\u001b[0m\n\u001b[0;32m    755\u001b[0m             copy\u001b[39m=\u001b[39m_copy,\n\u001b[0;32m    756\u001b[0m         )\n\u001b[0;32m    757\u001b[0m     \u001b[39melse\u001b[39;00m:\n\u001b[1;32m--> 758\u001b[0m         mgr \u001b[39m=\u001b[39m ndarray_to_mgr(\n\u001b[0;32m    759\u001b[0m             data,\n\u001b[0;32m    760\u001b[0m             index,\n\u001b[0;32m    761\u001b[0m             columns,\n\u001b[0;32m    762\u001b[0m             dtype\u001b[39m=\u001b[39;49mdtype,\n\u001b[0;32m    763\u001b[0m             copy\u001b[39m=\u001b[39;49mcopy,\n\u001b[0;32m    764\u001b[0m             typ\u001b[39m=\u001b[39;49mmanager,\n\u001b[0;32m    765\u001b[0m         )\n\u001b[0;32m    767\u001b[0m \u001b[39m# For data is list-like, or Iterable (will consume into list)\u001b[39;00m\n\u001b[0;32m    768\u001b[0m \u001b[39melif\u001b[39;00m is_list_like(data):\n",
      "File \u001b[1;32md:\\DEV\\Projekty\\PythonProjects\\venv\\lib\\site-packages\\pandas\\core\\internals\\construction.py:315\u001b[0m, in \u001b[0;36mndarray_to_mgr\u001b[1;34m(values, index, columns, dtype, copy, typ)\u001b[0m\n\u001b[0;32m    309\u001b[0m     _copy \u001b[39m=\u001b[39m (\n\u001b[0;32m    310\u001b[0m         copy_on_sanitize\n\u001b[0;32m    311\u001b[0m         \u001b[39mif\u001b[39;00m (dtype \u001b[39mis\u001b[39;00m \u001b[39mNone\u001b[39;00m \u001b[39mor\u001b[39;00m astype_is_view(values\u001b[39m.\u001b[39mdtype, dtype))\n\u001b[0;32m    312\u001b[0m         \u001b[39melse\u001b[39;00m \u001b[39mFalse\u001b[39;00m\n\u001b[0;32m    313\u001b[0m     )\n\u001b[0;32m    314\u001b[0m     values \u001b[39m=\u001b[39m np\u001b[39m.\u001b[39marray(values, copy\u001b[39m=\u001b[39m_copy)\n\u001b[1;32m--> 315\u001b[0m     values \u001b[39m=\u001b[39m _ensure_2d(values)\n\u001b[0;32m    317\u001b[0m \u001b[39melse\u001b[39;00m:\n\u001b[0;32m    318\u001b[0m     \u001b[39m# by definition an array here\u001b[39;00m\n\u001b[0;32m    319\u001b[0m     \u001b[39m# the dtypes will be coerced to a single dtype\u001b[39;00m\n\u001b[0;32m    320\u001b[0m     values \u001b[39m=\u001b[39m _prep_ndarraylike(values, copy\u001b[39m=\u001b[39mcopy_on_sanitize)\n",
      "File \u001b[1;32md:\\DEV\\Projekty\\PythonProjects\\venv\\lib\\site-packages\\pandas\\core\\internals\\construction.py:570\u001b[0m, in \u001b[0;36m_ensure_2d\u001b[1;34m(values)\u001b[0m\n\u001b[0;32m    568\u001b[0m     values \u001b[39m=\u001b[39m values\u001b[39m.\u001b[39mreshape((values\u001b[39m.\u001b[39mshape[\u001b[39m0\u001b[39m], \u001b[39m1\u001b[39m))\n\u001b[0;32m    569\u001b[0m \u001b[39melif\u001b[39;00m values\u001b[39m.\u001b[39mndim \u001b[39m!=\u001b[39m \u001b[39m2\u001b[39m:\n\u001b[1;32m--> 570\u001b[0m     \u001b[39mraise\u001b[39;00m \u001b[39mValueError\u001b[39;00m(\u001b[39mf\u001b[39m\u001b[39m\"\u001b[39m\u001b[39mMust pass 2-d input. shape=\u001b[39m\u001b[39m{\u001b[39;00mvalues\u001b[39m.\u001b[39mshape\u001b[39m}\u001b[39;00m\u001b[39m\"\u001b[39m)\n\u001b[0;32m    571\u001b[0m \u001b[39mreturn\u001b[39;00m values\n",
      "\u001b[1;31mValueError\u001b[0m: Must pass 2-d input. shape=(51, 8640, 3)"
     ]
    }
   ],
   "source": [
    "from IPython.display import FileLink\n",
    "import pandas as pd\n",
    "\n",
    "# import os\n",
    "# os.chdir(r'kaggle/working')'\n",
    "filename = 'train_' +'.csv'\n",
    "pd.DataFrame(test_mask).to_csv(filename)\n",
    "\n",
    "FileLink(filename)\n",
    "\n"
   ]
  }
 ],
 "metadata": {
  "kernelspec": {
   "display_name": "venv",
   "language": "python",
   "name": "venv"
  },
  "language_info": {
   "codemirror_mode": {
    "name": "ipython",
    "version": 3
   },
   "file_extension": ".py",
   "mimetype": "text/x-python",
   "name": "python",
   "nbconvert_exporter": "python",
   "pygments_lexer": "ipython3",
   "version": "3.10.4"
  },
  "orig_nbformat": 4
 },
 "nbformat": 4,
 "nbformat_minor": 2
}
