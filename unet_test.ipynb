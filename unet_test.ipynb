{
 "cells": [
  {
   "cell_type": "markdown",
   "metadata": {},
   "source": []
  },
  {
   "cell_type": "code",
   "execution_count": 14,
   "metadata": {},
   "outputs": [],
   "source": [
    "import tensorflow as tf\n",
    "import importlib\n",
    "from model.model import Unet,Unet_Model\n",
    "import model.model\n",
    "importlib.reload(model.model)\n",
    "try: \n",
    "    del unet\n",
    "except:\n",
    "    pass\n",
    "\n"
   ]
  },
  {
   "cell_type": "code",
   "execution_count": 16,
   "metadata": {},
   "outputs": [
    {
     "name": "stdout",
     "output_type": "stream",
     "text": [
      "5\n",
      "4\n",
      "(None, 8, 8, 512)\n",
      "(None, 16, 16, 256) (None, 16, 16, 256)\n",
      "(None, 16, 16, 256)\n",
      "(None, 32, 32, 128) (None, 32, 32, 128)\n",
      "(None, 32, 32, 128)\n",
      "(None, 64, 64, 64) (None, 64, 64, 64)\n",
      "(None, 64, 64, 64)\n",
      "(None, 128, 128, 32) (None, 128, 128, 32)\n",
      "Model: \"model_2\"\n",
      "__________________________________________________________________________________________________\n",
      " Layer (type)                   Output Shape         Param #     Connected to                     \n",
      "==================================================================================================\n",
      " input_3 (InputLayer)           [(None, 128, 128, 1  0           []                               \n",
      "                                )]                                                                \n",
      "                                                                                                  \n",
      " downsampling_block_35 (Downsam  ((None, 64, 64, 32)  9568       ['input_3[0][0]']                \n",
      " plingBlock)                    , (None, 128, 128,                                                \n",
      "                                32))                                                              \n",
      "                                                                                                  \n",
      " downsampling_block_36 (Downsam  ((None, 32, 32, 64)  55424      ['downsampling_block_35[0][0]']  \n",
      " plingBlock)                    , (None, 64, 64, 64                                               \n",
      "                                ))                                                                \n",
      "                                                                                                  \n",
      " downsampling_block_37 (Downsam  ((None, 16, 16, 128  221440     ['downsampling_block_36[0][0]']  \n",
      " plingBlock)                    ),                                                                \n",
      "                                 (None, 32, 32, 128                                               \n",
      "                                ))                                                                \n",
      "                                                                                                  \n",
      " downsampling_block_38 (Downsam  ((None, 8, 8, 256),  885248     ['downsampling_block_37[0][0]']  \n",
      " plingBlock)                     (None, 16, 16, 256                                               \n",
      "                                ))                                                                \n",
      "                                                                                                  \n",
      " downsampling_block_39 (Downsam  ((None, 8, 8, 512),  3539968    ['downsampling_block_38[0][0]']  \n",
      " plingBlock)                     (None, 8, 8, 512))                                               \n",
      "                                                                                                  \n",
      " upsampling_block_28 (Upsamplin  (None, 16, 16, 256)  2949888    ['downsampling_block_39[0][0]',  \n",
      " gBlock)                                                          'downsampling_block_38[0][1]']  \n",
      "                                                                                                  \n",
      " upsampling_block_29 (Upsamplin  (None, 32, 32, 128)  737664     ['upsampling_block_28[0][0]',    \n",
      " gBlock)                                                          'downsampling_block_37[0][1]']  \n",
      "                                                                                                  \n",
      " upsampling_block_30 (Upsamplin  (None, 64, 64, 64)  184512      ['upsampling_block_29[0][0]',    \n",
      " gBlock)                                                          'downsampling_block_36[0][1]']  \n",
      "                                                                                                  \n",
      " upsampling_block_31 (Upsamplin  (None, 128, 128, 32  46176      ['upsampling_block_30[0][0]',    \n",
      " gBlock)                        )                                 'downsampling_block_35[0][1]']  \n",
      "                                                                                                  \n",
      " conv2d_156 (Conv2D)            (None, 128, 128, 16  4624        ['upsampling_block_31[0][0]']    \n",
      "                                )                                                                 \n",
      "                                                                                                  \n",
      " conv2d_157 (Conv2D)            (None, 128, 128, 4)  68          ['conv2d_156[0][0]']             \n",
      "                                                                                                  \n",
      "==================================================================================================\n",
      "Total params: 8,634,580\n",
      "Trainable params: 8,634,580\n",
      "Non-trainable params: 0\n",
      "__________________________________________________________________________________________________\n"
     ]
    }
   ],
   "source": [
    "unet = Unet(n_classes=4)\n",
    "unet.compile(optimizer='adam',\n",
    "              loss=tf.keras.losses.SparseCategoricalCrossentropy(from_logits=True),\n",
    "              metrics=['accuracy'])\n",
    "unet.model((128,128,1)).summary()\n",
    " "
   ]
  },
  {
   "cell_type": "code",
   "execution_count": 18,
   "metadata": {},
   "outputs": [
    {
     "ename": "NameError",
     "evalue": "name 'Series' is not defined",
     "output_type": "error",
     "traceback": [
      "\u001b[1;31m---------------------------------------------------------------------------\u001b[0m",
      "\u001b[1;31mNameError\u001b[0m                                 Traceback (most recent call last)",
      "\u001b[1;32md:\\DEV\\Projekty\\PythonProjects\\Kaggle\\Detect-sleep-state\\unet_test.ipynb Cell 4\u001b[0m line \u001b[0;36m1\n\u001b[1;32m----> <a href='vscode-notebook-cell:/d%3A/DEV/Projekty/PythonProjects/Kaggle/Detect-sleep-state/unet_test.ipynb#W4sZmlsZQ%3D%3D?line=0'>1</a>\u001b[0m \u001b[39mfrom\u001b[39;00m \u001b[39mdataloader\u001b[39;00m\u001b[39m.\u001b[39;00m\u001b[39mdataloader\u001b[39;00m \u001b[39mimport\u001b[39;00m Series,Serie\n\u001b[0;32m      <a href='vscode-notebook-cell:/d%3A/DEV/Projekty/PythonProjects/Kaggle/Detect-sleep-state/unet_test.ipynb#W4sZmlsZQ%3D%3D?line=1'>2</a>\u001b[0m \u001b[39mfrom\u001b[39;00m \u001b[39mconfigs\u001b[39;00m\u001b[39m.\u001b[39;00m\u001b[39mconfig\u001b[39;00m \u001b[39mimport\u001b[39;00m CFG\n\u001b[0;32m      <a href='vscode-notebook-cell:/d%3A/DEV/Projekty/PythonProjects/Kaggle/Detect-sleep-state/unet_test.ipynb#W4sZmlsZQ%3D%3D?line=2'>3</a>\u001b[0m \u001b[39mimport\u001b[39;00m \u001b[39mpandas\u001b[39;00m \u001b[39mas\u001b[39;00m \u001b[39mpd\u001b[39;00m\n",
      "File \u001b[1;32md:\\DEV\\Projekty\\PythonProjects\\Kaggle\\Detect-sleep-state\\dataloader\\dataloader.py:7\u001b[0m\n\u001b[0;32m      3\u001b[0m \u001b[39mfrom\u001b[39;00m \u001b[39mpathlib\u001b[39;00m \u001b[39mimport\u001b[39;00m PurePosixPath\n\u001b[0;32m      4\u001b[0m \u001b[39mfrom\u001b[39;00m \u001b[39msklearn\u001b[39;00m\u001b[39m.\u001b[39;00m\u001b[39mmodel_selection\u001b[39;00m \u001b[39mimport\u001b[39;00m train_test_split\n\u001b[1;32m----> 7\u001b[0m \u001b[39mclass\u001b[39;00m \u001b[39mDataset\u001b[39;00m:\n\u001b[0;32m      8\u001b[0m     \u001b[39mdef\u001b[39;00m \u001b[39m__init__\u001b[39m(\u001b[39mself\u001b[39m, series) \u001b[39m-\u001b[39m\u001b[39m>\u001b[39m \u001b[39mNone\u001b[39;00m:\n\u001b[0;32m      9\u001b[0m         \u001b[39mself\u001b[39m\u001b[39m.\u001b[39mds \u001b[39m=\u001b[39m \u001b[39mself\u001b[39m\u001b[39m.\u001b[39m_create_dataset_from_slices(series)\n",
      "File \u001b[1;32md:\\DEV\\Projekty\\PythonProjects\\Kaggle\\Detect-sleep-state\\dataloader\\dataloader.py:18\u001b[0m, in \u001b[0;36mDataset\u001b[1;34m()\u001b[0m\n\u001b[0;32m     14\u001b[0m     \u001b[39mself\u001b[39m\u001b[39m.\u001b[39mx_test \u001b[39m=\u001b[39m \u001b[39mNone\u001b[39;00m\n\u001b[0;32m     15\u001b[0m     \u001b[39mself\u001b[39m\u001b[39m.\u001b[39my_test \u001b[39m=\u001b[39m \u001b[39mNone\u001b[39;00m\n\u001b[1;32m---> 18\u001b[0m \u001b[39mdef\u001b[39;00m \u001b[39m_create_dataset_from_slices\u001b[39m(\u001b[39mself\u001b[39m,series : Series):\n\u001b[0;32m     19\u001b[0m     ds_from_slices \u001b[39m=\u001b[39m \u001b[39mNone\u001b[39;00m\n\u001b[0;32m     20\u001b[0m     \u001b[39mfor\u001b[39;00m serie_id \u001b[39min\u001b[39;00m series\u001b[39m.\u001b[39mseries: \n",
      "\u001b[1;31mNameError\u001b[0m: name 'Series' is not defined"
     ]
    }
   ],
   "source": [
    "from dataloader.dataloader import Series,Serie\n",
    "from configs.config import CFG\n",
    "import pandas as pd\n",
    "import numpy as np\n"
   ]
  },
  {
   "cell_type": "code",
   "execution_count": null,
   "metadata": {},
   "outputs": [],
   "source": [
    "import importlib\n",
    "import dataloader.dataloader\n",
    "from dataloader.dataloader import Series,Serie,Dataset\n",
    "importlib.reload(dataloader.dataloader)\n",
    "try: \n",
    "    del series\n",
    "except:\n",
    "    pass\n",
    "\n",
    "from configs.config import CFG\n",
    "from utils import config\n",
    "config = config.Config.from_json(CFG)"
   ]
  },
  {
   "cell_type": "code",
   "execution_count": null,
   "metadata": {},
   "outputs": [],
   "source": [
    "series = Series(config.data,config.paths)\n",
    "series.createSeries()\n",
    "ds = Dataset(series)\n",
    "ds.split_dataset()\n"
   ]
  },
  {
   "cell_type": "code",
   "execution_count": null,
   "metadata": {},
   "outputs": [],
   "source": []
  }
 ],
 "metadata": {
  "kernelspec": {
   "display_name": "venv",
   "language": "python",
   "name": "venv"
  },
  "language_info": {
   "codemirror_mode": {
    "name": "ipython",
    "version": 3
   },
   "file_extension": ".py",
   "mimetype": "text/x-python",
   "name": "python",
   "nbconvert_exporter": "python",
   "pygments_lexer": "ipython3",
   "version": "3.10.4"
  },
  "orig_nbformat": 4
 },
 "nbformat": 4,
 "nbformat_minor": 2
}
