{
 "cells": [
  {
   "cell_type": "markdown",
   "metadata": {},
   "source": []
  },
  {
   "cell_type": "code",
   "execution_count": 1,
   "metadata": {},
   "outputs": [],
   "source": [
    "import tensorflow as tf\n",
    "import importlib\n",
    "from model.model1D import Unet,Unet_Model\n",
    "import model.model1D\n",
    "importlib.reload(model.model1D)\n",
    "try: \n",
    "    del unet\n",
    "except:\n",
    "    pass\n",
    "import numpy as np\n"
   ]
  },
  {
   "cell_type": "code",
   "execution_count": 2,
   "metadata": {},
   "outputs": [
    {
     "name": "stdout",
     "output_type": "stream",
     "text": [
      "5\n",
      "4\n",
      "Model: \"model\"\n",
      "__________________________________________________________________________________________________\n",
      " Layer (type)                   Output Shape         Param #     Connected to                     \n",
      "==================================================================================================\n",
      " input_1 (InputLayer)           [(None, 8640, 2)]    0           []                               \n",
      "                                                                                                  \n",
      " downsampling_block (Downsampli  ((None, 4320, 8),   256         ['input_1[0][0]']                \n",
      " ngBlock)                        (None, 8640, 8))                                                 \n",
      "                                                                                                  \n",
      " downsampling_block_1 (Downsamp  ((None, 2160, 16),  1184        ['downsampling_block[0][0]']     \n",
      " lingBlock)                      (None, 4320, 16))                                                \n",
      "                                                                                                  \n",
      " downsampling_block_2 (Downsamp  ((None, 1080, 32),  4672        ['downsampling_block_1[0][0]']   \n",
      " lingBlock)                      (None, 2160, 32))                                                \n",
      "                                                                                                  \n",
      " downsampling_block_3 (Downsamp  ((None, 540, 64),   18560       ['downsampling_block_2[0][0]']   \n",
      " lingBlock)                      (None, 1080, 64))                                                \n",
      "                                                                                                  \n",
      " downsampling_block_4 (Downsamp  ((None, 540, 128),  73984       ['downsampling_block_3[0][0]']   \n",
      " lingBlock)                      (None, 540, 128))                                                \n",
      "                                                                                                  \n",
      " upsampling_block (UpsamplingBl  (None, 1080, 64)    61632       ['downsampling_block_4[0][0]',   \n",
      " ock)                                                             'downsampling_block_3[0][1]']   \n",
      "                                                                                                  \n",
      " upsampling_block_1 (Upsampling  (None, 2160, 32)    15456       ['upsampling_block[0][0]',       \n",
      " Block)                                                           'downsampling_block_2[0][1]']   \n",
      "                                                                                                  \n",
      " upsampling_block_2 (Upsampling  (None, 4320, 16)    3888        ['upsampling_block_1[0][0]',     \n",
      " Block)                                                           'downsampling_block_1[0][1]']   \n",
      "                                                                                                  \n",
      " upsampling_block_3 (Upsampling  (None, 8640, 8)     984         ['upsampling_block_2[0][0]',     \n",
      " Block)                                                           'downsampling_block[0][1]']     \n",
      "                                                                                                  \n",
      " conv1d_18 (Conv1D)             (None, 8640, 4)      100         ['upsampling_block_3[0][0]']     \n",
      "                                                                                                  \n",
      " conv1d_19 (Conv1D)             (None, 8640, 5)      25          ['conv1d_18[0][0]']              \n",
      "                                                                                                  \n",
      "==================================================================================================\n",
      "Total params: 180,741\n",
      "Trainable params: 180,741\n",
      "Non-trainable params: 0\n",
      "__________________________________________________________________________________________________\n"
     ]
    }
   ],
   "source": [
    "unet = Unet(n_classes=5,n_filters=8)\n",
    "unet.compile(optimizer='adam',\n",
    "              loss=tf.keras.losses.SparseCategoricalCrossentropy(from_logits=True),\n",
    "              metrics=['accuracy'])\n",
    "unet.model((8640,2)).summary()\n",
    " "
   ]
  },
  {
   "cell_type": "code",
   "execution_count": 3,
   "metadata": {},
   "outputs": [],
   "source": [
    "import importlib\n",
    "import dataloader.dataloader\n",
    "import configs.config\n",
    "from dataloader.dataloader import Series,TrainSerie,Dataset\n",
    "importlib.reload(dataloader.dataloader)\n",
    "importlib.reload(configs.config)\n",
    "try: \n",
    "    del series\n",
    "except:\n",
    "    pass\n",
    "\n",
    "from configs.config import CFG\n",
    "from utils import config\n",
    "config = config.Config.from_json(CFG)"
   ]
  },
  {
   "cell_type": "code",
   "execution_count": 4,
   "metadata": {},
   "outputs": [],
   "source": [
    "series = Series(config.data,config.paths)\n",
    "series.createSeries()\n",
    "ds = Dataset(series)\n",
    "ds.split_dataset()\n"
   ]
  },
  {
   "cell_type": "code",
   "execution_count": 5,
   "metadata": {},
   "outputs": [
    {
     "data": {
      "text/plain": [
       "array([[[-1.56172417e+00, -3.70847879e-01],\n",
       "        [-1.56165690e+00, -3.71777134e-01],\n",
       "        [-1.56375655e+00, -3.70847879e-01],\n",
       "        ...,\n",
       "        [-1.19942599e+00, -1.93381893e-03],\n",
       "        [-2.62084872e-01,  1.75900357e+00],\n",
       "        [-2.31553425e-01,  1.50624633e+00]],\n",
       "\n",
       "       [[ 3.36417009e-01,  6.11374191e-01],\n",
       "        [ 4.49894341e-01, -3.91040013e-02],\n",
       "        [ 7.00752374e-01,  5.89072081e-01],\n",
       "        ...,\n",
       "        [ 1.27060144e+00, -3.71777134e-01],\n",
       "        [ 1.27060144e+00, -3.71777134e-01],\n",
       "        [ 1.18594749e+00, -3.67130861e-01]],\n",
       "\n",
       "       [[ 2.24039952e-01,  1.03325576e+00],\n",
       "        [ 1.22344958e-02,  1.84914127e+00],\n",
       "        [ 5.81264365e-01,  8.24173485e-01],\n",
       "        ...,\n",
       "        [-1.02560647e+00, -8.43860085e-03],\n",
       "        [-6.05411700e-01,  1.25070133e+00],\n",
       "        [ 3.38002559e-01,  8.46357523e+00]],\n",
       "\n",
       "       ...,\n",
       "\n",
       "       [[-1.04832308e+00,  2.06658683e+00],\n",
       "        [-1.41417433e+00, -3.18809624e-01],\n",
       "        [-9.25308423e-01,  1.21724816e+00],\n",
       "        ...,\n",
       "        [ 6.76058634e-01,  2.47106403e-01],\n",
       "        [ 3.35299917e-01,  4.30169552e-01],\n",
       "        [ 7.78522421e-02,  4.66410480e-01]],\n",
       "\n",
       "       [[ 4.37082617e-01, -2.05189101e-02],\n",
       "        [-1.00212229e-01,  1.47927632e-02],\n",
       "        [-4.27839710e-01,  4.45289091e-02],\n",
       "        ...,\n",
       "        [ 1.12518489e+00,  5.50021755e-03],\n",
       "        [ 1.07605926e+00,  5.97435373e-01],\n",
       "        [ 1.98753190e+00,  8.44868552e-02]],\n",
       "\n",
       "       [[ 1.18430310e-01,  3.27022295e-01],\n",
       "        [-7.80313459e-02,  4.19018497e-01],\n",
       "        [ 3.16535173e-01,  7.25672502e-01],\n",
       "        ...,\n",
       "        [ 9.35944692e-01, -3.71777134e-01],\n",
       "        [ 9.36886413e-01, -3.71777134e-01],\n",
       "        [ 9.39192667e-01, -3.71777134e-01]]])"
      ]
     },
     "execution_count": 5,
     "metadata": {},
     "output_type": "execute_result"
    }
   ],
   "source": [
    "X_train = ds.X_train\n",
    "y_train = ds.y_train\n",
    "X_test = ds.X_test\n",
    "y_test = ds.y_test\n",
    "\n",
    "X_train"
   ]
  },
  {
   "cell_type": "code",
   "execution_count": 6,
   "metadata": {},
   "outputs": [
    {
     "name": "stdout",
     "output_type": "stream",
     "text": [
      "Epoch 1/100\n",
      "5\n",
      "4\n",
      "5\n",
      "4\n",
      "8/8 [==============================] - 6s 224ms/step - loss: 1.5304 - accuracy: 0.4810\n",
      "Epoch 2/100\n",
      "8/8 [==============================] - 2s 237ms/step - loss: 1.3412 - accuracy: 0.6409\n",
      "Epoch 3/100\n",
      "8/8 [==============================] - 2s 247ms/step - loss: 1.1975 - accuracy: 0.6035\n",
      "Epoch 4/100\n",
      "8/8 [==============================] - 2s 241ms/step - loss: 1.0726 - accuracy: 0.5706\n",
      "Epoch 5/100\n",
      "8/8 [==============================] - 2s 242ms/step - loss: 1.0320 - accuracy: 0.5707\n",
      "Epoch 6/100\n",
      "8/8 [==============================] - 2s 238ms/step - loss: 1.0047 - accuracy: 0.6009\n",
      "Epoch 7/100\n",
      "8/8 [==============================] - 2s 251ms/step - loss: 0.8725 - accuracy: 0.7246\n",
      "Epoch 8/100\n",
      "8/8 [==============================] - 2s 261ms/step - loss: 0.7699 - accuracy: 0.8038\n",
      "Epoch 9/100\n",
      "8/8 [==============================] - 2s 265ms/step - loss: 0.7414 - accuracy: 0.8408\n",
      "Epoch 10/100\n",
      "8/8 [==============================] - 2s 272ms/step - loss: 0.7517 - accuracy: 0.8830\n",
      "Epoch 11/100\n",
      "8/8 [==============================] - 2s 278ms/step - loss: 0.7465 - accuracy: 0.8969\n",
      "Epoch 12/100\n",
      "8/8 [==============================] - 2s 275ms/step - loss: 0.7485 - accuracy: 0.8827\n",
      "Epoch 13/100\n",
      "8/8 [==============================] - 2s 274ms/step - loss: 0.6505 - accuracy: 0.9008\n",
      "Epoch 14/100\n",
      "8/8 [==============================] - 2s 261ms/step - loss: 0.4447 - accuracy: 0.9104\n",
      "Epoch 15/100\n",
      "8/8 [==============================] - 2s 265ms/step - loss: 0.4145 - accuracy: 0.9134\n",
      "Epoch 16/100\n",
      "8/8 [==============================] - 2s 278ms/step - loss: 0.3744 - accuracy: 0.9208\n",
      "Epoch 17/100\n",
      "8/8 [==============================] - 2s 267ms/step - loss: 0.3287 - accuracy: 0.9276\n",
      "Epoch 18/100\n",
      "8/8 [==============================] - 2s 249ms/step - loss: 0.3354 - accuracy: 0.9244\n",
      "Epoch 19/100\n",
      "8/8 [==============================] - 2s 250ms/step - loss: 0.3196 - accuracy: 0.9274\n",
      "Epoch 20/100\n",
      "8/8 [==============================] - 2s 252ms/step - loss: 0.3116 - accuracy: 0.9314\n",
      "Epoch 21/100\n",
      "8/8 [==============================] - 2s 251ms/step - loss: 0.2889 - accuracy: 0.9350\n",
      "Epoch 22/100\n",
      "8/8 [==============================] - 2s 255ms/step - loss: 0.2708 - accuracy: 0.9383\n",
      "Epoch 23/100\n",
      "8/8 [==============================] - 2s 252ms/step - loss: 0.2670 - accuracy: 0.9398\n",
      "Epoch 24/100\n",
      "8/8 [==============================] - 2s 250ms/step - loss: 0.2585 - accuracy: 0.9434\n",
      "Epoch 25/100\n",
      "8/8 [==============================] - 2s 282ms/step - loss: 0.2490 - accuracy: 0.9446\n",
      "Epoch 26/100\n",
      "8/8 [==============================] - 2s 262ms/step - loss: 0.2385 - accuracy: 0.9465\n",
      "Epoch 27/100\n",
      "8/8 [==============================] - 2s 255ms/step - loss: 0.2334 - accuracy: 0.9475\n",
      "Epoch 28/100\n",
      "8/8 [==============================] - 2s 254ms/step - loss: 0.2358 - accuracy: 0.9479\n",
      "Epoch 29/100\n",
      "8/8 [==============================] - 2s 270ms/step - loss: 0.2385 - accuracy: 0.9475\n",
      "Epoch 30/100\n",
      "8/8 [==============================] - 2s 273ms/step - loss: 0.2421 - accuracy: 0.9462\n",
      "Epoch 31/100\n",
      "8/8 [==============================] - 2s 264ms/step - loss: 0.2308 - accuracy: 0.9473\n",
      "Epoch 32/100\n",
      "8/8 [==============================] - 2s 257ms/step - loss: 0.2427 - accuracy: 0.9437\n",
      "Epoch 33/100\n",
      "8/8 [==============================] - 2s 259ms/step - loss: 0.2416 - accuracy: 0.9449\n",
      "Epoch 34/100\n",
      "8/8 [==============================] - 2s 275ms/step - loss: 0.2622 - accuracy: 0.9440\n",
      "Epoch 35/100\n",
      "8/8 [==============================] - 3s 328ms/step - loss: 0.2381 - accuracy: 0.9468\n",
      "Epoch 36/100\n",
      "8/8 [==============================] - 3s 322ms/step - loss: 0.2351 - accuracy: 0.9457\n",
      "Epoch 37/100\n",
      "8/8 [==============================] - 2s 272ms/step - loss: 0.2221 - accuracy: 0.9495\n",
      "Epoch 38/100\n",
      "8/8 [==============================] - 2s 286ms/step - loss: 0.2579 - accuracy: 0.9436\n",
      "Epoch 39/100\n",
      "8/8 [==============================] - 2s 308ms/step - loss: 0.2415 - accuracy: 0.9465\n",
      "Epoch 40/100\n",
      "8/8 [==============================] - 2s 289ms/step - loss: 0.2332 - accuracy: 0.9475\n",
      "Epoch 41/100\n",
      "8/8 [==============================] - 2s 302ms/step - loss: 0.2193 - accuracy: 0.9501\n",
      "Epoch 42/100\n",
      "8/8 [==============================] - 2s 290ms/step - loss: 0.2250 - accuracy: 0.9515\n",
      "Epoch 43/100\n",
      "8/8 [==============================] - 2s 282ms/step - loss: 0.2199 - accuracy: 0.9494\n",
      "Epoch 44/100\n",
      "8/8 [==============================] - 2s 287ms/step - loss: 0.2131 - accuracy: 0.9512\n",
      "Epoch 45/100\n",
      "8/8 [==============================] - 2s 272ms/step - loss: 0.2010 - accuracy: 0.9529\n",
      "Epoch 46/100\n",
      "8/8 [==============================] - 2s 265ms/step - loss: 0.1982 - accuracy: 0.9527\n",
      "Epoch 47/100\n",
      "8/8 [==============================] - 2s 273ms/step - loss: 0.2101 - accuracy: 0.9499\n",
      "Epoch 48/100\n",
      "8/8 [==============================] - 2s 261ms/step - loss: 0.1982 - accuracy: 0.9526\n",
      "Epoch 49/100\n",
      "8/8 [==============================] - 2s 261ms/step - loss: 0.1971 - accuracy: 0.9526\n",
      "Epoch 50/100\n",
      "8/8 [==============================] - 2s 280ms/step - loss: 0.1922 - accuracy: 0.9536\n",
      "Epoch 51/100\n",
      "8/8 [==============================] - 2s 263ms/step - loss: 0.1882 - accuracy: 0.9551\n",
      "Epoch 52/100\n",
      "8/8 [==============================] - 2s 274ms/step - loss: 0.1843 - accuracy: 0.9544\n",
      "Epoch 53/100\n",
      "8/8 [==============================] - 2s 280ms/step - loss: 0.1781 - accuracy: 0.9538\n",
      "Epoch 54/100\n",
      "8/8 [==============================] - 2s 291ms/step - loss: 0.1879 - accuracy: 0.9477\n",
      "Epoch 55/100\n",
      "8/8 [==============================] - 2s 268ms/step - loss: 0.1711 - accuracy: 0.9507\n",
      "Epoch 56/100\n",
      "8/8 [==============================] - 2s 309ms/step - loss: 0.1604 - accuracy: 0.9528\n",
      "Epoch 57/100\n",
      "8/8 [==============================] - 2s 296ms/step - loss: 0.1424 - accuracy: 0.9548\n",
      "Epoch 58/100\n",
      "8/8 [==============================] - 2s 284ms/step - loss: 0.1456 - accuracy: 0.9537\n",
      "Epoch 59/100\n",
      "8/8 [==============================] - 2s 276ms/step - loss: 0.1444 - accuracy: 0.9532\n",
      "Epoch 60/100\n",
      "8/8 [==============================] - 2s 271ms/step - loss: 0.1408 - accuracy: 0.9534\n",
      "Epoch 61/100\n",
      "8/8 [==============================] - 2s 269ms/step - loss: 0.1373 - accuracy: 0.9564\n",
      "Epoch 62/100\n",
      "8/8 [==============================] - 2s 263ms/step - loss: 0.1328 - accuracy: 0.9557\n",
      "Epoch 63/100\n",
      "8/8 [==============================] - 2s 276ms/step - loss: 0.1351 - accuracy: 0.9547\n",
      "Epoch 64/100\n",
      "8/8 [==============================] - 2s 265ms/step - loss: 0.1540 - accuracy: 0.9484\n",
      "Epoch 65/100\n",
      "8/8 [==============================] - 2s 275ms/step - loss: 0.1580 - accuracy: 0.9501\n",
      "Epoch 66/100\n",
      "8/8 [==============================] - 2s 270ms/step - loss: 0.1383 - accuracy: 0.9549\n",
      "Epoch 67/100\n",
      "8/8 [==============================] - 2s 268ms/step - loss: 0.1347 - accuracy: 0.9561\n",
      "Epoch 68/100\n",
      "8/8 [==============================] - 2s 269ms/step - loss: 0.1310 - accuracy: 0.9570\n",
      "Epoch 69/100\n",
      "8/8 [==============================] - 2s 278ms/step - loss: 0.1273 - accuracy: 0.9575\n",
      "Epoch 70/100\n",
      "8/8 [==============================] - 2s 273ms/step - loss: 0.1273 - accuracy: 0.9577\n",
      "Epoch 71/100\n",
      "8/8 [==============================] - 2s 284ms/step - loss: 0.1293 - accuracy: 0.9568\n",
      "Epoch 72/100\n",
      "8/8 [==============================] - 2s 310ms/step - loss: 0.1279 - accuracy: 0.9575\n",
      "Epoch 73/100\n",
      "8/8 [==============================] - 2s 272ms/step - loss: 0.1295 - accuracy: 0.9569\n",
      "Epoch 74/100\n",
      "8/8 [==============================] - 2s 281ms/step - loss: 0.1301 - accuracy: 0.9567\n",
      "Epoch 75/100\n",
      "8/8 [==============================] - 2s 273ms/step - loss: 0.1277 - accuracy: 0.9583\n",
      "Epoch 76/100\n",
      "8/8 [==============================] - 2s 273ms/step - loss: 0.1319 - accuracy: 0.9556\n",
      "Epoch 77/100\n",
      "8/8 [==============================] - 2s 273ms/step - loss: 0.1435 - accuracy: 0.9538\n",
      "Epoch 78/100\n",
      "8/8 [==============================] - 2s 291ms/step - loss: 0.1349 - accuracy: 0.9559\n",
      "Epoch 79/100\n",
      "8/8 [==============================] - 2s 293ms/step - loss: 0.1293 - accuracy: 0.9573\n",
      "Epoch 80/100\n",
      "8/8 [==============================] - 2s 289ms/step - loss: 0.1289 - accuracy: 0.9584\n",
      "Epoch 81/100\n",
      "8/8 [==============================] - 2s 298ms/step - loss: 0.1259 - accuracy: 0.9584\n",
      "Epoch 82/100\n",
      "8/8 [==============================] - 2s 283ms/step - loss: 0.1224 - accuracy: 0.9583\n",
      "Epoch 83/100\n",
      "8/8 [==============================] - 2s 279ms/step - loss: 0.1300 - accuracy: 0.9558\n",
      "Epoch 84/100\n",
      "8/8 [==============================] - 2s 273ms/step - loss: 0.1285 - accuracy: 0.9560\n",
      "Epoch 85/100\n",
      "8/8 [==============================] - 2s 288ms/step - loss: 0.1367 - accuracy: 0.9539\n",
      "Epoch 86/100\n",
      "8/8 [==============================] - 2s 281ms/step - loss: 0.1353 - accuracy: 0.9560\n",
      "Epoch 87/100\n",
      "8/8 [==============================] - 2s 290ms/step - loss: 0.1477 - accuracy: 0.9546\n",
      "Epoch 88/100\n",
      "8/8 [==============================] - 2s 298ms/step - loss: 0.1368 - accuracy: 0.9579\n",
      "Epoch 89/100\n",
      "8/8 [==============================] - 2s 294ms/step - loss: 0.1254 - accuracy: 0.9597\n",
      "Epoch 90/100\n",
      "8/8 [==============================] - 2s 284ms/step - loss: 0.1198 - accuracy: 0.9605\n",
      "Epoch 91/100\n",
      "8/8 [==============================] - 2s 289ms/step - loss: 0.1298 - accuracy: 0.9565\n",
      "Epoch 92/100\n",
      "8/8 [==============================] - 3s 331ms/step - loss: 0.1292 - accuracy: 0.9586\n",
      "Epoch 93/100\n",
      "8/8 [==============================] - 3s 308ms/step - loss: 0.1208 - accuracy: 0.9599\n",
      "Epoch 94/100\n",
      "8/8 [==============================] - 3s 329ms/step - loss: 0.1301 - accuracy: 0.9568\n",
      "Epoch 95/100\n",
      "8/8 [==============================] - 3s 309ms/step - loss: 0.1164 - accuracy: 0.9605\n",
      "Epoch 96/100\n",
      "8/8 [==============================] - 2s 273ms/step - loss: 0.1200 - accuracy: 0.9605\n",
      "Epoch 97/100\n",
      "8/8 [==============================] - 2s 276ms/step - loss: 0.1245 - accuracy: 0.9584\n",
      "Epoch 98/100\n",
      "8/8 [==============================] - 2s 284ms/step - loss: 0.1174 - accuracy: 0.9607\n",
      "Epoch 99/100\n",
      "8/8 [==============================] - 2s 281ms/step - loss: 0.1264 - accuracy: 0.9561\n",
      "Epoch 100/100\n",
      "8/8 [==============================] - 2s 274ms/step - loss: 0.1332 - accuracy: 0.9567\n"
     ]
    }
   ],
   "source": [
    "\n",
    "history = unet.fit(X_train,y_train,epochs = 100)\n",
    "\n"
   ]
  },
  {
   "cell_type": "code",
   "execution_count": 7,
   "metadata": {},
   "outputs": [
    {
     "name": "stdout",
     "output_type": "stream",
     "text": [
      "5\n",
      "4\n",
      "8/8 [==============================] - 1s 53ms/step\n",
      "train accuracy : 0.9626998258942704\n",
      "2/2 [==============================] - 0s 59ms/step\n",
      "test accuracy : 0.9596672944130571\n"
     ]
    }
   ],
   "source": [
    "def accuracy(real,pred):\n",
    "    comp = real == pred\n",
    "    return np.sum(comp)/(comp.shape[0]*comp.shape[1])\n",
    "\n",
    "\n",
    "def predict(model,X):\n",
    "    pred = model.predict(X)\n",
    "    return np.argmax(pred,axis = -1,keepdims=True)\n",
    "\n",
    "y_train_pred = predict(unet,X_train)\n",
    "print(\"train accuracy : \" + str(accuracy(y_train,y_train_pred)))\n",
    "\n",
    "\n",
    "y_test_pred = predict(unet,X_test)\n",
    "print(\"test accuracy : \" +  str(accuracy(y_test,y_test_pred)))"
   ]
  },
  {
   "cell_type": "code",
   "execution_count": 9,
   "metadata": {},
   "outputs": [
    {
     "data": {
      "text/plain": [
       "(59, 4320, 1)"
      ]
     },
     "execution_count": 9,
     "metadata": {},
     "output_type": "execute_result"
    }
   ],
   "source": [
    "test_serie_1 = TrainSerie()\n",
    "serie = self.createSerie(serie_id)\n",
    "serie.create_segmentation_mask(self.valid_steps)\n",
    "serie.create_slices(self.steps_window,[\"series_id\",\"step\",\"timestamp\"])\n"
   ]
  },
  {
   "cell_type": "code",
   "execution_count": 90,
   "metadata": {},
   "outputs": [
    {
     "data": {
      "text/plain": [
       "(92, 4320, 3)"
      ]
     },
     "execution_count": 90,
     "metadata": {},
     "output_type": "execute_result"
    }
   ],
   "source": [
    "#test_mask = series.series[series.series_ids[3]].mask_slices\n",
    "test_mask = series.series[\"05e1944c3818\"].mask_slices \n",
    "test_mask.shape"
   ]
  },
  {
   "cell_type": "code",
   "execution_count": 81,
   "metadata": {},
   "outputs": [
    {
     "data": {
      "text/plain": [
       "array([0., 0., 0., ..., 1., 1., 1.])"
      ]
     },
     "execution_count": 81,
     "metadata": {},
     "output_type": "execute_result"
    }
   ],
   "source": [
    "test_mask[4,...,-1] "
   ]
  },
  {
   "cell_type": "code",
   "execution_count": 82,
   "metadata": {},
   "outputs": [
    {
     "data": {
      "text/plain": [
       "False"
      ]
     },
     "execution_count": 82,
     "metadata": {},
     "output_type": "execute_result"
    }
   ],
   "source": [
    "np.max(test_mask[6,...,-1] == -1)"
   ]
  },
  {
   "cell_type": "code",
   "execution_count": 97,
   "metadata": {},
   "outputs": [],
   "source": [
    "from time import time"
   ]
  },
  {
   "cell_type": "code",
   "execution_count": 123,
   "metadata": {},
   "outputs": [
    {
     "name": "stdout",
     "output_type": "stream",
     "text": [
      "0.003017425537109375\n"
     ]
    },
    {
     "data": {
      "text/plain": [
       "(25, 4320, 3)"
      ]
     },
     "execution_count": 123,
     "metadata": {},
     "output_type": "execute_result"
    }
   ],
   "source": [
    "def create(mask_slices):\n",
    "    \n",
    "    slices_len = mask_slices.shape[0]\n",
    "    slices_with_zero = np.zeros(shape = (slices_len,),dtype=bool)\n",
    "    for i in range(slices_len):\n",
    "        slices_with_zero[i] = 1-np.max(mask_slices[i,...,-1] == -1)\n",
    "    return mask_slices[slices_with_zero]\n",
    "\n",
    "start_time = time()\n",
    "slices_without_zero = create(test_mask)\n",
    "print(time()-start_time)\n",
    "slices_without_zero.shape"
   ]
  },
  {
   "cell_type": "code",
   "execution_count": 121,
   "metadata": {},
   "outputs": [
    {
     "name": "stdout",
     "output_type": "stream",
     "text": [
      "0.002997875213623047\n"
     ]
    },
    {
     "data": {
      "text/plain": [
       "(25, 4320, 3)"
      ]
     },
     "execution_count": 121,
     "metadata": {},
     "output_type": "execute_result"
    }
   ],
   "source": [
    "def create(mask_slices):\n",
    "    \n",
    "    slices_len = mask_slices.shape[0]\n",
    "    slices_with_zero = np.zeros(shape = (slices_len,),dtype=bool)\n",
    "    for i in range(slices_len):\n",
    "        #slices_with_zero[i] = 1-np.max(mask_slices[i,...,-1] == -1)\n",
    "        slices_with_zero[i] = 1-(-1 in  mask_slices[i,...,-1])\n",
    "    return mask_slices[slices_with_zero]\n",
    "\n",
    "start_time = time()\n",
    "slices_without_zero = create(test_mask)\n",
    "print(time()-start_time)\n",
    "slices_without_zero.shape\n"
   ]
  },
  {
   "cell_type": "code",
   "execution_count": 124,
   "metadata": {},
   "outputs": [
    {
     "name": "stdout",
     "output_type": "stream",
     "text": [
      "0.00500035285949707\n"
     ]
    },
    {
     "data": {
      "text/plain": [
       "(25, 4320, 3)"
      ]
     },
     "execution_count": 124,
     "metadata": {},
     "output_type": "execute_result"
    }
   ],
   "source": [
    "def get_correct_slices(mask_slices):\n",
    "    correct_slices = mask_slices.copy()\n",
    "    deleted_indexes = []\n",
    "    for i in range(correct_slices.shape[0]):\n",
    "        if -1 in  correct_slices[i,...,-1]:\n",
    "            deleted_indexes.append(i)\n",
    "    return np.delete(correct_slices,deleted_indexes,axis = 0)\n",
    "\n",
    "start_time = time()\n",
    "slices_without_zero = get_correct_slices(test_mask)\n",
    "print(time()-start_time)\n",
    "slices_without_zero.shape"
   ]
  },
  {
   "cell_type": "code",
   "execution_count": 130,
   "metadata": {},
   "outputs": [
    {
     "name": "stdout",
     "output_type": "stream",
     "text": [
      "Unexpected exception formatting exception. Falling back to standard exception\n"
     ]
    },
    {
     "name": "stderr",
     "output_type": "stream",
     "text": [
      "Traceback (most recent call last):\n",
      "  File \"d:\\DEV\\Projekty\\PythonProjects\\venv\\lib\\site-packages\\IPython\\core\\interactiveshell.py\", line 3508, in run_code\n",
      "    exec(code_obj, self.user_global_ns, self.user_ns)\n",
      "  File \"C:\\Users\\pawel.dubel\\AppData\\Local\\Temp\\ipykernel_13352\\2435840814.py\", line 2, in <module>\n",
      "    ds.split_dataset()\n",
      "  File \"d:\\DEV\\Projekty\\PythonProjects\\Kaggle\\Detect-sleep-state\\dataloader\\dataloader.py\", line 267, in split_dataset\n",
      "  File \"d:\\DEV\\Projekty\\PythonProjects\\Kaggle\\Detect-sleep-state\\dataloader\\dataloader.py\", line 275, in _fit_transform\n",
      "ValueError: operands could not be broadcast together with shapes (234,4320,2) (234,2) \n",
      "\n",
      "During handling of the above exception, another exception occurred:\n",
      "\n",
      "Traceback (most recent call last):\n",
      "  File \"d:\\DEV\\Projekty\\PythonProjects\\venv\\lib\\site-packages\\IPython\\core\\interactiveshell.py\", line 2105, in showtraceback\n",
      "    stb = self.InteractiveTB.structured_traceback(\n",
      "  File \"d:\\DEV\\Projekty\\PythonProjects\\venv\\lib\\site-packages\\IPython\\core\\ultratb.py\", line 1428, in structured_traceback\n",
      "    return FormattedTB.structured_traceback(\n",
      "  File \"d:\\DEV\\Projekty\\PythonProjects\\venv\\lib\\site-packages\\IPython\\core\\ultratb.py\", line 1319, in structured_traceback\n",
      "    return VerboseTB.structured_traceback(\n",
      "  File \"d:\\DEV\\Projekty\\PythonProjects\\venv\\lib\\site-packages\\IPython\\core\\ultratb.py\", line 1172, in structured_traceback\n",
      "    formatted_exception = self.format_exception_as_a_whole(etype, evalue, etb, number_of_lines_of_context,\n",
      "  File \"d:\\DEV\\Projekty\\PythonProjects\\venv\\lib\\site-packages\\IPython\\core\\ultratb.py\", line 1087, in format_exception_as_a_whole\n",
      "    frames.append(self.format_record(record))\n",
      "  File \"d:\\DEV\\Projekty\\PythonProjects\\venv\\lib\\site-packages\\IPython\\core\\ultratb.py\", line 969, in format_record\n",
      "    frame_info.lines, Colors, self.has_colors, lvals\n",
      "  File \"d:\\DEV\\Projekty\\PythonProjects\\venv\\lib\\site-packages\\IPython\\core\\ultratb.py\", line 792, in lines\n",
      "    return self._sd.lines\n",
      "  File \"d:\\DEV\\Projekty\\PythonProjects\\venv\\lib\\site-packages\\stack_data\\utils.py\", line 144, in cached_property_wrapper\n",
      "    value = obj.__dict__[self.func.__name__] = self.func(obj)\n",
      "  File \"d:\\DEV\\Projekty\\PythonProjects\\venv\\lib\\site-packages\\stack_data\\core.py\", line 734, in lines\n",
      "    pieces = self.included_pieces\n",
      "  File \"d:\\DEV\\Projekty\\PythonProjects\\venv\\lib\\site-packages\\stack_data\\utils.py\", line 144, in cached_property_wrapper\n",
      "    value = obj.__dict__[self.func.__name__] = self.func(obj)\n",
      "  File \"d:\\DEV\\Projekty\\PythonProjects\\venv\\lib\\site-packages\\stack_data\\core.py\", line 681, in included_pieces\n",
      "    pos = scope_pieces.index(self.executing_piece)\n",
      "  File \"d:\\DEV\\Projekty\\PythonProjects\\venv\\lib\\site-packages\\stack_data\\utils.py\", line 144, in cached_property_wrapper\n",
      "    value = obj.__dict__[self.func.__name__] = self.func(obj)\n",
      "  File \"d:\\DEV\\Projekty\\PythonProjects\\venv\\lib\\site-packages\\stack_data\\core.py\", line 660, in executing_piece\n",
      "    return only(\n",
      "  File \"d:\\DEV\\Projekty\\PythonProjects\\venv\\lib\\site-packages\\executing\\executing.py\", line 190, in only\n",
      "    raise NotOneValueFound('Expected one value, found 0')\n",
      "executing.executing.NotOneValueFound: Expected one value, found 0\n"
     ]
    }
   ],
   "source": []
  },
  {
   "cell_type": "code",
   "execution_count": 150,
   "metadata": {},
   "outputs": [
    {
     "data": {
      "text/plain": [
       "False"
      ]
     },
     "execution_count": 150,
     "metadata": {},
     "output_type": "execute_result"
    }
   ],
   "source": [
    "np.max(test_mask[3,:,2] == 0.0)"
   ]
  },
  {
   "cell_type": "code",
   "execution_count": 165,
   "metadata": {},
   "outputs": [
    {
     "data": {
      "text/plain": [
       "45"
      ]
     },
     "execution_count": 165,
     "metadata": {},
     "output_type": "execute_result"
    }
   ],
   "source": [
    "count = 0\n",
    "for i in range(test_mask.shape[0]):\n",
    "    if np.max(test_mask[i,...,-1]) == 0.0:\n",
    "        count+=1\n",
    "\n",
    "count"
   ]
  },
  {
   "cell_type": "code",
   "execution_count": 118,
   "metadata": {},
   "outputs": [
    {
     "data": {
      "text/plain": [
       "numpy.ndarray"
      ]
     },
     "execution_count": 118,
     "metadata": {},
     "output_type": "execute_result"
    }
   ],
   "source": [
    "type(series.series[series.series_ids[1]].mask_slices)"
   ]
  },
  {
   "cell_type": "code",
   "execution_count": 138,
   "metadata": {},
   "outputs": [
    {
     "data": {
      "text/plain": [
       "(1010880, 2)"
      ]
     },
     "execution_count": 138,
     "metadata": {},
     "output_type": "execute_result"
    }
   ],
   "source": [
    "ds.X_train.reshape(-1,ds.X_train.shape[-1]).shape"
   ]
  },
  {
   "cell_type": "code",
   "execution_count": 162,
   "metadata": {},
   "outputs": [
    {
     "name": "stdout",
     "output_type": "stream",
     "text": [
      "89.5192 min : -90.0\n",
      "43.88813629813631 min : -2.08555098924907\n"
     ]
    }
   ],
   "source": [
    "class Normalizer:\n",
    "    epsilon = 0.000001\n",
    "    def __init__(self):\n",
    "        self.mean = None \n",
    "        self.std = None\n",
    "        \n",
    "\n",
    "    def fit_transform(self,x):\n",
    "        axis = tuple([i for i in range(len(x.shape)-1)])\n",
    "        self.mean = x.mean(axis = axis)\n",
    "        self.std = x.std(axis = axis)\n",
    "        return (x-self.mean)/(self.__class__.epsilon+self.std)\n",
    "    \n",
    "    def transform(self,x):\n",
    "        return (x-self.mean)/(self.__class__.epsilon+self.std)\n",
    "\n",
    "\n",
    "    \n",
    "\n",
    "\n",
    "\n",
    "X_train = ds.X_train\n",
    "y_train = ds.y_train\n",
    "X_test = ds.X_test\n",
    "y_test = ds.y_test\n",
    "\n",
    "ds_normalizer = Normalizer()\n",
    "X_train_norm = ds_normalizer.fit_transform(X_train)\n",
    "X_test_norm = ds_normalizer.transform(X_test)\n",
    "\n",
    "print(f'{np.max(X_train)} min : {np.min(X_train)}')\n",
    "print(f'{np.max(X_train_norm)} min : {np.min(X_train_norm)}')\n"
   ]
  },
  {
   "cell_type": "code",
   "execution_count": 158,
   "metadata": {},
   "outputs": [
    {
     "name": "stdout",
     "output_type": "stream",
     "text": [
      "[61.5        31.42857143]\n",
      "[53.65864329  5.15078754]\n"
     ]
    },
    {
     "data": {
      "text/plain": [
       "array([[[-0.21431775, -0.27735004],\n",
       "        [-0.02795449, -0.27735004],\n",
       "        [ 0.15840877, -0.27735004],\n",
       "        [-0.40068101, -0.27735004],\n",
       "        [-0.77340754, -0.27735004],\n",
       "        [-0.9597708 , -0.27735004],\n",
       "        [ 0.5311353 ,  3.60555058]],\n",
       "\n",
       "       [[ 3.1588573 , -0.27735004],\n",
       "        [-0.02795449, -0.27735004],\n",
       "        [ 0.15840877, -0.27735004],\n",
       "        [-0.40068101, -0.27735004],\n",
       "        [-0.77340754, -0.27735004],\n",
       "        [-0.9597708 , -0.27735004],\n",
       "        [ 0.5311353 , -0.27735004]]])"
      ]
     },
     "execution_count": 158,
     "metadata": {},
     "output_type": "execute_result"
    }
   ],
   "source": [
    "test_arr = np.array([[[50,30],\n",
    "          [60,30],\n",
    "          [70,30],\n",
    "          [40,30],\n",
    "          [20,30],\n",
    "          [10,30],\n",
    "          [90,50]],\n",
    "          [[231,30],\n",
    "          [60,30],\n",
    "          [70,30],\n",
    "          [40,30],\n",
    "          [20,30],\n",
    "          [10,30],\n",
    "          [90,30]],])\n",
    "\n",
    "ds_normalizer2 = Normalizer()\n",
    "test_arr_norm = ds_normalizer2.fit_transform(test_arr)\n",
    "\n",
    "assert test_arr_norm"
   ]
  },
  {
   "cell_type": "code",
   "execution_count": 93,
   "metadata": {},
   "outputs": [
    {
     "data": {
      "text/plain": [
       "[<matplotlib.lines.Line2D at 0x1f79c85b640>]"
      ]
     },
     "execution_count": 93,
     "metadata": {},
     "output_type": "execute_result"
    },
    {
     "data": {
      "image/png": "[encoded data removed]",
      "text/plain": [
       "<Figure size 640x480 with 1 Axes>"
      ]
     },
     "metadata": {},
     "output_type": "display_data"
    }
   ],
   "source": [
    "from matplotlib import pyplot as plt\n",
    "plt.plot(history.history[\"accuracy\"])"
   ]
  },
  {
   "cell_type": "code",
   "execution_count": 99,
   "metadata": {},
   "outputs": [],
   "source": []
  },
  {
   "cell_type": "code",
   "execution_count": 97,
   "metadata": {},
   "outputs": [],
   "source": []
  },
  {
   "cell_type": "code",
   "execution_count": 95,
   "metadata": {},
   "outputs": [],
   "source": []
  },
  {
   "cell_type": "code",
   "execution_count": 104,
   "metadata": {},
   "outputs": [
    {
     "name": "stdout",
     "output_type": "stream",
     "text": [
      "9/9 [==============================] - 1s 95ms/step\n",
      "train accuracy : 0.7811392552624568\n",
      "3/3 [==============================] - 0s 66ms/step\n",
      "test accuracy : 0.7384507275132275\n"
     ]
    }
   ],
   "source": []
  },
  {
   "cell_type": "code",
   "execution_count": 167,
   "metadata": {},
   "outputs": [
    {
     "ename": "ValueError",
     "evalue": "Must pass 2-d input. shape=(51, 8640, 3)",
     "output_type": "error",
     "traceback": [
      "\u001b[1;31m---------------------------------------------------------------------------\u001b[0m",
      "\u001b[1;31mValueError\u001b[0m                                Traceback (most recent call last)",
      "\u001b[1;32md:\\DEV\\Projekty\\PythonProjects\\Kaggle\\Detect-sleep-state\\unet_test.ipynb Cell 20\u001b[0m line \u001b[0;36m7\n\u001b[0;32m      <a href='vscode-notebook-cell:/d%3A/DEV/Projekty/PythonProjects/Kaggle/Detect-sleep-state/unet_test.ipynb#X22sZmlsZQ%3D%3D?line=3'>4</a>\u001b[0m \u001b[39m# import os\u001b[39;00m\n\u001b[0;32m      <a href='vscode-notebook-cell:/d%3A/DEV/Projekty/PythonProjects/Kaggle/Detect-sleep-state/unet_test.ipynb#X22sZmlsZQ%3D%3D?line=4'>5</a>\u001b[0m \u001b[39m# os.chdir(r'kaggle/working')'\u001b[39;00m\n\u001b[0;32m      <a href='vscode-notebook-cell:/d%3A/DEV/Projekty/PythonProjects/Kaggle/Detect-sleep-state/unet_test.ipynb#X22sZmlsZQ%3D%3D?line=5'>6</a>\u001b[0m filename \u001b[39m=\u001b[39m \u001b[39m'\u001b[39m\u001b[39mtrain_\u001b[39m\u001b[39m'\u001b[39m \u001b[39m+\u001b[39m\u001b[39m'\u001b[39m\u001b[39m.csv\u001b[39m\u001b[39m'\u001b[39m\n\u001b[1;32m----> <a href='vscode-notebook-cell:/d%3A/DEV/Projekty/PythonProjects/Kaggle/Detect-sleep-state/unet_test.ipynb#X22sZmlsZQ%3D%3D?line=6'>7</a>\u001b[0m pd\u001b[39m.\u001b[39;49mDataFrame(test_mask)\u001b[39m.\u001b[39mto_csv(filename)\n\u001b[0;32m      <a href='vscode-notebook-cell:/d%3A/DEV/Projekty/PythonProjects/Kaggle/Detect-sleep-state/unet_test.ipynb#X22sZmlsZQ%3D%3D?line=8'>9</a>\u001b[0m FileLink(filename)\n",
      "File \u001b[1;32md:\\DEV\\Projekty\\PythonProjects\\venv\\lib\\site-packages\\pandas\\core\\frame.py:758\u001b[0m, in \u001b[0;36mDataFrame.__init__\u001b[1;34m(self, data, index, columns, dtype, copy)\u001b[0m\n\u001b[0;32m    747\u001b[0m         mgr \u001b[39m=\u001b[39m dict_to_mgr(\n\u001b[0;32m    748\u001b[0m             \u001b[39m# error: Item \"ndarray\" of \"Union[ndarray, Series, Index]\" has no\u001b[39;00m\n\u001b[0;32m    749\u001b[0m             \u001b[39m# attribute \"name\"\u001b[39;00m\n\u001b[1;32m   (...)\u001b[0m\n\u001b[0;32m    755\u001b[0m             copy\u001b[39m=\u001b[39m_copy,\n\u001b[0;32m    756\u001b[0m         )\n\u001b[0;32m    757\u001b[0m     \u001b[39melse\u001b[39;00m:\n\u001b[1;32m--> 758\u001b[0m         mgr \u001b[39m=\u001b[39m ndarray_to_mgr(\n\u001b[0;32m    759\u001b[0m             data,\n\u001b[0;32m    760\u001b[0m             index,\n\u001b[0;32m    761\u001b[0m             columns,\n\u001b[0;32m    762\u001b[0m             dtype\u001b[39m=\u001b[39;49mdtype,\n\u001b[0;32m    763\u001b[0m             copy\u001b[39m=\u001b[39;49mcopy,\n\u001b[0;32m    764\u001b[0m             typ\u001b[39m=\u001b[39;49mmanager,\n\u001b[0;32m    765\u001b[0m         )\n\u001b[0;32m    767\u001b[0m \u001b[39m# For data is list-like, or Iterable (will consume into list)\u001b[39;00m\n\u001b[0;32m    768\u001b[0m \u001b[39melif\u001b[39;00m is_list_like(data):\n",
      "File \u001b[1;32md:\\DEV\\Projekty\\PythonProjects\\venv\\lib\\site-packages\\pandas\\core\\internals\\construction.py:315\u001b[0m, in \u001b[0;36mndarray_to_mgr\u001b[1;34m(values, index, columns, dtype, copy, typ)\u001b[0m\n\u001b[0;32m    309\u001b[0m     _copy \u001b[39m=\u001b[39m (\n\u001b[0;32m    310\u001b[0m         copy_on_sanitize\n\u001b[0;32m    311\u001b[0m         \u001b[39mif\u001b[39;00m (dtype \u001b[39mis\u001b[39;00m \u001b[39mNone\u001b[39;00m \u001b[39mor\u001b[39;00m astype_is_view(values\u001b[39m.\u001b[39mdtype, dtype))\n\u001b[0;32m    312\u001b[0m         \u001b[39melse\u001b[39;00m \u001b[39mFalse\u001b[39;00m\n\u001b[0;32m    313\u001b[0m     )\n\u001b[0;32m    314\u001b[0m     values \u001b[39m=\u001b[39m np\u001b[39m.\u001b[39marray(values, copy\u001b[39m=\u001b[39m_copy)\n\u001b[1;32m--> 315\u001b[0m     values \u001b[39m=\u001b[39m _ensure_2d(values)\n\u001b[0;32m    317\u001b[0m \u001b[39melse\u001b[39;00m:\n\u001b[0;32m    318\u001b[0m     \u001b[39m# by definition an array here\u001b[39;00m\n\u001b[0;32m    319\u001b[0m     \u001b[39m# the dtypes will be coerced to a single dtype\u001b[39;00m\n\u001b[0;32m    320\u001b[0m     values \u001b[39m=\u001b[39m _prep_ndarraylike(values, copy\u001b[39m=\u001b[39mcopy_on_sanitize)\n",
      "File \u001b[1;32md:\\DEV\\Projekty\\PythonProjects\\venv\\lib\\site-packages\\pandas\\core\\internals\\construction.py:570\u001b[0m, in \u001b[0;36m_ensure_2d\u001b[1;34m(values)\u001b[0m\n\u001b[0;32m    568\u001b[0m     values \u001b[39m=\u001b[39m values\u001b[39m.\u001b[39mreshape((values\u001b[39m.\u001b[39mshape[\u001b[39m0\u001b[39m], \u001b[39m1\u001b[39m))\n\u001b[0;32m    569\u001b[0m \u001b[39melif\u001b[39;00m values\u001b[39m.\u001b[39mndim \u001b[39m!=\u001b[39m \u001b[39m2\u001b[39m:\n\u001b[1;32m--> 570\u001b[0m     \u001b[39mraise\u001b[39;00m \u001b[39mValueError\u001b[39;00m(\u001b[39mf\u001b[39m\u001b[39m\"\u001b[39m\u001b[39mMust pass 2-d input. shape=\u001b[39m\u001b[39m{\u001b[39;00mvalues\u001b[39m.\u001b[39mshape\u001b[39m}\u001b[39;00m\u001b[39m\"\u001b[39m)\n\u001b[0;32m    571\u001b[0m \u001b[39mreturn\u001b[39;00m values\n",
      "\u001b[1;31mValueError\u001b[0m: Must pass 2-d input. shape=(51, 8640, 3)"
     ]
    }
   ],
   "source": [
    "from IPython.display import FileLink\n",
    "import pandas as pd\n",
    "\n",
    "# import os\n",
    "# os.chdir(r'kaggle/working')'\n",
    "filename = 'train_' +'.csv'\n",
    "pd.DataFrame(test_mask).to_csv(filename)\n",
    "\n",
    "FileLink(filename)\n",
    "\n"
   ]
  },
  {
   "cell_type": "code",
   "execution_count": null,
   "metadata": {},
   "outputs": [],
   "source": []
  }
 ],
 "metadata": {
  "kernelspec": {
   "display_name": "venv",
   "language": "python",
   "name": "venv"
  },
  "language_info": {
   "codemirror_mode": {
    "name": "ipython",
    "version": 3
   },
   "file_extension": ".py",
   "mimetype": "text/x-python",
   "name": "python",
   "nbconvert_exporter": "python",
   "pygments_lexer": "ipython3",
   "version": "3.10.4"
  },
  "orig_nbformat": 4
 },
 "nbformat": 4,
 "nbformat_minor": 2
}
