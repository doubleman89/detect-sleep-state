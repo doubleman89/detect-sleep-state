{
 "cells": [
  {
   "cell_type": "markdown",
   "metadata": {},
   "source": []
  },
  {
   "cell_type": "code",
   "execution_count": 87,
   "metadata": {},
   "outputs": [],
   "source": [
    "import tensorflow as tf\n",
    "import importlib\n",
    "from model.model1D import Unet,Unet_Model\n",
    "import model.model1D\n",
    "importlib.reload(model.model1D)\n",
    "try: \n",
    "    del unet\n",
    "except:\n",
    "    pass\n",
    "import numpy as np\n"
   ]
  },
  {
   "cell_type": "code",
   "execution_count": 88,
   "metadata": {},
   "outputs": [
    {
     "name": "stdout",
     "output_type": "stream",
     "text": [
      "5\n",
      "4\n",
      "Model: \"model_4\"\n",
      "__________________________________________________________________________________________________\n",
      " Layer (type)                   Output Shape         Param #     Connected to                     \n",
      "==================================================================================================\n",
      " input_6 (InputLayer)           [(None, 8640, 2)]    0           []                               \n",
      "                                                                                                  \n",
      " downsampling_block_28 (Downsam  ((None, 4320, 8),   256         ['input_6[0][0]']                \n",
      " plingBlock)                     (None, 8640, 8))                                                 \n",
      "                                                                                                  \n",
      " downsampling_block_29 (Downsam  ((None, 2160, 16),  1184        ['downsampling_block_28[0][0]']  \n",
      " plingBlock)                     (None, 4320, 16))                                                \n",
      "                                                                                                  \n",
      " downsampling_block_30 (Downsam  ((None, 1080, 32),  4672        ['downsampling_block_29[0][0]']  \n",
      " plingBlock)                     (None, 2160, 32))                                                \n",
      "                                                                                                  \n",
      " downsampling_block_31 (Downsam  ((None, 540, 64),   18560       ['downsampling_block_30[0][0]']  \n",
      " plingBlock)                     (None, 1080, 64))                                                \n",
      "                                                                                                  \n",
      " downsampling_block_32 (Downsam  ((None, 540, 128),  73984       ['downsampling_block_31[0][0]']  \n",
      " plingBlock)                     (None, 540, 128))                                                \n",
      "                                                                                                  \n",
      " upsampling_block_20 (Upsamplin  (None, 1080, 64)    61632       ['downsampling_block_32[0][0]',  \n",
      " gBlock)                                                          'downsampling_block_31[0][1]']  \n",
      "                                                                                                  \n",
      " upsampling_block_21 (Upsamplin  (None, 2160, 32)    15456       ['upsampling_block_20[0][0]',    \n",
      " gBlock)                                                          'downsampling_block_30[0][1]']  \n",
      "                                                                                                  \n",
      " upsampling_block_22 (Upsamplin  (None, 4320, 16)    3888        ['upsampling_block_21[0][0]',    \n",
      " gBlock)                                                          'downsampling_block_29[0][1]']  \n",
      "                                                                                                  \n",
      " upsampling_block_23 (Upsamplin  (None, 8640, 8)     984         ['upsampling_block_22[0][0]',    \n",
      " gBlock)                                                          'downsampling_block_28[0][1]']  \n",
      "                                                                                                  \n",
      " conv1d_121 (Conv1D)            (None, 8640, 4)      100         ['upsampling_block_23[0][0]']    \n",
      "                                                                                                  \n",
      " conv1d_122 (Conv1D)            (None, 8640, 5)      25          ['conv1d_121[0][0]']             \n",
      "                                                                                                  \n",
      "==================================================================================================\n",
      "Total params: 180,741\n",
      "Trainable params: 180,741\n",
      "Non-trainable params: 0\n",
      "__________________________________________________________________________________________________\n"
     ]
    }
   ],
   "source": [
    "unet = Unet(n_classes=5,n_filters=8)\n",
    "unet.compile(optimizer='adam',\n",
    "              loss=tf.keras.losses.SparseCategoricalCrossentropy(from_logits=True),\n",
    "              metrics=['accuracy'])\n",
    "unet.model((8640,2)).summary()\n",
    " "
   ]
  },
  {
   "cell_type": "code",
   "execution_count": 39,
   "metadata": {},
   "outputs": [],
   "source": [
    "import importlib\n",
    "import dataloader.dataloader\n",
    "from dataloader.dataloader import Series,Serie,Dataset\n",
    "importlib.reload(dataloader.dataloader)\n",
    "try: \n",
    "    del series\n",
    "except:\n",
    "    pass\n",
    "\n",
    "from configs.config import CFG\n",
    "from utils import config\n",
    "config = config.Config.from_json(CFG)"
   ]
  },
  {
   "cell_type": "code",
   "execution_count": 40,
   "metadata": {},
   "outputs": [],
   "source": [
    "series = Series(config.data,config.paths)\n",
    "series.createSeries()\n",
    "ds = Dataset(series)\n",
    "ds.split_dataset()\n"
   ]
  },
  {
   "cell_type": "code",
   "execution_count": 41,
   "metadata": {},
   "outputs": [
    {
     "data": {
      "text/plain": [
       "(278, 8640, 1)"
      ]
     },
     "execution_count": 41,
     "metadata": {},
     "output_type": "execute_result"
    }
   ],
   "source": [
    "ds.y_train.shape"
   ]
  },
  {
   "cell_type": "code",
   "execution_count": 42,
   "metadata": {},
   "outputs": [
    {
     "data": {
      "text/plain": [
       "(278, 8640, 2)"
      ]
     },
     "execution_count": 42,
     "metadata": {},
     "output_type": "execute_result"
    }
   ],
   "source": [
    "ds.X_train.shape"
   ]
  },
  {
   "cell_type": "code",
   "execution_count": 89,
   "metadata": {},
   "outputs": [
    {
     "name": "stdout",
     "output_type": "stream",
     "text": [
      "Epoch 1/100\n",
      "5\n",
      "4\n",
      "5\n",
      "4\n",
      "9/9 [==============================] - 7s 401ms/step - loss: 11.1774 - accuracy: 0.1507\n",
      "Epoch 2/100\n",
      "9/9 [==============================] - 4s 412ms/step - loss: 2.9322 - accuracy: 0.2515\n",
      "Epoch 3/100\n",
      "9/9 [==============================] - 4s 403ms/step - loss: 1.9428 - accuracy: 0.3438\n",
      "Epoch 4/100\n",
      "9/9 [==============================] - 4s 409ms/step - loss: 1.6934 - accuracy: 0.4160\n",
      "Epoch 5/100\n",
      "9/9 [==============================] - 4s 409ms/step - loss: 1.6325 - accuracy: 0.4306\n",
      "Epoch 6/100\n",
      "9/9 [==============================] - 4s 407ms/step - loss: 1.5859 - accuracy: 0.4348\n",
      "Epoch 7/100\n",
      "9/9 [==============================] - 4s 489ms/step - loss: 1.5545 - accuracy: 0.4207\n",
      "Epoch 8/100\n",
      "9/9 [==============================] - 4s 464ms/step - loss: 1.5303 - accuracy: 0.4625\n",
      "Epoch 9/100\n",
      "9/9 [==============================] - 4s 451ms/step - loss: 1.4952 - accuracy: 0.4176\n",
      "Epoch 10/100\n",
      "9/9 [==============================] - 4s 457ms/step - loss: 1.4678 - accuracy: 0.4156\n",
      "Epoch 11/100\n",
      "9/9 [==============================] - 4s 454ms/step - loss: 1.4482 - accuracy: 0.4293\n",
      "Epoch 12/100\n",
      "9/9 [==============================] - 4s 443ms/step - loss: 1.4219 - accuracy: 0.4367\n",
      "Epoch 13/100\n",
      "9/9 [==============================] - 4s 449ms/step - loss: 1.4001 - accuracy: 0.4359\n",
      "Epoch 14/100\n",
      "9/9 [==============================] - 4s 443ms/step - loss: 1.3888 - accuracy: 0.4500\n",
      "Epoch 15/100\n",
      "9/9 [==============================] - 4s 444ms/step - loss: 1.3560 - accuracy: 0.4438\n",
      "Epoch 16/100\n",
      "9/9 [==============================] - 4s 445ms/step - loss: 1.3246 - accuracy: 0.4700\n",
      "Epoch 17/100\n",
      "9/9 [==============================] - 4s 451ms/step - loss: 1.2981 - accuracy: 0.4598\n",
      "Epoch 18/100\n",
      "9/9 [==============================] - 4s 473ms/step - loss: 1.2724 - accuracy: 0.4753\n",
      "Epoch 19/100\n",
      "9/9 [==============================] - 4s 448ms/step - loss: 1.2313 - accuracy: 0.4794\n",
      "Epoch 20/100\n",
      "9/9 [==============================] - 4s 442ms/step - loss: 1.2019 - accuracy: 0.5015\n",
      "Epoch 21/100\n",
      "9/9 [==============================] - 4s 443ms/step - loss: 1.1777 - accuracy: 0.5045\n",
      "Epoch 22/100\n",
      "9/9 [==============================] - 4s 457ms/step - loss: 1.1687 - accuracy: 0.5106\n",
      "Epoch 23/100\n",
      "9/9 [==============================] - 4s 452ms/step - loss: 1.1974 - accuracy: 0.5220\n",
      "Epoch 24/100\n",
      "9/9 [==============================] - 4s 486ms/step - loss: 1.1512 - accuracy: 0.5069\n",
      "Epoch 25/100\n",
      "9/9 [==============================] - 4s 470ms/step - loss: 1.2048 - accuracy: 0.5516\n",
      "Epoch 26/100\n",
      "9/9 [==============================] - 4s 454ms/step - loss: 1.1451 - accuracy: 0.5159\n",
      "Epoch 27/100\n",
      "9/9 [==============================] - 4s 458ms/step - loss: 1.1303 - accuracy: 0.5533\n",
      "Epoch 28/100\n",
      "9/9 [==============================] - 4s 444ms/step - loss: 1.1635 - accuracy: 0.5588\n",
      "Epoch 29/100\n",
      "9/9 [==============================] - 4s 440ms/step - loss: 1.1022 - accuracy: 0.5377\n",
      "Epoch 30/100\n",
      "9/9 [==============================] - 4s 466ms/step - loss: 1.0417 - accuracy: 0.5551\n",
      "Epoch 31/100\n",
      "9/9 [==============================] - 4s 475ms/step - loss: 1.0354 - accuracy: 0.5625\n",
      "Epoch 32/100\n",
      "9/9 [==============================] - 5s 502ms/step - loss: 1.0246 - accuracy: 0.5660\n",
      "Epoch 33/100\n",
      "9/9 [==============================] - 4s 466ms/step - loss: 0.9842 - accuracy: 0.5715\n",
      "Epoch 34/100\n",
      "9/9 [==============================] - 4s 447ms/step - loss: 0.9597 - accuracy: 0.5742\n",
      "Epoch 35/100\n",
      "9/9 [==============================] - 4s 445ms/step - loss: 0.9412 - accuracy: 0.5924\n",
      "Epoch 36/100\n",
      "9/9 [==============================] - 4s 447ms/step - loss: 0.9470 - accuracy: 0.6194\n",
      "Epoch 37/100\n",
      "9/9 [==============================] - 4s 464ms/step - loss: 0.9168 - accuracy: 0.6364\n",
      "Epoch 38/100\n",
      "9/9 [==============================] - 4s 457ms/step - loss: 0.9190 - accuracy: 0.6304\n",
      "Epoch 39/100\n",
      "9/9 [==============================] - 4s 443ms/step - loss: 0.9491 - accuracy: 0.6098\n",
      "Epoch 40/100\n",
      "9/9 [==============================] - 4s 442ms/step - loss: 0.9269 - accuracy: 0.6209\n",
      "Epoch 41/100\n",
      "9/9 [==============================] - 4s 442ms/step - loss: 0.8980 - accuracy: 0.6372\n",
      "Epoch 42/100\n",
      "9/9 [==============================] - 4s 442ms/step - loss: 0.8852 - accuracy: 0.6334\n",
      "Epoch 43/100\n",
      "9/9 [==============================] - 4s 441ms/step - loss: 0.8645 - accuracy: 0.6546\n",
      "Epoch 44/100\n",
      "9/9 [==============================] - 4s 446ms/step - loss: 0.8696 - accuracy: 0.6342\n",
      "Epoch 45/100\n",
      "9/9 [==============================] - 4s 440ms/step - loss: 0.8850 - accuracy: 0.6130\n",
      "Epoch 46/100\n",
      "9/9 [==============================] - 4s 440ms/step - loss: 0.8284 - accuracy: 0.6352\n",
      "Epoch 47/100\n",
      "9/9 [==============================] - 4s 444ms/step - loss: 0.8065 - accuracy: 0.6323\n",
      "Epoch 48/100\n",
      "9/9 [==============================] - 4s 440ms/step - loss: 0.8031 - accuracy: 0.6329\n",
      "Epoch 49/100\n",
      "9/9 [==============================] - 4s 443ms/step - loss: 0.7845 - accuracy: 0.6429\n",
      "Epoch 50/100\n",
      "9/9 [==============================] - 4s 440ms/step - loss: 0.7703 - accuracy: 0.6429\n",
      "Epoch 51/100\n",
      "9/9 [==============================] - 4s 449ms/step - loss: 0.7636 - accuracy: 0.6607\n",
      "Epoch 52/100\n",
      "9/9 [==============================] - 4s 443ms/step - loss: 0.7459 - accuracy: 0.6855\n",
      "Epoch 53/100\n",
      "9/9 [==============================] - 4s 443ms/step - loss: 0.7468 - accuracy: 0.6942\n",
      "Epoch 54/100\n",
      "9/9 [==============================] - 4s 439ms/step - loss: 0.7278 - accuracy: 0.7118\n",
      "Epoch 55/100\n",
      "9/9 [==============================] - 4s 439ms/step - loss: 0.7215 - accuracy: 0.7054\n",
      "Epoch 56/100\n",
      "9/9 [==============================] - 4s 442ms/step - loss: 0.7329 - accuracy: 0.6986\n",
      "Epoch 57/100\n",
      "9/9 [==============================] - 4s 444ms/step - loss: 0.7283 - accuracy: 0.7054\n",
      "Epoch 58/100\n",
      "9/9 [==============================] - 4s 445ms/step - loss: 0.7303 - accuracy: 0.6995\n",
      "Epoch 59/100\n",
      "9/9 [==============================] - 4s 439ms/step - loss: 0.7114 - accuracy: 0.7137\n",
      "Epoch 60/100\n",
      "9/9 [==============================] - 4s 452ms/step - loss: 0.6968 - accuracy: 0.7279\n",
      "Epoch 61/100\n",
      "9/9 [==============================] - 4s 447ms/step - loss: 0.6955 - accuracy: 0.7216\n",
      "Epoch 62/100\n",
      "9/9 [==============================] - 4s 466ms/step - loss: 0.6921 - accuracy: 0.7227\n",
      "Epoch 63/100\n",
      "9/9 [==============================] - 4s 442ms/step - loss: 0.6895 - accuracy: 0.7357\n",
      "Epoch 64/100\n",
      "9/9 [==============================] - 4s 460ms/step - loss: 0.6861 - accuracy: 0.7300\n",
      "Epoch 65/100\n",
      "9/9 [==============================] - 4s 476ms/step - loss: 0.6923 - accuracy: 0.7337\n",
      "Epoch 66/100\n",
      "9/9 [==============================] - 4s 447ms/step - loss: 0.6943 - accuracy: 0.7180\n",
      "Epoch 67/100\n",
      "9/9 [==============================] - 4s 456ms/step - loss: 0.6845 - accuracy: 0.7158\n",
      "Epoch 68/100\n",
      "9/9 [==============================] - 4s 443ms/step - loss: 0.6872 - accuracy: 0.7190\n",
      "Epoch 69/100\n",
      "9/9 [==============================] - 4s 441ms/step - loss: 0.6782 - accuracy: 0.7322\n",
      "Epoch 70/100\n",
      "9/9 [==============================] - 4s 448ms/step - loss: 0.6715 - accuracy: 0.7437\n",
      "Epoch 71/100\n",
      "9/9 [==============================] - 4s 461ms/step - loss: 0.6839 - accuracy: 0.7170\n",
      "Epoch 72/100\n",
      "9/9 [==============================] - 4s 443ms/step - loss: 0.6815 - accuracy: 0.7305\n",
      "Epoch 73/100\n",
      "9/9 [==============================] - 4s 445ms/step - loss: 0.6828 - accuracy: 0.7270\n",
      "Epoch 74/100\n",
      "9/9 [==============================] - 4s 440ms/step - loss: 0.6755 - accuracy: 0.7179\n",
      "Epoch 75/100\n",
      "9/9 [==============================] - 4s 446ms/step - loss: 0.6746 - accuracy: 0.7301\n",
      "Epoch 76/100\n",
      "9/9 [==============================] - 4s 446ms/step - loss: 0.6705 - accuracy: 0.7344\n",
      "Epoch 77/100\n",
      "9/9 [==============================] - 4s 446ms/step - loss: 0.6671 - accuracy: 0.7260\n",
      "Epoch 78/100\n",
      "9/9 [==============================] - 4s 447ms/step - loss: 0.6567 - accuracy: 0.7357\n",
      "Epoch 79/100\n",
      "9/9 [==============================] - 4s 444ms/step - loss: 0.6591 - accuracy: 0.7336\n",
      "Epoch 80/100\n",
      "9/9 [==============================] - 4s 447ms/step - loss: 0.6483 - accuracy: 0.7357\n",
      "Epoch 81/100\n",
      "9/9 [==============================] - 4s 448ms/step - loss: 0.6470 - accuracy: 0.7393\n",
      "Epoch 82/100\n",
      "9/9 [==============================] - 4s 449ms/step - loss: 0.6410 - accuracy: 0.7475\n",
      "Epoch 83/100\n",
      "9/9 [==============================] - 4s 450ms/step - loss: 0.6676 - accuracy: 0.7288\n",
      "Epoch 84/100\n",
      "9/9 [==============================] - 4s 451ms/step - loss: 0.6470 - accuracy: 0.7510\n",
      "Epoch 85/100\n",
      "9/9 [==============================] - 4s 450ms/step - loss: 0.6532 - accuracy: 0.7263\n",
      "Epoch 86/100\n",
      "9/9 [==============================] - 4s 450ms/step - loss: 0.6349 - accuracy: 0.7458\n",
      "Epoch 87/100\n",
      "9/9 [==============================] - 4s 452ms/step - loss: 0.6298 - accuracy: 0.7451\n",
      "Epoch 88/100\n",
      "9/9 [==============================] - 4s 454ms/step - loss: 0.6493 - accuracy: 0.7364\n",
      "Epoch 89/100\n",
      "9/9 [==============================] - 4s 453ms/step - loss: 0.6536 - accuracy: 0.7424\n",
      "Epoch 90/100\n",
      "9/9 [==============================] - 4s 454ms/step - loss: 0.6687 - accuracy: 0.7353\n",
      "Epoch 91/100\n",
      "9/9 [==============================] - 4s 452ms/step - loss: 0.6613 - accuracy: 0.7238\n",
      "Epoch 92/100\n",
      "9/9 [==============================] - 4s 453ms/step - loss: 0.6718 - accuracy: 0.7211\n",
      "Epoch 93/100\n",
      "9/9 [==============================] - 4s 452ms/step - loss: 0.6472 - accuracy: 0.7397\n",
      "Epoch 94/100\n",
      "9/9 [==============================] - 4s 456ms/step - loss: 0.6416 - accuracy: 0.7324\n",
      "Epoch 95/100\n",
      "9/9 [==============================] - 4s 455ms/step - loss: 0.6395 - accuracy: 0.7458\n",
      "Epoch 96/100\n",
      "9/9 [==============================] - 4s 459ms/step - loss: 0.6205 - accuracy: 0.7642\n",
      "Epoch 97/100\n",
      "9/9 [==============================] - 4s 458ms/step - loss: 0.6172 - accuracy: 0.7504\n",
      "Epoch 98/100\n",
      "9/9 [==============================] - 4s 461ms/step - loss: 0.6109 - accuracy: 0.7574\n",
      "Epoch 99/100\n",
      "9/9 [==============================] - 4s 460ms/step - loss: 0.6134 - accuracy: 0.7541\n",
      "Epoch 100/100\n",
      "9/9 [==============================] - 4s 459ms/step - loss: 0.6131 - accuracy: 0.7419\n"
     ]
    }
   ],
   "source": [
    "X_train = ds.X_train\n",
    "y_train = ds.y_train\n",
    "history = unet.fit(X_train,y_train,epochs = 100)\n",
    "\n"
   ]
  },
  {
   "cell_type": "code",
   "execution_count": 93,
   "metadata": {},
   "outputs": [
    {
     "data": {
      "text/plain": [
       "[<matplotlib.lines.Line2D at 0x1f79c85b640>]"
      ]
     },
     "execution_count": 93,
     "metadata": {},
     "output_type": "execute_result"
    },
    {
     "data": {
      "image/png": "[encoded data removed]",
      "text/plain": [
       "<Figure size 640x480 with 1 Axes>"
      ]
     },
     "metadata": {},
     "output_type": "display_data"
    }
   ],
   "source": [
    "from matplotlib import pyplot as plt\n",
    "plt.plot(history.history[\"accuracy\"])"
   ]
  },
  {
   "cell_type": "code",
   "execution_count": 94,
   "metadata": {},
   "outputs": [],
   "source": [
    "def accuracy(real,pred):\n",
    "    comp = real == prea\n",
    "    return np.sum(comp)/(comp.shape[0]*comp.shape[1])"
   ]
  },
  {
   "cell_type": "code",
   "execution_count": 44,
   "metadata": {},
   "outputs": [
    {
     "name": "stdout",
     "output_type": "stream",
     "text": [
      "5\n",
      "4\n",
      "9/9 [==============================] - 1s 69ms/step\n"
     ]
    }
   ],
   "source": [
    "def predict(model,X):\n",
    "    pred = model.predict(X)\n",
    "    return np.argmax(pred,axis = -1,keepdims=True)"
   ]
  },
  {
   "cell_type": "code",
   "execution_count": null,
   "metadata": {},
   "outputs": [],
   "source": [
    "X_test = ds.X_test\n",
    "y_test = ds.y_test"
   ]
  },
  {
   "cell_type": "code",
   "execution_count": 58,
   "metadata": {},
   "outputs": [
    {
     "data": {
      "text/plain": [
       "(278, 8640, 1)"
      ]
     },
     "execution_count": 58,
     "metadata": {},
     "output_type": "execute_result"
    }
   ],
   "source": [
    "y_train_pred = predict(unet,X_train)\n",
    "print(\"train accuracy : \" + accuracy(y_train,y_train_pred))\n",
    "\n",
    "\n",
    "y_test_pred = predict(unet,X_test)\n",
    "print(\"train accuracy : \" + accuracy(y_train,y_train_pred))"
   ]
  },
  {
   "cell_type": "code",
   "execution_count": null,
   "metadata": {},
   "outputs": [],
   "source": []
  },
  {
   "cell_type": "code",
   "execution_count": 62,
   "metadata": {},
   "outputs": [],
   "source": []
  },
  {
   "cell_type": "code",
   "execution_count": 68,
   "metadata": {},
   "outputs": [],
   "source": [
    "\n",
    "\n",
    "if np.nan in y_pred:\n",
    "    print(\"pred\")\n",
    "\n",
    "\n",
    "if np.nan in y_train:\n",
    "    print(\"train\")\n",
    "\n",
    "np.all()\n"
   ]
  },
  {
   "cell_type": "code",
   "execution_count": 86,
   "metadata": {},
   "outputs": [
    {
     "name": "stdout",
     "output_type": "stream",
     "text": [
      "278\n"
     ]
    },
    {
     "data": {
      "text/plain": [
       "0.4067404409805489"
      ]
     },
     "execution_count": 86,
     "metadata": {},
     "output_type": "execute_result"
    }
   ],
   "source": [
    "\n",
    "\n"
   ]
  },
  {
   "cell_type": "code",
   "execution_count": 81,
   "metadata": {},
   "outputs": [
    {
     "ename": "ValueError",
     "evalue": "unknown is not supported",
     "output_type": "error",
     "traceback": [
      "\u001b[1;31m---------------------------------------------------------------------------\u001b[0m",
      "\u001b[1;31mValueError\u001b[0m                                Traceback (most recent call last)",
      "\u001b[1;32md:\\DEV\\Projekty\\PythonProjects\\Kaggle\\Detect-sleep-state\\unet_test.ipynb Cell 15\u001b[0m line \u001b[0;36m2\n\u001b[0;32m      <a href='vscode-notebook-cell:/d%3A/DEV/Projekty/PythonProjects/Kaggle/Detect-sleep-state/unet_test.ipynb#X13sZmlsZQ%3D%3D?line=0'>1</a>\u001b[0m \u001b[39mfrom\u001b[39;00m \u001b[39msklearn\u001b[39;00m\u001b[39m.\u001b[39;00m\u001b[39mmetrics\u001b[39;00m \u001b[39mimport\u001b[39;00m accuracy_score\n\u001b[1;32m----> <a href='vscode-notebook-cell:/d%3A/DEV/Projekty/PythonProjects/Kaggle/Detect-sleep-state/unet_test.ipynb#X13sZmlsZQ%3D%3D?line=1'>2</a>\u001b[0m score \u001b[39m=\u001b[39maccuracy_score(y_train[:\u001b[39m-\u001b[39;49m\u001b[39m1\u001b[39;49m],y_pred[:\u001b[39m-\u001b[39;49m\u001b[39m1\u001b[39;49m])\n",
      "File \u001b[1;32md:\\DEV\\Projekty\\PythonProjects\\venv\\lib\\site-packages\\sklearn\\utils\\_param_validation.py:211\u001b[0m, in \u001b[0;36mvalidate_params.<locals>.decorator.<locals>.wrapper\u001b[1;34m(*args, **kwargs)\u001b[0m\n\u001b[0;32m    205\u001b[0m \u001b[39mtry\u001b[39;00m:\n\u001b[0;32m    206\u001b[0m     \u001b[39mwith\u001b[39;00m config_context(\n\u001b[0;32m    207\u001b[0m         skip_parameter_validation\u001b[39m=\u001b[39m(\n\u001b[0;32m    208\u001b[0m             prefer_skip_nested_validation \u001b[39mor\u001b[39;00m global_skip_validation\n\u001b[0;32m    209\u001b[0m         )\n\u001b[0;32m    210\u001b[0m     ):\n\u001b[1;32m--> 211\u001b[0m         \u001b[39mreturn\u001b[39;00m func(\u001b[39m*\u001b[39margs, \u001b[39m*\u001b[39m\u001b[39m*\u001b[39mkwargs)\n\u001b[0;32m    212\u001b[0m \u001b[39mexcept\u001b[39;00m InvalidParameterError \u001b[39mas\u001b[39;00m e:\n\u001b[0;32m    213\u001b[0m     \u001b[39m# When the function is just a wrapper around an estimator, we allow\u001b[39;00m\n\u001b[0;32m    214\u001b[0m     \u001b[39m# the function to delegate validation to the estimator, but we replace\u001b[39;00m\n\u001b[0;32m    215\u001b[0m     \u001b[39m# the name of the estimator by the name of the function in the error\u001b[39;00m\n\u001b[0;32m    216\u001b[0m     \u001b[39m# message to avoid confusion.\u001b[39;00m\n\u001b[0;32m    217\u001b[0m     msg \u001b[39m=\u001b[39m re\u001b[39m.\u001b[39msub(\n\u001b[0;32m    218\u001b[0m         \u001b[39mr\u001b[39m\u001b[39m\"\u001b[39m\u001b[39mparameter of \u001b[39m\u001b[39m\\\u001b[39m\u001b[39mw+ must be\u001b[39m\u001b[39m\"\u001b[39m,\n\u001b[0;32m    219\u001b[0m         \u001b[39mf\u001b[39m\u001b[39m\"\u001b[39m\u001b[39mparameter of \u001b[39m\u001b[39m{\u001b[39;00mfunc\u001b[39m.\u001b[39m\u001b[39m__qualname__\u001b[39m\u001b[39m}\u001b[39;00m\u001b[39m must be\u001b[39m\u001b[39m\"\u001b[39m,\n\u001b[0;32m    220\u001b[0m         \u001b[39mstr\u001b[39m(e),\n\u001b[0;32m    221\u001b[0m     )\n",
      "File \u001b[1;32md:\\DEV\\Projekty\\PythonProjects\\venv\\lib\\site-packages\\sklearn\\metrics\\_classification.py:220\u001b[0m, in \u001b[0;36maccuracy_score\u001b[1;34m(y_true, y_pred, normalize, sample_weight)\u001b[0m\n\u001b[0;32m    154\u001b[0m \u001b[39m\u001b[39m\u001b[39m\"\"\"Accuracy classification score.\u001b[39;00m\n\u001b[0;32m    155\u001b[0m \n\u001b[0;32m    156\u001b[0m \u001b[39mIn multilabel classification, this function computes subset accuracy:\u001b[39;00m\n\u001b[1;32m   (...)\u001b[0m\n\u001b[0;32m    216\u001b[0m \u001b[39m0.5\u001b[39;00m\n\u001b[0;32m    217\u001b[0m \u001b[39m\"\"\"\u001b[39;00m\n\u001b[0;32m    219\u001b[0m \u001b[39m# Compute accuracy for each possible representation\u001b[39;00m\n\u001b[1;32m--> 220\u001b[0m y_type, y_true, y_pred \u001b[39m=\u001b[39m _check_targets(y_true, y_pred)\n\u001b[0;32m    221\u001b[0m check_consistent_length(y_true, y_pred, sample_weight)\n\u001b[0;32m    222\u001b[0m \u001b[39mif\u001b[39;00m y_type\u001b[39m.\u001b[39mstartswith(\u001b[39m\"\u001b[39m\u001b[39mmultilabel\u001b[39m\u001b[39m\"\u001b[39m):\n",
      "File \u001b[1;32md:\\DEV\\Projekty\\PythonProjects\\venv\\lib\\site-packages\\sklearn\\metrics\\_classification.py:104\u001b[0m, in \u001b[0;36m_check_targets\u001b[1;34m(y_true, y_pred)\u001b[0m\n\u001b[0;32m    102\u001b[0m \u001b[39m# No metrics support \"multiclass-multioutput\" format\u001b[39;00m\n\u001b[0;32m    103\u001b[0m \u001b[39mif\u001b[39;00m y_type \u001b[39mnot\u001b[39;00m \u001b[39min\u001b[39;00m [\u001b[39m\"\u001b[39m\u001b[39mbinary\u001b[39m\u001b[39m\"\u001b[39m, \u001b[39m\"\u001b[39m\u001b[39mmulticlass\u001b[39m\u001b[39m\"\u001b[39m, \u001b[39m\"\u001b[39m\u001b[39mmultilabel-indicator\u001b[39m\u001b[39m\"\u001b[39m]:\n\u001b[1;32m--> 104\u001b[0m     \u001b[39mraise\u001b[39;00m \u001b[39mValueError\u001b[39;00m(\u001b[39m\"\u001b[39m\u001b[39m{0}\u001b[39;00m\u001b[39m is not supported\u001b[39m\u001b[39m\"\u001b[39m\u001b[39m.\u001b[39mformat(y_type))\n\u001b[0;32m    106\u001b[0m \u001b[39mif\u001b[39;00m y_type \u001b[39min\u001b[39;00m [\u001b[39m\"\u001b[39m\u001b[39mbinary\u001b[39m\u001b[39m\"\u001b[39m, \u001b[39m\"\u001b[39m\u001b[39mmulticlass\u001b[39m\u001b[39m\"\u001b[39m]:\n\u001b[0;32m    107\u001b[0m     y_true \u001b[39m=\u001b[39m column_or_1d(y_true)\n",
      "\u001b[1;31mValueError\u001b[0m: unknown is not supported"
     ]
    }
   ],
   "source": [
    "from sklearn.metrics import accuracy_score\n",
    "score =accuracy_score(y_train[:-1],y_pred[:-1])"
   ]
  },
  {
   "cell_type": "code",
   "execution_count": 79,
   "metadata": {},
   "outputs": [
    {
     "ename": "NameError",
     "evalue": "name 'score' is not defined",
     "output_type": "error",
     "traceback": [
      "\u001b[1;31m---------------------------------------------------------------------------\u001b[0m",
      "\u001b[1;31mNameError\u001b[0m                                 Traceback (most recent call last)",
      "\u001b[1;32md:\\DEV\\Projekty\\PythonProjects\\Kaggle\\Detect-sleep-state\\unet_test.ipynb Cell 16\u001b[0m line \u001b[0;36m1\n\u001b[1;32m----> <a href='vscode-notebook-cell:/d%3A/DEV/Projekty/PythonProjects/Kaggle/Detect-sleep-state/unet_test.ipynb#X20sZmlsZQ%3D%3D?line=0'>1</a>\u001b[0m score\n",
      "\u001b[1;31mNameError\u001b[0m: name 'score' is not defined"
     ]
    }
   ],
   "source": [
    "score"
   ]
  },
  {
   "cell_type": "code",
   "execution_count": null,
   "metadata": {},
   "outputs": [],
   "source": []
  }
 ],
 "metadata": {
  "kernelspec": {
   "display_name": "venv",
   "language": "python",
   "name": "venv"
  },
  "language_info": {
   "codemirror_mode": {
    "name": "ipython",
    "version": 3
   },
   "file_extension": ".py",
   "mimetype": "text/x-python",
   "name": "python",
   "nbconvert_exporter": "python",
   "pygments_lexer": "ipython3",
   "version": "3.10.4"
  },
  "orig_nbformat": 4
 },
 "nbformat": 4,
 "nbformat_minor": 2
}
