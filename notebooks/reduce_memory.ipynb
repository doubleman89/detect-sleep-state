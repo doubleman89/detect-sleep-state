{
 "cells": [
  {
   "cell_type": "code",
   "execution_count": 2,
   "metadata": {},
   "outputs": [],
   "source": [
    "import pandas as pd"
   ]
  },
  {
   "cell_type": "code",
   "execution_count": 71,
   "metadata": {},
   "outputs": [],
   "source": [
    "serie = pd.read_csv(\"./dataloader/datasets/v1/train-series/03d92c9f6f8a.csv\", usecols = lambda x:x != 'series_id')"
   ]
  },
  {
   "cell_type": "code",
   "execution_count": 50,
   "metadata": {},
   "outputs": [
    {
     "name": "stdout",
     "output_type": "stream",
     "text": [
      "<class 'pandas.core.frame.DataFrame'>\n",
      "RangeIndex: 724140 entries, 0 to 724139\n",
      "Data columns (total 4 columns):\n",
      " #   Column     Non-Null Count   Dtype  \n",
      "---  ------     --------------   -----  \n",
      " 0   step       724140 non-null  int64  \n",
      " 1   timestamp  724140 non-null  object \n",
      " 2   anglez     724140 non-null  float64\n",
      " 3   enmo       724140 non-null  float64\n",
      "dtypes: float64(2), int64(1), object(1)\n",
      "memory usage: 72.5 MB\n"
     ]
    }
   ],
   "source": [
    "serie.info(memory_usage='deep')"
   ]
  },
  {
   "cell_type": "code",
   "execution_count": 5,
   "metadata": {},
   "outputs": [
    {
     "name": "stdout",
     "output_type": "stream",
     "text": [
      "Average memory usage for float columns: 3.68 MB\n",
      "Average memory usage for int columns: 2.76 MB\n",
      "Average memory usage for object columns: 34.53 MB\n"
     ]
    }
   ],
   "source": [
    "\n",
    "\n",
    "\n",
    "\n",
    "for dtype in ['float','int','object']:\n",
    "    selected_dtype = serie.select_dtypes(include=[dtype])\n",
    "    mean_usage_b = selected_dtype.memory_usage(deep=True).mean()\n",
    "    mean_usage_mb = mean_usage_b / 1024 ** 2\n",
    "    print(\"Average memory usage for {} columns: {:03.2f} MB\".format(dtype,mean_usage_mb))\n",
    "\n"
   ]
  },
  {
   "cell_type": "code",
   "execution_count": 41,
   "metadata": {},
   "outputs": [
    {
     "name": "stdout",
     "output_type": "stream",
     "text": [
      "<class 'pandas.core.frame.DataFrame'>\n",
      "RangeIndex: 724140 entries, 0 to 724139\n",
      "Data columns (total 1 columns):\n",
      " #   Column  Non-Null Count   Dtype \n",
      "---  ------  --------------   ----- \n",
      " 0   step    724140 non-null  uint32\n",
      "dtypes: uint32(1)\n",
      "memory usage: 2.8 MB\n"
     ]
    }
   ],
   "source": [
    "serie[['step']].info()"
   ]
  },
  {
   "cell_type": "code",
   "execution_count": 69,
   "metadata": {},
   "outputs": [],
   "source": [
    "def save_RAM(serie, unsigned_cols = []):\n",
    "    if len(unsigned_cols) > 0:\n",
    "\n",
    "        series_optimized = serie[unsigned_cols]\n",
    "        downcast_dict = {\n",
    "            'int':'unsigned',\n",
    "            'float':'float'\n",
    "            }\n",
    "        for dtype in downcast_dict.keys():\n",
    "            series_dtype = series_optimized.select_dtypes(include=[dtype])\n",
    "            series_dtype = series_dtype.apply(pd.to_numeric,downcast =downcast_dict[dtype])\n",
    "            try:            \n",
    "                serie[list(series_dtype.columns)] = series_dtype\n",
    "            except:\n",
    "                pass\n",
    "    \n",
    "    return serie\n"
   ]
  },
  {
   "cell_type": "code",
   "execution_count": 76,
   "metadata": {},
   "outputs": [
    {
     "name": "stdout",
     "output_type": "stream",
     "text": [
      "<class 'pandas.core.frame.DataFrame'>\n",
      "RangeIndex: 724140 entries, 0 to 724139\n",
      "Data columns (total 4 columns):\n",
      " #   Column     Non-Null Count   Dtype  \n",
      "---  ------     --------------   -----  \n",
      " 0   step       724140 non-null  uint32 \n",
      " 1   timestamp  724140 non-null  object \n",
      " 2   anglez     724140 non-null  float32\n",
      " 3   enmo       724140 non-null  float32\n",
      "dtypes: float32(2), object(1), uint32(1)\n",
      "memory usage: 13.8+ MB\n"
     ]
    }
   ],
   "source": [
    "serie_test = save_RAM(serie,['step','enmo','anglez'])\n",
    "serie_test.info()"
   ]
  },
  {
   "cell_type": "code",
   "execution_count": 78,
   "metadata": {},
   "outputs": [
    {
     "name": "stdout",
     "output_type": "stream",
     "text": [
      "<class 'pandas.core.series.Series'>\n",
      "RangeIndex: 724140 entries, 0 to 724139\n",
      "Series name: timestamp\n",
      "Non-Null Count   Dtype \n",
      "--------------   ----- \n",
      "724140 non-null  object\n",
      "dtypes: object(1)\n",
      "memory usage: 5.5+ MB\n"
     ]
    }
   ],
   "source": [
    "serie_test['timestamp'].info()"
   ]
  },
  {
   "cell_type": "code",
   "execution_count": 80,
   "metadata": {},
   "outputs": [],
   "source": [
    "\n",
    "ts = pd.to_datetime(serie['timestamp'])"
   ]
  },
  {
   "cell_type": "code",
   "execution_count": 81,
   "metadata": {},
   "outputs": [
    {
     "name": "stdout",
     "output_type": "stream",
     "text": [
      "<class 'pandas.core.series.Series'>\n",
      "RangeIndex: 724140 entries, 0 to 724139\n",
      "Series name: timestamp\n",
      "Non-Null Count   Dtype                    \n",
      "--------------   -----                    \n",
      "724140 non-null  datetime64[ns, UTC-04:00]\n",
      "dtypes: datetime64[ns, UTC-04:00](1)\n",
      "memory usage: 5.5 MB\n"
     ]
    }
   ],
   "source": [
    "ts.info()"
   ]
  },
  {
   "cell_type": "code",
   "execution_count": 85,
   "metadata": {},
   "outputs": [
    {
     "name": "stdout",
     "output_type": "stream",
     "text": [
      "3.1413056\n"
     ]
    }
   ],
   "source": [
    "\n",
    "\n",
    "import numpy as np\n",
    "from random import random\n",
    "def pi_calculation(n=50000000) -> \"area\":\n",
    "    \"\"\"Estimate pi with monte carlo simulation.\n",
    "    \n",
    "    Arguments:\n",
    "        n: Number of Simulations\n",
    "    \"\"\"\n",
    "    return np.sum(np.random.random(n)**2 + np.random.random(n)**2 <= 1) / n * 4\n",
    "\n",
    "\n",
    "pi = pi_calculation()\n",
    "print(pi)"
   ]
  },
  {
   "cell_type": "code",
   "execution_count": 83,
   "metadata": {},
   "outputs": [
    {
     "data": {
      "text/plain": [
       "array([ True, False,  True,  True,  True])"
      ]
     },
     "execution_count": 83,
     "metadata": {},
     "output_type": "execute_result"
    }
   ],
   "source": [
    "np.random.random(5)**2 + np.random.random(5)**2 <= 1"
   ]
  },
  {
   "cell_type": "code",
   "execution_count": null,
   "metadata": {},
   "outputs": [],
   "source": []
  }
 ],
 "metadata": {
  "kernelspec": {
   "display_name": "venv",
   "language": "python",
   "name": "venv"
  },
  "language_info": {
   "codemirror_mode": {
    "name": "ipython",
    "version": 3
   },
   "file_extension": ".py",
   "mimetype": "text/x-python",
   "name": "python",
   "nbconvert_exporter": "python",
   "pygments_lexer": "ipython3",
   "version": "3.10.4"
  }
 },
 "nbformat": 4,
 "nbformat_minor": 2
}
