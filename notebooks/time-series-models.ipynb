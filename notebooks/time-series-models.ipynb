{
 "cells": [
  {
   "cell_type": "code",
   "execution_count": 1,
   "metadata": {},
   "outputs": [],
   "source": [
    "from datetime import datetime\n",
    "import tensorflow as tf\n",
    "import importlib\n",
    "import numpy as np\n",
    "import pandas as pd\n",
    "from datetime import datetime\n",
    "now = str(datetime.now().date())"
   ]
  },
  {
   "cell_type": "code",
   "execution_count": 2,
   "metadata": {},
   "outputs": [],
   "source": [
    "# import config \n",
    "import configs.config\n",
    "importlib.reload(configs.config)\n",
    "from configs.config import CFG\n",
    "from utils import config\n",
    "config = config.Config.from_json(CFG)"
   ]
  },
  {
   "cell_type": "markdown",
   "metadata": {},
   "source": [
    "## Create Dataset"
   ]
  },
  {
   "cell_type": "code",
   "execution_count": 3,
   "metadata": {},
   "outputs": [
    {
     "name": "stdout",
     "output_type": "stream",
     "text": [
      "(52, 5760, 4)\n",
      "(3, 5760, 4)\n"
     ]
    }
   ],
   "source": [
    "# create Train Series and Dataset \n",
    "import dataloader.dataloader\n",
    "importlib.reload(dataloader.dataloader)\n",
    "from dataloader.dataloader import Train_Series,Dataset\n",
    "try: \n",
    "    del series,ds\n",
    "except:\n",
    "    pass\n",
    "from dataloader.dataloader import Test_Series\n",
    "try: \n",
    "    del test_series\n",
    "except:\n",
    "    pass\n",
    "\n",
    "series = Train_Series(config.data,config.paths)\n",
    "series.createSeries()\n",
    "test_series = Test_Series(config.data,config.paths)\n",
    "test_series.createSeries()\n",
    "ds = Dataset(series,test_series)\n",
    "ds.split_dataset()\n",
    "\n",
    "X_train = ds.X_train\n",
    "y_train = ds.y_train\n",
    "X_test = ds.X_test\n",
    "y_test = ds.y_test\n",
    "\n",
    "print(X_train.shape)\n",
    "print(X_test.shape)\n"
   ]
  },
  {
   "cell_type": "code",
   "execution_count": 11,
   "metadata": {},
   "outputs": [],
   "source": [
    "# Generate the dataset windows\n",
    "window_size = 150\n",
    "batch_size = 32\n",
    "shuffle_buffer_size = 1500\n",
    "num_classes = 5\n",
    "stride = 10"
   ]
  },
  {
   "cell_type": "code",
   "execution_count": 12,
   "metadata": {},
   "outputs": [],
   "source": [
    "def windowed_dataset(series,  window_size, stride, batch_size, shuffle_buffer,num_classes):\n",
    "    \"\"\"Generates dataset windows\n",
    "\n",
    "    Args:\n",
    "      series (array of float) - contains the values of the time series\n",
    "      labels - contains \n",
    "      window_size (int) - the number of time steps to average\n",
    "      batch_size (int) - the batch size\n",
    "      shuffle_buffer(int) - buffer size to use for the shuffle method\n",
    "\n",
    "    Returns:\n",
    "      dataset (TF Dataset) - TF Dataset containing time windows\n",
    "    \"\"\"\n",
    "\n",
    "    dataset = series.reshape(-1,series.shape[-1])\n",
    "    # Generate a TF Dataset from the series values\n",
    "    dataset = tf.data.Dataset.from_tensor_slices(dataset)\n",
    "\n",
    "    # Window the data but only take those with the specified size\n",
    "    dataset = dataset.window(window_size, shift=stride, drop_remainder=True)\n",
    "    \n",
    "    # Flatten the windows by putting its elements in a single batch\n",
    "    dataset = dataset.flat_map(lambda window: window.batch(window_size))\n",
    "\n",
    "    #\n",
    "    # Create tuples with features and labels \n",
    "    dataset = dataset.map(lambda window: (window[:,:-1], tf.one_hot(tf.dtypes.cast(window[:,-1],tf.int8),depth=num_classes)))\n",
    "\n",
    "    # Shuffle the windows\n",
    "    dataset = dataset.shuffle(shuffle_buffer)\n",
    "    \n",
    "    # Create batches of windows\n",
    "    dataset = dataset.batch(batch_size).prefetch(1)\n",
    "    \n",
    "    return dataset"
   ]
  },
  {
   "cell_type": "code",
   "execution_count": 13,
   "metadata": {},
   "outputs": [],
   "source": [
    "\n",
    "dataset = windowed_dataset(ds.ds, window_size, stride, batch_size,shuffle_buffer_size,num_classes)\n",
    "num_features = dataset.element_spec[0].shape[-1]\n",
    "\n"
   ]
  },
  {
   "cell_type": "code",
   "execution_count": 14,
   "metadata": {},
   "outputs": [],
   "source": [
    "## assertion when the shuffle is disabled \n",
    "# for window in dataset:\n",
    "#     window_numpy =window[0].numpy()\n",
    "#     print((window_numpy[1,:-1,:] == window_numpy[0,1:,:]).all())\n",
    "#     print((window_numpy[2,:-2,:] == window_numpy[0,2:,:]).all())\n",
    "#     break"
   ]
  },
  {
   "cell_type": "markdown",
   "metadata": {},
   "source": [
    "## Build the Model"
   ]
  },
  {
   "cell_type": "code",
   "execution_count": 15,
   "metadata": {},
   "outputs": [
    {
     "name": "stdout",
     "output_type": "stream",
     "text": [
      "Model: \"sequential_2\"\n",
      "_________________________________________________________________\n",
      " Layer (type)                Output Shape              Param #   \n",
      "=================================================================\n",
      " lambda_2 (Lambda)           (None, 150, 4)            0         \n",
      "                                                                 \n",
      " bidirectional_4 (Bidirectio  (None, 150, 64)          9472      \n",
      " nal)                                                            \n",
      "                                                                 \n",
      " bidirectional_5 (Bidirectio  (None, 150, 64)          24832     \n",
      " nal)                                                            \n",
      "                                                                 \n",
      " dense_2 (Dense)             (None, 150, 5)            325       \n",
      "                                                                 \n",
      "=================================================================\n",
      "Total params: 34,629\n",
      "Trainable params: 34,629\n",
      "Non-trainable params: 0\n",
      "_________________________________________________________________\n"
     ]
    }
   ],
   "source": [
    "# Build the Model\n",
    "model_tune = tf.keras.models.Sequential([\n",
    "  tf.keras.layers.Lambda(lambda x: x,input_shape=[window_size,num_features]),\n",
    "  tf.keras.layers.Bidirectional(tf.keras.layers.LSTM(32, return_sequences=True)),\n",
    "  tf.keras.layers.Bidirectional(tf.keras.layers.LSTM(32,return_sequences=True)),\n",
    "  tf.keras.layers.Dense(num_classes,activation ='softmax'),\n",
    "])\n",
    "\n",
    "# Print the model summary\n",
    "model_tune.summary()"
   ]
  },
  {
   "cell_type": "markdown",
   "metadata": {},
   "source": [
    "## Tune the Learning Rate"
   ]
  },
  {
   "cell_type": "code",
   "execution_count": 16,
   "metadata": {},
   "outputs": [],
   "source": [
    "# define epochs \n",
    "epochs = 40\n",
    "#define initiial lr rate\n",
    "init_lr_rate = 1e-6\n"
   ]
  },
  {
   "cell_type": "code",
   "execution_count": 125,
   "metadata": {},
   "outputs": [
    {
     "name": "stdout",
     "output_type": "stream",
     "text": [
      "Epoch 1/40\n",
      "936/936 [==============================] - 83s 83ms/step - loss: 0.9392 - categorical_accuracy: 0.7055 - lr: 1.0000e-06\n",
      "Epoch 2/40\n",
      "936/936 [==============================] - 83s 89ms/step - loss: 0.8947 - categorical_accuracy: 0.7276 - lr: 1.2589e-06\n",
      "Epoch 3/40\n",
      "936/936 [==============================] - 84s 89ms/step - loss: 0.8739 - categorical_accuracy: 0.7339 - lr: 1.5849e-06\n",
      "Epoch 4/40\n",
      "936/936 [==============================] - 80s 86ms/step - loss: 0.8553 - categorical_accuracy: 0.7348 - lr: 1.9953e-06\n",
      "Epoch 5/40\n",
      "936/936 [==============================] - 80s 86ms/step - loss: 0.8362 - categorical_accuracy: 0.7326 - lr: 2.5119e-06\n",
      "Epoch 6/40\n",
      "936/936 [==============================] - 82s 87ms/step - loss: 0.8164 - categorical_accuracy: 0.7304 - lr: 3.1623e-06\n",
      "Epoch 7/40\n",
      "936/936 [==============================] - 83s 89ms/step - loss: 0.7915 - categorical_accuracy: 0.7366 - lr: 3.9811e-06\n",
      "Epoch 8/40\n",
      "936/936 [==============================] - 83s 88ms/step - loss: 0.7734 - categorical_accuracy: 0.7129 - lr: 5.0119e-06\n",
      "Epoch 9/40\n",
      "936/936 [==============================] - 82s 87ms/step - loss: 0.7509 - categorical_accuracy: 0.7158 - lr: 6.3096e-06\n",
      "Epoch 10/40\n",
      "936/936 [==============================] - 82s 88ms/step - loss: 0.7279 - categorical_accuracy: 0.7109 - lr: 7.9433e-06\n",
      "Epoch 11/40\n",
      "936/936 [==============================] - 84s 90ms/step - loss: 0.7048 - categorical_accuracy: 0.7112 - lr: 1.0000e-05\n",
      "Epoch 12/40\n",
      "936/936 [==============================] - 85s 91ms/step - loss: 0.6802 - categorical_accuracy: 0.7115 - lr: 1.2589e-05\n",
      "Epoch 13/40\n",
      "936/936 [==============================] - 88s 93ms/step - loss: 0.6552 - categorical_accuracy: 0.7116 - lr: 1.5849e-05\n",
      "Epoch 14/40\n",
      "936/936 [==============================] - 79s 84ms/step - loss: 0.6317 - categorical_accuracy: 0.7116 - lr: 1.9953e-05\n",
      "Epoch 15/40\n",
      "936/936 [==============================] - 86s 92ms/step - loss: 0.6058 - categorical_accuracy: 0.7116 - lr: 2.5119e-05\n",
      "Epoch 16/40\n",
      "936/936 [==============================] - 81s 87ms/step - loss: 0.5813 - categorical_accuracy: 0.7129 - lr: 3.1623e-05\n",
      "Epoch 17/40\n",
      "936/936 [==============================] - 82s 88ms/step - loss: 0.5595 - categorical_accuracy: 0.7183 - lr: 3.9811e-05\n",
      "Epoch 18/40\n",
      "936/936 [==============================] - 87s 93ms/step - loss: 0.5413 - categorical_accuracy: 0.7387 - lr: 5.0119e-05\n",
      "Epoch 19/40\n",
      "936/936 [==============================] - 81s 87ms/step - loss: 0.5241 - categorical_accuracy: 0.7434 - lr: 6.3096e-05\n",
      "Epoch 20/40\n",
      "936/936 [==============================] - 75s 80ms/step - loss: 0.4977 - categorical_accuracy: 0.7594 - lr: 7.9433e-05\n",
      "Epoch 21/40\n",
      "936/936 [==============================] - 75s 80ms/step - loss: 0.4765 - categorical_accuracy: 0.7719 - lr: 1.0000e-04\n",
      "Epoch 22/40\n",
      "936/936 [==============================] - 75s 80ms/step - loss: 0.4712 - categorical_accuracy: 0.7693 - lr: 1.2589e-04\n",
      "Epoch 23/40\n",
      "936/936 [==============================] - 79s 84ms/step - loss: 0.4475 - categorical_accuracy: 0.7847 - lr: 1.5849e-04\n",
      "Epoch 24/40\n",
      "936/936 [==============================] - 81s 87ms/step - loss: 0.4363 - categorical_accuracy: 0.7875 - lr: 1.9953e-04\n",
      "Epoch 25/40\n",
      "936/936 [==============================] - 75s 80ms/step - loss: 0.4272 - categorical_accuracy: 0.7888 - lr: 2.5119e-04\n",
      "Epoch 26/40\n",
      "936/936 [==============================] - 77s 82ms/step - loss: 0.4247 - categorical_accuracy: 0.7942 - lr: 3.1623e-04\n",
      "Epoch 27/40\n",
      "936/936 [==============================] - 86s 92ms/step - loss: 0.4126 - categorical_accuracy: 0.8014 - lr: 3.9811e-04\n",
      "Epoch 28/40\n",
      "936/936 [==============================] - 87s 93ms/step - loss: 0.4016 - categorical_accuracy: 0.8077 - lr: 5.0119e-04\n",
      "Epoch 29/40\n",
      "936/936 [==============================] - 84s 90ms/step - loss: 0.3931 - categorical_accuracy: 0.8140 - lr: 6.3096e-04\n",
      "Epoch 30/40\n",
      "936/936 [==============================] - 84s 90ms/step - loss: 0.3809 - categorical_accuracy: 0.8217 - lr: 7.9433e-04\n",
      "Epoch 31/40\n",
      "936/936 [==============================] - 81s 87ms/step - loss: 0.3788 - categorical_accuracy: 0.8260 - lr: 0.0010\n",
      "Epoch 32/40\n",
      "936/936 [==============================] - 82s 88ms/step - loss: 0.3712 - categorical_accuracy: 0.8291 - lr: 0.0013\n",
      "Epoch 33/40\n",
      "936/936 [==============================] - 86s 92ms/step - loss: 0.3606 - categorical_accuracy: 0.8359 - lr: 0.0016\n",
      "Epoch 34/40\n",
      "936/936 [==============================] - 87s 92ms/step - loss: 0.3565 - categorical_accuracy: 0.8403 - lr: 0.0020\n",
      "Epoch 35/40\n",
      "936/936 [==============================] - 86s 92ms/step - loss: 0.3553 - categorical_accuracy: 0.8411 - lr: 0.0025\n",
      "Epoch 36/40\n",
      "936/936 [==============================] - 83s 88ms/step - loss: 0.3641 - categorical_accuracy: 0.8374 - lr: 0.0032\n",
      "Epoch 37/40\n",
      "936/936 [==============================] - 82s 87ms/step - loss: 0.3684 - categorical_accuracy: 0.8356 - lr: 0.0040\n",
      "Epoch 38/40\n",
      "936/936 [==============================] - 84s 90ms/step - loss: 0.3567 - categorical_accuracy: 0.8438 - lr: 0.0050\n",
      "Epoch 39/40\n",
      "936/936 [==============================] - 85s 91ms/step - loss: 0.3530 - categorical_accuracy: 0.8483 - lr: 0.0063\n",
      "Epoch 40/40\n",
      "936/936 [==============================] - 82s 87ms/step - loss: 0.3673 - categorical_accuracy: 0.8414 - lr: 0.0079\n"
     ]
    }
   ],
   "source": [
    "# Reset states generated by Keras\n",
    "tf.keras.backend.clear_session()\n",
    "# Set the learning rate scheduler\n",
    "lr_schedule = tf.keras.callbacks.LearningRateScheduler(\n",
    "    lambda epoch: init_lr_rate * 10**(epoch / 10))\n",
    "\n",
    "# Initialize the optimizer\n",
    "optimizer = tf.keras.optimizers.SGD(momentum=0.9)\n",
    "\n",
    "# Set the training parameters\n",
    "model_tune.compile(\n",
    "    #loss=tf.keras.losses.Huber(), optimizer=optimizer)\n",
    "    optimizer = optimizer,\n",
    "    loss=tf.keras.losses.CategoricalCrossentropy(),\n",
    "    metrics=['categorical_accuracy'])\n",
    "\n",
    "\n",
    "# Train the model\n",
    "history = model_tune.fit(dataset, epochs=epochs, callbacks=[lr_schedule])"
   ]
  },
  {
   "cell_type": "code",
   "execution_count": 126,
   "metadata": {},
   "outputs": [
    {
     "data": {
      "text/plain": [
       "(1e-06, 0.01, 0.3, 0.6)"
      ]
     },
     "execution_count": 126,
     "metadata": {},
     "output_type": "execute_result"
    },
    {
     "data": {
      "image/png": "[encoded data removed]",
      "text/plain": [
       "<Figure size 1000x600 with 1 Axes>"
      ]
     },
     "metadata": {},
     "output_type": "display_data"
    }
   ],
   "source": [
    "from matplotlib import pyplot as plt\n",
    "# Define the learning rate array\n",
    "lrs = init_lr_rate * (10 ** (np.arange(epochs) / 10))\n",
    "\n",
    "# Set the figure size\n",
    "plt.figure(figsize=(10, 6))\n",
    "\n",
    "# Set the grid\n",
    "plt.grid(True)\n",
    "\n",
    "# Plot the loss in log scale\n",
    "plt.semilogx(lrs, history.history[\"loss\"])\n",
    "\n",
    "# Increase the tickmarks size\n",
    "plt.tick_params('both', length=10, width=1, which='both')\n",
    "\n",
    "# Set the plot boundaries\n",
    "plt.axis([init_lr_rate, 1e-2, 0.3, 0.6])"
   ]
  },
  {
   "cell_type": "code",
   "execution_count": 17,
   "metadata": {},
   "outputs": [
    {
     "name": "stdout",
     "output_type": "stream",
     "text": [
      "Epoch 1/40\n",
      "936/936 [==============================] - 79s 80ms/step - loss: 0.2280 - categorical_accuracy: 0.9072\n",
      "Epoch 2/40\n",
      "936/936 [==============================] - 110s 117ms/step - loss: 0.1832 - categorical_accuracy: 0.9257\n",
      "Epoch 3/40\n",
      "936/936 [==============================] - 135s 143ms/step - loss: 0.1849 - categorical_accuracy: 0.9243\n",
      "Epoch 4/40\n",
      "936/936 [==============================] - 80s 85ms/step - loss: 0.1827 - categorical_accuracy: 0.9255\n",
      "Epoch 5/40\n",
      "936/936 [==============================] - 79s 84ms/step - loss: 0.1799 - categorical_accuracy: 0.9280\n",
      "Epoch 6/40\n",
      "936/936 [==============================] - 85s 91ms/step - loss: 0.1777 - categorical_accuracy: 0.9277\n",
      "Epoch 7/40\n",
      "936/936 [==============================] - 81s 86ms/step - loss: 0.1802 - categorical_accuracy: 0.9288\n",
      "Epoch 8/40\n",
      "936/936 [==============================] - 78s 83ms/step - loss: 0.1706 - categorical_accuracy: 0.9333\n",
      "Epoch 9/40\n",
      "936/936 [==============================] - 80s 85ms/step - loss: 0.1662 - categorical_accuracy: 0.9346\n",
      "Epoch 10/40\n",
      "936/936 [==============================] - 78s 83ms/step - loss: 0.1663 - categorical_accuracy: 0.9344\n",
      "Epoch 11/40\n",
      "936/936 [==============================] - 77s 82ms/step - loss: 0.1658 - categorical_accuracy: 0.9355\n",
      "Epoch 12/40\n",
      "936/936 [==============================] - 78s 83ms/step - loss: 0.1653 - categorical_accuracy: 0.9355\n",
      "Epoch 13/40\n",
      "936/936 [==============================] - 78s 83ms/step - loss: 0.1652 - categorical_accuracy: 0.9353\n",
      "Epoch 14/40\n",
      "936/936 [==============================] - 79s 85ms/step - loss: 0.1715 - categorical_accuracy: 0.9317\n",
      "Epoch 15/40\n",
      "936/936 [==============================] - 81s 86ms/step - loss: 0.1812 - categorical_accuracy: 0.9294\n",
      "Epoch 16/40\n",
      "936/936 [==============================] - 81s 86ms/step - loss: 0.1752 - categorical_accuracy: 0.9317\n",
      "Epoch 17/40\n",
      "936/936 [==============================] - 81s 86ms/step - loss: 0.1699 - categorical_accuracy: 0.9336\n",
      "Epoch 18/40\n",
      "936/936 [==============================] - 82s 87ms/step - loss: 0.1633 - categorical_accuracy: 0.9373\n",
      "Epoch 19/40\n",
      "936/936 [==============================] - 82s 87ms/step - loss: 0.1593 - categorical_accuracy: 0.9385\n",
      "Epoch 20/40\n",
      "936/936 [==============================] - 79s 84ms/step - loss: 0.1668 - categorical_accuracy: 0.9365\n",
      "Epoch 21/40\n",
      "936/936 [==============================] - 79s 85ms/step - loss: 0.1666 - categorical_accuracy: 0.9364\n",
      "Epoch 22/40\n",
      "936/936 [==============================] - 80s 85ms/step - loss: 0.1727 - categorical_accuracy: 0.9296\n",
      "Epoch 23/40\n",
      "936/936 [==============================] - 81s 87ms/step - loss: 0.1748 - categorical_accuracy: 0.9310\n",
      "Epoch 24/40\n",
      "936/936 [==============================] - 81s 86ms/step - loss: 0.1698 - categorical_accuracy: 0.9346\n",
      "Epoch 25/40\n",
      "936/936 [==============================] - 81s 86ms/step - loss: 0.1618 - categorical_accuracy: 0.9364\n",
      "Epoch 26/40\n",
      "936/936 [==============================] - 80s 86ms/step - loss: 0.1590 - categorical_accuracy: 0.9393\n",
      "Epoch 27/40\n",
      "936/936 [==============================] - 80s 86ms/step - loss: 0.1574 - categorical_accuracy: 0.9384\n",
      "Epoch 28/40\n",
      "936/936 [==============================] - 81s 86ms/step - loss: 0.1561 - categorical_accuracy: 0.9394\n",
      "Epoch 29/40\n",
      "936/936 [==============================] - 80s 85ms/step - loss: 0.1531 - categorical_accuracy: 0.9408\n",
      "Epoch 30/40\n",
      "936/936 [==============================] - 80s 85ms/step - loss: 0.1468 - categorical_accuracy: 0.9442\n",
      "Epoch 31/40\n",
      "936/936 [==============================] - 79s 84ms/step - loss: 0.1591 - categorical_accuracy: 0.9391\n",
      "Epoch 32/40\n",
      "936/936 [==============================] - 79s 85ms/step - loss: 0.1600 - categorical_accuracy: 0.9367\n",
      "Epoch 33/40\n",
      "936/936 [==============================] - 80s 85ms/step - loss: 0.1613 - categorical_accuracy: 0.9375\n",
      "Epoch 34/40\n",
      "936/936 [==============================] - 79s 84ms/step - loss: 0.1580 - categorical_accuracy: 0.9392\n",
      "Epoch 35/40\n",
      "936/936 [==============================] - 80s 85ms/step - loss: 0.1581 - categorical_accuracy: 0.9388\n",
      "Epoch 36/40\n",
      "936/936 [==============================] - 81s 86ms/step - loss: 0.1561 - categorical_accuracy: 0.9397\n",
      "Epoch 37/40\n",
      "936/936 [==============================] - 79s 84ms/step - loss: 0.1645 - categorical_accuracy: 0.9358\n",
      "Epoch 38/40\n",
      "936/936 [==============================] - 80s 85ms/step - loss: 0.1539 - categorical_accuracy: 0.9387\n",
      "Epoch 39/40\n",
      "936/936 [==============================] - 81s 86ms/step - loss: 0.1784 - categorical_accuracy: 0.9290\n",
      "Epoch 40/40\n",
      "936/936 [==============================] - 77s 81ms/step - loss: 0.1751 - categorical_accuracy: 0.9303\n"
     ]
    }
   ],
   "source": [
    "# Reset states generated by Keras\n",
    "tf.keras.backend.clear_session()\n",
    "\n",
    "# Build the model\n",
    "model = tf.keras.models.Sequential([\n",
    "  tf.keras.layers.Lambda(lambda x: x,input_shape=[window_size,num_features]),\n",
    "  tf.keras.layers.Bidirectional(tf.keras.layers.LSTM(32, return_sequences=True)),\n",
    "  tf.keras.layers.Bidirectional(tf.keras.layers.LSTM(32,return_sequences=True)),\n",
    "  tf.keras.layers.Dense(num_classes,activation ='softmax'),\n",
    "])\n",
    "\n",
    "# Set the learning rate\n",
    "learning_rate = 0.006\n",
    "epochs = 40 \n",
    "\n",
    "# Initialize the optimizer\n",
    "optimizer = tf.keras.optimizers.Adam(learning_rate=learning_rate)\n",
    "\n",
    "# Set the training parameters\n",
    "model.compile(\n",
    "    #loss=tf.keras.losses.Huber(), optimizer=optimizer)\n",
    "    optimizer = optimizer,\n",
    "    loss=tf.keras.losses.CategoricalCrossentropy(),\n",
    "    metrics=['categorical_accuracy'])\n",
    "\n",
    "# Train the model\n",
    "history = model.fit(dataset,epochs=epochs)"
   ]
  },
  {
   "cell_type": "code",
   "execution_count": 142,
   "metadata": {},
   "outputs": [
    {
     "data": {
      "text/plain": [
       "<tf.Variable 'bidirectional_1/backward_lstm_1/lstm_cell_5/bias:0' shape=(128,) dtype=float32, numpy=\n",
       "array([ 9.30302322e-01, -2.16376352e+00, -4.70180549e-02,  7.49051392e-01,\n",
       "       -1.97009325e+00,  1.13248169e+00, -1.43588507e+00, -2.31660771e+00,\n",
       "       -6.32236421e-01, -1.51253593e+00,  1.30738306e+00, -6.66644752e-01,\n",
       "        7.31326580e-01,  1.52001634e-01,  4.24534559e-01, -1.14035308e+00,\n",
       "       -1.32123697e+00, -1.80488372e+00, -2.51831627e+00,  5.54332316e-01,\n",
       "       -2.30064586e-01,  7.23383963e-01, -1.58678198e+00, -1.00627430e-01,\n",
       "       -1.41211760e+00, -1.51713085e+00, -8.75015497e-01, -5.19484472e+00,\n",
       "       -1.37880254e+00, -2.13136292e+00, -8.19314659e-01, -1.38153374e+00,\n",
       "       -4.75600332e-01,  2.44118428e+00,  2.18917155e+00,  1.98792434e+00,\n",
       "        3.10235023e-01,  1.43037510e+00,  8.50903392e-01,  8.87495577e-02,\n",
       "       -4.84056056e-01,  2.85588413e-01,  1.73714507e+00,  3.59346896e-01,\n",
       "       -6.69232607e-02,  1.07970345e+00,  2.58274674e+00,  3.30978847e+00,\n",
       "       -3.28362703e-01,  5.02787828e-01, -5.82061827e-01,  7.05039203e-01,\n",
       "        1.06387508e+00, -7.46272355e-02,  4.83559042e-01,  2.67529082e+00,\n",
       "        5.65268397e-01, -4.08359570e-03,  2.11420637e-02,  1.73415422e+00,\n",
       "       -1.44659078e+00, -3.60040724e-01,  6.22821271e-01,  1.65406227e+00,\n",
       "        5.49712121e-01, -1.06629229e+00,  4.01471674e-01, -1.35795116e-01,\n",
       "       -1.19487214e+00,  4.05554354e-01,  9.02019560e-01,  1.76396757e-01,\n",
       "        1.03608504e-01,  1.15483296e+00, -5.77559292e-01, -3.96869406e-02,\n",
       "        1.12320173e+00, -2.34552741e-01,  1.29715964e-01,  2.91650355e-01,\n",
       "        8.67296815e-01, -2.74874836e-01,  8.20738822e-02,  1.37915766e+00,\n",
       "       -9.44622308e-02, -2.00177401e-01, -6.82463109e-01, -9.20967236e-02,\n",
       "        5.92804402e-02, -3.75434995e-01,  2.43327260e-01,  4.49718833e-01,\n",
       "       -3.53722125e-01, -7.95526616e-03, -5.01596987e-01, -5.51753938e-01,\n",
       "       -1.64647424e+00,  8.36968899e-01, -2.76473236e+00, -2.78400946e+00,\n",
       "       -1.58796525e+00, -1.99981833e+00, -2.56049943e+00, -1.76547372e+00,\n",
       "       -1.43748474e+00, -1.09872270e+00, -2.32336044e+00, -1.88278139e+00,\n",
       "       -2.81479359e+00, -2.52331281e+00, -1.20440996e+00, -5.52280471e-02,\n",
       "       -1.02542698e+00, -2.17422199e+00, -5.32810569e-01, -1.88829637e+00,\n",
       "       -2.45641184e+00, -1.63753104e+00, -8.36311877e-01, -1.62166440e+00,\n",
       "       -1.96164620e+00, -2.28468060e+00, -9.69277382e-01,  1.00058414e-01,\n",
       "       -1.28893280e+00, -1.64867640e+00, -2.21144819e+00,  2.13289365e-01],\n",
       "      dtype=float32)>"
      ]
     },
     "execution_count": 142,
     "metadata": {},
     "output_type": "execute_result"
    }
   ],
   "source": []
  },
  {
   "cell_type": "code",
   "execution_count": 20,
   "metadata": {},
   "outputs": [
    {
     "data": {
      "text/plain": [
       "[<matplotlib.lines.Line2D at 0x22f9bedf010>]"
      ]
     },
     "execution_count": 20,
     "metadata": {},
     "output_type": "execute_result"
    },
    {
     "data": {
      "image/png": "[encoded data removed]",
      "text/plain": [
       "<Figure size 640x480 with 1 Axes>"
      ]
     },
     "metadata": {},
     "output_type": "display_data"
    }
   ],
   "source": [
    "from matplotlib import pyplot as plt\n",
    "plt.plot(history.history[\"loss\"])"
   ]
  },
  {
   "cell_type": "code",
   "execution_count": 21,
   "metadata": {},
   "outputs": [
    {
     "name": "stderr",
     "output_type": "stream",
     "text": [
      "WARNING:absl:Found untraced functions such as _update_step_xla, lstm_cell_1_layer_call_fn, lstm_cell_1_layer_call_and_return_conditional_losses, lstm_cell_2_layer_call_fn, lstm_cell_2_layer_call_and_return_conditional_losses while saving (showing 5 of 9). These functions will not be directly callable after loading.\n"
     ]
    },
    {
     "name": "stdout",
     "output_type": "stream",
     "text": [
      "INFO:tensorflow:Assets written to: model/saved_models/lstm_1x32_lr_0.006_v1_2023-11-29\\assets\n"
     ]
    },
    {
     "name": "stderr",
     "output_type": "stream",
     "text": [
      "INFO:tensorflow:Assets written to: model/saved_models/lstm_1x32_lr_0.006_v1_2023-11-29\\assets\n"
     ]
    }
   ],
   "source": [
    "model_name = f\"lstm_1x32_lr_{learning_rate}\"\n",
    "model_name\n",
    "# Include the epoch in the file name (uses `str.format`)\n",
    "checkpoint_path = \"model/weights/cp-{model_name}-{epoch:04d}_{now}.ckpt\"\n",
    "# save weights \n",
    "model.save_weights(checkpoint_path.format(epoch=epochs,now=now,model_name=model_name))\n",
    "#save model\n",
    "models_path = \"model/saved_models/{model_name}_{version}_{now}\"\n",
    "model.save(models_path.format(version = \"v1\", now = now,model_name=model_name))"
   ]
  },
  {
   "cell_type": "code",
   "execution_count": 22,
   "metadata": {},
   "outputs": [],
   "source": [
    "def windowed_trainset(series,  window_size,  batch_size):\n",
    "    \"\"\"Generates dataset windows\n",
    "\n",
    "    Args:\n",
    "      series (array of float) - contains the values of the time series\n",
    "      labels - contains \n",
    "      window_size (int) - the number of time steps to average\n",
    "      batch_size (int) - the batch size\n",
    "      shuffle_buffer(int) - buffer size to use for the shuffle method\n",
    "\n",
    "    Returns:\n",
    "      dataset (TF Dataset) - TF Dataset containing time windows\n",
    "    \"\"\"\n",
    "\n",
    "    dataset = series.reshape(-1,series.shape[-1])\n",
    "    print(dataset.shape)\n",
    "\n",
    "    # Generate a TF Dataset from the series values\n",
    "    dataset = tf.data.Dataset.from_tensor_slices(dataset)\n",
    "    print(dataset)\n",
    "      # Window the data but only take those with the specified size\n",
    "    dataset = dataset.window(window_size,  drop_remainder=True)\n",
    "    # Flatten the windows by putting its elements in a single batch\n",
    "    dataset = dataset.flat_map(lambda window: window.batch(window_size))\n",
    "    # Create tuples with features and labels \n",
    "    dataset = dataset.map(lambda window: (window[:,:-1], tf.one_hot(tf.dtypes.cast(window[:,-1],tf.int8),depth=3)))\n",
    "    \n",
    "    # Create batches of windows\n",
    "    dataset = dataset.batch(batch_size).prefetch(1)\n",
    "    \n",
    "    return dataset\n",
    "\n",
    "#dataset_test = windowed_trainset(ds.ds_test, window_size, stride, batch_size)"
   ]
  },
  {
   "cell_type": "code",
   "execution_count": 50,
   "metadata": {},
   "outputs": [],
   "source": [
    "del test_series\n",
    "test_series = Test_Series(config.data,config.paths)\n",
    "test_series.createSeries()"
   ]
  },
  {
   "cell_type": "code",
   "execution_count": 63,
   "metadata": {},
   "outputs": [],
   "source": [
    "\n",
    "from dataloader.dataloader import Serie\n",
    "importlib.reload(dataloader.dataloader)\n",
    "try: \n",
    "    del Serie\n",
    "except:\n",
    "    pass\n",
    "from dataloader.dataloader import Serie\n",
    "\n",
    "def predict(model,serie):\n",
    "    x = serie.get_correct_slices()[:,:150,:]\n",
    "    #x = windowed_trainset(x, window_size, stride, batch_size)\n",
    "    y_pred = None\n",
    "\n",
    "    #print(x.shape)\n",
    "    try:\n",
    "        y_pred = model.predict(x)\n",
    "    except ValueError:\n",
    "        #print(x.shape)\n",
    "        print(x)\n",
    "\n",
    "    \n",
    "    #print(y_pred)\n",
    "    #serie_events , raw_prediction = Serie.create_events(serie,y_pred)   \n",
    "    serie.slice_pads = None\n",
    "    serie_events  = Serie.create_events(serie,y_pred,only_top_score=False)  \n",
    "    #return serie_events, raw_prediction\n",
    "    return serie_events, y_pred"
   ]
  },
  {
   "cell_type": "code",
   "execution_count": 64,
   "metadata": {},
   "outputs": [
    {
     "name": "stdout",
     "output_type": "stream",
     "text": [
      "1/1 [==============================] - 0s 36ms/step\n"
     ]
    },
    {
     "name": "stdout",
     "output_type": "stream",
     "text": [
      "038441c925bb\n",
      "1/1 [==============================] - 0s 29ms/step\n",
      "03d92c9f6f8a 36\n",
      "03d92c9f6f8a\n",
      "1/1 [==============================] - 0s 29ms/step\n",
      "0402a003dae9\n"
     ]
    }
   ],
   "source": [
    "raw_predictions = {}\n",
    "series_pred = np.array([])\n",
    "y_pred = None\n",
    "pred_start = False\n",
    "for serie_id, serie in test_series.series.items():\n",
    "    #serie_events, raw_predictions[serie_id] = predict(unet,serie)\n",
    "    serie_events, y = predict(model,serie)\n",
    "    print(serie_id)\n",
    "    #print(serie_events)\n",
    "    if pred_start == False:\n",
    "        series_pred = y\n",
    "        y_pred = serie_events\n",
    "        pred_start = True\n",
    "    else:\n",
    "        series_pred = np.concatenate((series_pred, y))\n",
    "        y_pred = pd.concat([y_pred, serie_events])\n"
   ]
  },
  {
   "cell_type": "code",
   "execution_count": null,
   "metadata": {},
   "outputs": [],
   "source": [
    "# define epochs \n",
    "epochs = 40\n",
    "#define initiial lr rate\n",
    "init_lr_rate = 1e-6\n"
   ]
  },
  {
   "cell_type": "code",
   "execution_count": 80,
   "metadata": {},
   "outputs": [
    {
     "ename": "ValueError",
     "evalue": "Single argument to subplot must be a three-digit integer, not array([[3.75067295e-12, 5.96146345e-01, 1.68511072e-08, 4.02501792e-01,\n        1.35180820e-03],\n       [8.12957625e-14, 6.01475358e-01, 3.88207036e-06, 3.97951961e-01,\n        5.68831689e-04],\n       [2.56926671e-15, 7.84760714e-01, 7.13643615e-08, 2.15073451e-01,\n        1.65726044e-04],\n       [6.49082188e-13, 7.89836466e-01, 1.03422146e-07, 2.09968358e-01,\n        1.95091547e-04],\n       [1.02449061e-12, 7.71458328e-01, 4.66643911e-07, 2.28353396e-01,\n        1.87810176e-04],\n       [1.11941576e-12, 7.37035275e-01, 1.09537700e-06, 2.62809157e-01,\n        1.54578593e-04],\n       [5.73199084e-12, 7.78371751e-01, 8.87102942e-06, 2.21480742e-01,\n        1.38663454e-04],\n       [4.65151680e-13, 8.09640169e-01, 1.11593430e-07, 1.90171823e-01,\n        1.87908328e-04],\n       [6.51125584e-13, 8.24272156e-01, 1.65994365e-07, 1.75577670e-01,\n        1.49924032e-04],\n       [2.32269309e-13, 8.65311205e-01, 7.09752612e-07, 1.34608150e-01,\n        7.99505433e-05],\n       [8.11937831e-15, 8.71593595e-01, 5.89395333e-09, 1.28295019e-01,\n        1.11363646e-04],\n       [3.59382993e-15, 8.45626831e-01, 6.66406441e-09, 1.54234260e-01,\n        1.38895542e-04],\n       [1.07241518e-16, 7.10379958e-01, 2.51740087e-08, 2.89431244e-01,\n        1.88738399e-04],\n       [5.54524773e-15, 8.69857371e-01, 1.64629142e-07, 1.30002394e-01,\n        1.39991098e-04],\n       [1.24466735e-13, 8.47098470e-01, 4.54002566e-06, 1.52733475e-01,\n        1.63489880e-04],\n       [1.22420782e-15, 8.98198605e-01, 7.11906551e-08, 1.01655088e-01,\n        1.46243197e-04],\n       [1.44262033e-12, 9.40078676e-01, 1.16298679e-05, 5.98459728e-02,\n        6.36946133e-05],\n       [1.57191742e-11, 8.98178279e-01, 4.97177607e-05, 1.01704471e-01,\n        6.75334668e-05],\n       [4.69663533e-13, 9.56377625e-01, 2.18489916e-07, 4.36036214e-02,\n        1.86397192e-05],\n       [5.19441261e-12, 9.64123130e-01, 4.74995841e-06, 3.58590484e-02,\n        1.31072775e-05],\n       [8.12444487e-11, 9.75825727e-01, 5.91653452e-06, 2.41566859e-02,\n        1.15890052e-05],\n       [7.11769185e-11, 9.69079614e-01, 3.83411771e-06, 3.09040695e-02,\n        1.24876578e-05],\n       [1.31259226e-10, 9.67559934e-01, 6.09799190e-06, 3.24221887e-02,\n        1.17614309e-05],\n       [3.94462019e-10, 9.73629534e-01, 1.50350861e-05, 2.63453070e-02,\n        1.01515579e-05],\n       [9.40726053e-10, 9.60612059e-01, 4.12583940e-05, 3.93321477e-02,\n        1.45317017e-05],\n       [1.02034173e-10, 9.26792264e-01, 1.70607182e-05, 7.31685311e-02,\n        2.21793998e-05],\n       [8.42942524e-14, 9.31841969e-01, 5.47909735e-07, 6.81369901e-02,\n        2.05524357e-05],\n       [4.55731552e-17, 5.49690247e-01, 4.24912052e-08, 4.50305670e-01,\n        3.97149006e-06],\n       [5.01052070e-16, 6.70067549e-01, 2.23273810e-06, 3.29912335e-01,\n        1.79103081e-05],\n       [4.95938532e-16, 6.86612070e-01, 4.30092859e-06, 3.13350260e-01,\n        3.32975178e-05],\n       [8.16391213e-16, 7.05173314e-01, 5.92811375e-06, 2.94785112e-01,\n        3.55255579e-05],\n       [1.49924374e-14, 7.47970104e-01, 1.71656993e-05, 2.51988202e-01,\n        2.45451483e-05],\n       [8.80610282e-14, 7.72388577e-01, 3.29464747e-05, 2.27557883e-01,\n        2.05902397e-05],\n       [1.03026515e-13, 7.75026202e-01, 3.58019497e-05, 2.24916711e-01,\n        2.12856139e-05],\n       [1.06055491e-13, 7.74519026e-01, 3.65017622e-05, 2.25422755e-01,\n        2.16746066e-05],\n       [1.08995522e-13, 7.73795962e-01, 3.71151327e-05, 2.26145059e-01,\n        2.19131780e-05],\n       [1.11937606e-13, 7.72908449e-01, 3.76472490e-05, 2.27031812e-01,\n        2.20918628e-05],\n       [1.14782112e-13, 7.71871984e-01, 3.80603378e-05, 2.28067666e-01,\n        2.22355920e-05],\n       [1.17545256e-13, 7.70702004e-01, 3.83873339e-05, 2.29237273e-01,\n        2.23553088e-05],\n       [1.20288667e-13, 7.69429743e-01, 3.86495994e-05, 2.30509192e-01,\n        2.24583619e-05],\n       [1.22990133e-13, 7.68082619e-01, 3.88470216e-05, 2.31856108e-01,\n        2.25473050e-05],\n       [1.25650602e-13, 7.66672134e-01, 3.89967499e-05, 2.33266219e-01,\n        2.26241064e-05],\n       [1.28292383e-13, 7.65216708e-01, 3.91100257e-05, 2.34721392e-01,\n        2.26916018e-05],\n       [1.30918429e-13, 7.63730049e-01, 3.91913782e-05, 2.36208051e-01,\n        2.27513829e-05],\n       [1.33535449e-13, 7.62225270e-01, 3.92460970e-05, 2.37712651e-01,\n        2.28053850e-05],\n       [1.36147360e-13, 7.60697186e-01, 3.92887014e-05, 2.39240691e-01,\n        2.28535391e-05],\n       [1.38759813e-13, 7.59169400e-01, 3.93094233e-05, 2.40768373e-01,\n        2.28980862e-05],\n       [1.41375599e-13, 7.57635236e-01, 3.93218288e-05, 2.42302492e-01,\n        2.29390625e-05],\n       [1.43994707e-13, 7.56100655e-01, 3.93265909e-05, 2.43836999e-01,\n        2.29771595e-05],\n       [1.46636501e-13, 7.54570246e-01, 3.93282571e-05, 2.45367438e-01,\n        2.30133082e-05],\n       [1.49266274e-13, 7.53043652e-01, 3.93254631e-05, 2.46893972e-01,\n        2.30457354e-05],\n       [1.51913543e-13, 7.51525342e-01, 3.93193732e-05, 2.48412162e-01,\n        2.30769165e-05],\n       [1.54571627e-13, 7.50010788e-01, 3.93145274e-05, 2.49926776e-01,\n        2.31059985e-05],\n       [1.57239131e-13, 7.48509765e-01, 3.93031041e-05, 2.51427829e-01,\n        2.31340546e-05],\n       [1.59917964e-13, 7.47017741e-01, 3.92926377e-05, 2.52919883e-01,\n        2.31606700e-05],\n       [1.62608005e-13, 7.45535791e-01, 3.92822149e-05, 2.54401684e-01,\n        2.31859249e-05],\n       [1.65315624e-13, 7.44071364e-01, 3.92684778e-05, 2.55866081e-01,\n        2.32107104e-05],\n       [1.68033556e-13, 7.42617607e-01, 3.92557595e-05, 2.57319897e-01,\n        2.32342572e-05],\n       [1.70751596e-13, 7.41175413e-01, 3.92428337e-05, 2.58762121e-01,\n        2.32564616e-05],\n       [1.73499480e-13, 7.39747763e-01, 3.92327383e-05, 2.60189712e-01,\n        2.32784369e-05],\n       [1.76235017e-13, 7.38333762e-01, 3.92194488e-05, 2.61603624e-01,\n        2.32986640e-05],\n       [1.78995423e-13, 7.36932993e-01, 3.92084112e-05, 2.63004512e-01,\n        2.33187766e-05],\n       [1.81759311e-13, 7.35543787e-01, 3.91992289e-05, 2.64393657e-01,\n        2.33375413e-05],\n       [1.84540168e-13, 7.34175384e-01, 3.91861249e-05, 2.65762061e-01,\n        2.33563860e-05],\n       [1.87338914e-13, 7.32820690e-01, 3.91775429e-05, 2.67116785e-01,\n        2.33744686e-05],\n       [1.90141834e-13, 7.31484473e-01, 3.91644826e-05, 2.68453032e-01,\n        2.33920891e-05],\n       [1.92917324e-13, 7.30145931e-01, 3.91606882e-05, 2.69791484e-01,\n        2.34069412e-05],\n       [1.95860418e-13, 7.28867173e-01, 3.91485119e-05, 2.71070182e-01,\n        2.34274848e-05],\n       [1.98423743e-13, 7.27565825e-01, 3.91332906e-05, 2.72371560e-01,\n        2.34311301e-05],\n       [2.01275357e-13, 7.26258516e-01, 3.91366557e-05, 2.73678958e-01,\n        2.34462223e-05],\n       [2.04079998e-13, 7.24975765e-01, 3.91307694e-05, 2.74961710e-01,\n        2.34594718e-05],\n       [2.07119871e-13, 7.23744690e-01, 3.91213653e-05, 2.76192755e-01,\n        2.34812705e-05],\n       [2.09813287e-13, 7.22496450e-01, 3.91098001e-05, 2.77440876e-01,\n        2.34878316e-05],\n       [2.12911367e-13, 7.21301258e-01, 3.91007343e-05, 2.78636158e-01,\n        2.35112038e-05],\n       [2.15868312e-13, 7.20094740e-01, 3.90950881e-05, 2.79842734e-01,\n        2.35276148e-05],\n       [2.18656731e-13, 7.18855500e-01, 3.91084359e-05, 2.81081885e-01,\n        2.35355783e-05],\n       [2.21991086e-13, 7.17746735e-01, 3.91101275e-05, 2.82190651e-01,\n        2.35607640e-05],\n       [2.23959780e-13, 7.16573179e-01, 3.90861569e-05, 2.83364147e-01,\n        2.35339739e-05],\n       [2.27050082e-13, 7.15410888e-01, 3.91082976e-05, 2.84526497e-01,\n        2.35507414e-05],\n       [2.29993135e-13, 7.14272678e-01, 3.91100293e-05, 2.85664648e-01,\n        2.35622083e-05],\n       [2.32942219e-13, 7.13152289e-01, 3.91128233e-05, 2.86785066e-01,\n        2.35730840e-05],\n       [2.35895992e-13, 7.12046385e-01, 3.91170288e-05, 2.87890851e-01,\n        2.35832431e-05],\n       [2.38899232e-13, 7.10964322e-01, 3.91194662e-05, 2.88973033e-01,\n        2.35947227e-05],\n       [2.41914426e-13, 7.09898889e-01, 3.91233989e-05, 2.90038466e-01,\n        2.36059623e-05],\n       [2.44867874e-13, 7.08828807e-01, 3.91341528e-05, 2.91108549e-01,\n        2.36137148e-05],\n       [2.47829453e-13, 7.07779109e-01, 3.91453541e-05, 2.92158157e-01,\n        2.36210799e-05],\n       [2.50846517e-13, 7.06749916e-01, 3.91564463e-05, 2.93187261e-01,\n        2.36298238e-05],\n       [2.53861873e-13, 7.05735266e-01, 3.91685317e-05, 2.94201910e-01,\n        2.36377928e-05],\n       [2.56865438e-13, 7.04731405e-01, 3.91839385e-05, 2.95205861e-01,\n        2.36444976e-05],\n       [2.59906517e-13, 7.03743696e-01, 3.91984140e-05, 2.96193480e-01,\n        2.36519718e-05],\n       [2.62954263e-13, 7.02771485e-01, 3.92151087e-05, 2.97165722e-01,\n        2.36589512e-05],\n       [2.66027028e-13, 7.01813817e-01, 3.92319089e-05, 2.98123300e-01,\n        2.36661290e-05],\n       [2.69141724e-13, 7.00878501e-01, 3.92486581e-05, 2.99058616e-01,\n        2.36742926e-05],\n       [2.72179577e-13, 6.99934781e-01, 3.92728907e-05, 3.00002217e-01,\n        2.36787237e-05],\n       [2.75266138e-13, 6.99012935e-01, 3.92962684e-05, 3.00924063e-01,\n        2.36842134e-05],\n       [2.78406069e-13, 6.98113143e-01, 3.93184382e-05, 3.01823825e-01,\n        2.36909982e-05],\n       [2.81520114e-13, 6.97215915e-01, 3.93436640e-05, 3.02720994e-01,\n        2.36959568e-05],\n       [2.84757054e-13, 6.96359932e-01, 3.93638475e-05, 3.03577006e-01,\n        2.37047461e-05],\n       [2.87889477e-13, 6.95490241e-01, 3.93923001e-05, 3.04446697e-01,\n        2.37092572e-05],\n       [2.91006097e-13, 6.94622338e-01, 3.94259259e-05, 3.05314571e-01,\n        2.37122131e-05],\n       [2.94236396e-13, 6.93791807e-01, 3.94533272e-05, 3.06145012e-01,\n        2.37185577e-05],\n       [2.97450378e-13, 6.92963660e-01, 3.94847048e-05, 3.06973100e-01,\n        2.37235927e-05],\n       [3.00729087e-13, 6.92157209e-01, 3.95148418e-05, 3.07779551e-01,\n        2.37302229e-05],\n       [3.03932850e-13, 6.91342950e-01, 3.95519637e-05, 3.08593780e-01,\n        2.37335425e-05],\n       [3.07173666e-13, 6.90546751e-01, 3.95891257e-05, 3.09389949e-01,\n        2.37375898e-05],\n       [3.10381657e-13, 6.89745128e-01, 3.96331343e-05, 3.10191512e-01,\n        2.37393542e-05],\n       [3.13760167e-13, 6.88991845e-01, 3.96679316e-05, 3.10944766e-01,\n        2.37463573e-05],\n       [3.17054813e-13, 6.88224256e-01, 3.97120748e-05, 3.11712354e-01,\n        2.37495533e-05],\n       [3.20459669e-13, 6.87491357e-01, 3.97510557e-05, 3.12445134e-01,\n        2.37558907e-05],\n       [3.23754099e-13, 6.86738193e-01, 3.98011471e-05, 3.13198268e-01,\n        2.37578079e-05],\n       [3.27098374e-13, 6.86001062e-01, 3.98501033e-05, 3.13935339e-01,\n        2.37603417e-05],\n       [3.30627696e-13, 6.85310066e-01, 3.98918237e-05, 3.14626247e-01,\n        2.37679196e-05],\n       [3.34133898e-13, 6.84619784e-01, 3.99373967e-05, 3.15316528e-01,\n        2.37741133e-05],\n       [3.37609498e-13, 6.83928549e-01, 3.99867422e-05, 3.16007644e-01,\n        2.37785989e-05],\n       [3.41135784e-13, 6.83254063e-01, 4.00364770e-05, 3.16682070e-01,\n        2.37842305e-05],\n       [3.44488815e-13, 6.82544291e-01, 4.01007601e-05, 3.17391783e-01,\n        2.37832810e-05],\n       [3.48200445e-13, 6.81915343e-01, 4.01478756e-05, 3.18020731e-01,\n        2.37924323e-05],\n       [3.51769151e-13, 6.81257606e-01, 4.02064252e-05, 3.18678409e-01,\n        2.37965178e-05],\n       [3.55430746e-13, 6.80618823e-01, 4.02635706e-05, 3.19317162e-01,\n        2.38025423e-05],\n       [3.59059570e-13, 6.79983854e-01, 4.03253398e-05, 3.19952041e-01,\n        2.38068387e-05],\n       [3.62684627e-13, 6.79344296e-01, 4.03936720e-05, 3.20591480e-01,\n        2.38095472e-05],\n       [3.66612475e-13, 6.78768516e-01, 4.04471321e-05, 3.21167260e-01,\n        2.38201501e-05],\n       [3.70459224e-13, 6.78179145e-01, 4.05070095e-05, 3.21756542e-01,\n        2.38278590e-05],\n       [3.74258458e-13, 6.77583694e-01, 4.05754399e-05, 3.22351962e-01,\n        2.38331286e-05],\n       [3.78133749e-13, 6.77003443e-01, 4.06427353e-05, 3.22932124e-01,\n        2.38395551e-05],\n       [3.82045524e-13, 6.76432788e-01, 4.07119733e-05, 3.23502660e-01,\n        2.38460525e-05],\n       [3.85969848e-13, 6.75862670e-01, 4.07864245e-05, 3.24072719e-01,\n        2.38517332e-05],\n       [3.90012892e-13, 6.75315559e-01, 4.08581291e-05, 3.24619740e-01,\n        2.38595330e-05],\n       [3.94097949e-13, 6.74778521e-01, 4.09321037e-05, 3.25156659e-01,\n        2.38673347e-05],\n       [3.98216101e-13, 6.74247324e-01, 4.10077955e-05, 3.25687855e-01,\n        2.38749908e-05],\n       [4.02378136e-13, 6.73720598e-01, 4.10854409e-05, 3.26214343e-01,\n        2.38828598e-05],\n       [4.06558793e-13, 6.73192918e-01, 4.11680594e-05, 3.26741934e-01,\n        2.38899738e-05],\n       [4.10826565e-13, 6.72679424e-01, 4.12521149e-05, 3.27255428e-01,\n        2.38978337e-05],\n       [4.15211295e-13, 6.72188222e-01, 4.13354101e-05, 3.27746511e-01,\n        2.39075689e-05],\n       [4.19499884e-13, 6.71672344e-01, 4.14294118e-05, 3.28262299e-01,\n        2.39133824e-05],\n       [4.24035671e-13, 6.71195090e-01, 4.15177237e-05, 3.28739494e-01,\n        2.39235233e-05],\n       [4.28741867e-13, 6.70746922e-01, 4.15986760e-05, 3.29187542e-01,\n        2.39369583e-05],\n       [4.33304244e-13, 6.70266867e-01, 4.16944822e-05, 3.29667509e-01,\n        2.39454348e-05],\n       [4.37998867e-13, 6.69802785e-01, 4.17908886e-05, 3.30131501e-01,\n        2.39554320e-05],\n       [4.42782746e-13, 6.69348538e-01, 4.18870331e-05, 3.30585599e-01,\n        2.39660258e-05],\n       [4.47657943e-13, 6.68900609e-01, 4.19858261e-05, 3.31033379e-01,\n        2.39772307e-05],\n       [4.52510452e-13, 6.68443501e-01, 4.20933175e-05, 3.31490427e-01,\n        2.39861765e-05],\n       [4.57449887e-13, 6.67983294e-01, 4.22059020e-05, 3.31950605e-01,\n        2.39947512e-05],\n       [4.62707834e-13, 6.67566538e-01, 4.23083657e-05, 3.32367033e-01,\n        2.40086374e-05],\n       [4.67958571e-13, 6.67140186e-01, 4.24168466e-05, 3.32793385e-01,\n        2.40207773e-05],\n       [4.73212832e-13, 6.66682124e-01, 4.25393810e-05, 3.33251357e-01,\n        2.40281042e-05],\n       [4.78451480e-13, 6.66313648e-01, 4.25913931e-05, 3.33619744e-01,\n        2.40376012e-05],\n       [4.85212510e-13, 6.65721536e-01, 4.27447085e-05, 3.34211677e-01,\n        2.40189893e-05],\n       [4.93250243e-13, 6.67582929e-01, 4.11528708e-05, 3.32351774e-01,\n        2.41274829e-05],\n       [4.68572230e-13, 6.60547256e-01, 4.29567663e-05, 3.39387268e-01,\n        2.25529966e-05]], dtype=float32)",
     "output_type": "error",
     "traceback": [
      "\u001b[1;31m---------------------------------------------------------------------------\u001b[0m",
      "\u001b[1;31mValueError\u001b[0m                                Traceback (most recent call last)",
      "\u001b[1;32md:\\DEV\\Projekty\\PythonProjects\\Kaggle\\Detect-sleep-state\\time-series-models.ipynb Cell 24\u001b[0m line \u001b[0;36m1\n\u001b[1;32m----> <a href='vscode-notebook-cell:/d%3A/DEV/Projekty/PythonProjects/Kaggle/Detect-sleep-state/time-series-models.ipynb#X55sZmlsZQ%3D%3D?line=0'>1</a>\u001b[0m fig,ax \u001b[39m=\u001b[39m plt\u001b[39m.\u001b[39;49msubplot(series_pred[\u001b[39m0\u001b[39;49m])\n\u001b[0;32m      <a href='vscode-notebook-cell:/d%3A/DEV/Projekty/PythonProjects/Kaggle/Detect-sleep-state/time-series-models.ipynb#X55sZmlsZQ%3D%3D?line=1'>2</a>\u001b[0m \u001b[39mfor\u001b[39;00m i \u001b[39min\u001b[39;00m \u001b[39mrange\u001b[39m(series_pred[\u001b[39m0\u001b[39m]):\n\u001b[0;32m      <a href='vscode-notebook-cell:/d%3A/DEV/Projekty/PythonProjects/Kaggle/Detect-sleep-state/time-series-models.ipynb#X55sZmlsZQ%3D%3D?line=2'>3</a>\u001b[0m     ax[i]\u001b[39m.\u001b[39mplot(np\u001b[39m.\u001b[39margmax(series_pred[i:i\u001b[39m+\u001b[39m\u001b[39m1\u001b[39m,:,\u001b[39m-\u001b[39m\u001b[39m1\u001b[39m],axis \u001b[39m=\u001b[39m \u001b[39m0\u001b[39m,keepdims\u001b[39m=\u001b[39m\u001b[39mTrue\u001b[39;00m))\n",
      "File \u001b[1;32md:\\DEV\\Projekty\\PythonProjects\\venv\\lib\\site-packages\\matplotlib\\pyplot.py:1323\u001b[0m, in \u001b[0;36msubplot\u001b[1;34m(*args, **kwargs)\u001b[0m\n\u001b[0;32m   1320\u001b[0m fig \u001b[39m=\u001b[39m gcf()\n\u001b[0;32m   1322\u001b[0m \u001b[39m# First, search for an existing subplot with a matching spec.\u001b[39;00m\n\u001b[1;32m-> 1323\u001b[0m key \u001b[39m=\u001b[39m SubplotSpec\u001b[39m.\u001b[39;49m_from_subplot_args(fig, args)\n\u001b[0;32m   1325\u001b[0m \u001b[39mfor\u001b[39;00m ax \u001b[39min\u001b[39;00m fig\u001b[39m.\u001b[39maxes:\n\u001b[0;32m   1326\u001b[0m     \u001b[39m# if we found an Axes at the position sort out if we can re-use it\u001b[39;00m\n\u001b[0;32m   1327\u001b[0m     \u001b[39mif\u001b[39;00m ax\u001b[39m.\u001b[39mget_subplotspec() \u001b[39m==\u001b[39m key:\n\u001b[0;32m   1328\u001b[0m         \u001b[39m# if the user passed no kwargs, re-use\u001b[39;00m\n",
      "File \u001b[1;32md:\\DEV\\Projekty\\PythonProjects\\venv\\lib\\site-packages\\matplotlib\\gridspec.py:573\u001b[0m, in \u001b[0;36mSubplotSpec._from_subplot_args\u001b[1;34m(figure, args)\u001b[0m\n\u001b[0;32m    571\u001b[0m     \u001b[39mreturn\u001b[39;00m arg\n\u001b[0;32m    572\u001b[0m \u001b[39melif\u001b[39;00m \u001b[39mnot\u001b[39;00m \u001b[39misinstance\u001b[39m(arg, Integral):\n\u001b[1;32m--> 573\u001b[0m     \u001b[39mraise\u001b[39;00m \u001b[39mValueError\u001b[39;00m(\n\u001b[0;32m    574\u001b[0m         \u001b[39mf\u001b[39m\u001b[39m\"\u001b[39m\u001b[39mSingle argument to subplot must be a three-digit \u001b[39m\u001b[39m\"\u001b[39m\n\u001b[0;32m    575\u001b[0m         \u001b[39mf\u001b[39m\u001b[39m\"\u001b[39m\u001b[39minteger, not \u001b[39m\u001b[39m{\u001b[39;00marg\u001b[39m!r}\u001b[39;00m\u001b[39m\"\u001b[39m)\n\u001b[0;32m    576\u001b[0m \u001b[39mtry\u001b[39;00m:\n\u001b[0;32m    577\u001b[0m     rows, cols, num \u001b[39m=\u001b[39m \u001b[39mmap\u001b[39m(\u001b[39mint\u001b[39m, \u001b[39mstr\u001b[39m(arg))\n",
      "\u001b[1;31mValueError\u001b[0m: Single argument to subplot must be a three-digit integer, not array([[3.75067295e-12, 5.96146345e-01, 1.68511072e-08, 4.02501792e-01,\n        1.35180820e-03],\n       [8.12957625e-14, 6.01475358e-01, 3.88207036e-06, 3.97951961e-01,\n        5.68831689e-04],\n       [2.56926671e-15, 7.84760714e-01, 7.13643615e-08, 2.15073451e-01,\n        1.65726044e-04],\n       [6.49082188e-13, 7.89836466e-01, 1.03422146e-07, 2.09968358e-01,\n        1.95091547e-04],\n       [1.02449061e-12, 7.71458328e-01, 4.66643911e-07, 2.28353396e-01,\n        1.87810176e-04],\n       [1.11941576e-12, 7.37035275e-01, 1.09537700e-06, 2.62809157e-01,\n        1.54578593e-04],\n       [5.73199084e-12, 7.78371751e-01, 8.87102942e-06, 2.21480742e-01,\n        1.38663454e-04],\n       [4.65151680e-13, 8.09640169e-01, 1.11593430e-07, 1.90171823e-01,\n        1.87908328e-04],\n       [6.51125584e-13, 8.24272156e-01, 1.65994365e-07, 1.75577670e-01,\n        1.49924032e-04],\n       [2.32269309e-13, 8.65311205e-01, 7.09752612e-07, 1.34608150e-01,\n        7.99505433e-05],\n       [8.11937831e-15, 8.71593595e-01, 5.89395333e-09, 1.28295019e-01,\n        1.11363646e-04],\n       [3.59382993e-15, 8.45626831e-01, 6.66406441e-09, 1.54234260e-01,\n        1.38895542e-04],\n       [1.07241518e-16, 7.10379958e-01, 2.51740087e-08, 2.89431244e-01,\n        1.88738399e-04],\n       [5.54524773e-15, 8.69857371e-01, 1.64629142e-07, 1.30002394e-01,\n        1.39991098e-04],\n       [1.24466735e-13, 8.47098470e-01, 4.54002566e-06, 1.52733475e-01,\n        1.63489880e-04],\n       [1.22420782e-15, 8.98198605e-01, 7.11906551e-08, 1.01655088e-01,\n        1.46243197e-04],\n       [1.44262033e-12, 9.40078676e-01, 1.16298679e-05, 5.98459728e-02,\n        6.36946133e-05],\n       [1.57191742e-11, 8.98178279e-01, 4.97177607e-05, 1.01704471e-01,\n        6.75334668e-05],\n       [4.69663533e-13, 9.56377625e-01, 2.18489916e-07, 4.36036214e-02,\n        1.86397192e-05],\n       [5.19441261e-12, 9.64123130e-01, 4.74995841e-06, 3.58590484e-02,\n        1.31072775e-05],\n       [8.12444487e-11, 9.75825727e-01, 5.91653452e-06, 2.41566859e-02,\n        1.15890052e-05],\n       [7.11769185e-11, 9.69079614e-01, 3.83411771e-06, 3.09040695e-02,\n        1.24876578e-05],\n       [1.31259226e-10, 9.67559934e-01, 6.09799190e-06, 3.24221887e-02,\n        1.17614309e-05],\n       [3.94462019e-10, 9.73629534e-01, 1.50350861e-05, 2.63453070e-02,\n        1.01515579e-05],\n       [9.40726053e-10, 9.60612059e-01, 4.12583940e-05, 3.93321477e-02,\n        1.45317017e-05],\n       [1.02034173e-10, 9.26792264e-01, 1.70607182e-05, 7.31685311e-02,\n        2.21793998e-05],\n       [8.42942524e-14, 9.31841969e-01, 5.47909735e-07, 6.81369901e-02,\n        2.05524357e-05],\n       [4.55731552e-17, 5.49690247e-01, 4.24912052e-08, 4.50305670e-01,\n        3.97149006e-06],\n       [5.01052070e-16, 6.70067549e-01, 2.23273810e-06, 3.29912335e-01,\n        1.79103081e-05],\n       [4.95938532e-16, 6.86612070e-01, 4.30092859e-06, 3.13350260e-01,\n        3.32975178e-05],\n       [8.16391213e-16, 7.05173314e-01, 5.92811375e-06, 2.94785112e-01,\n        3.55255579e-05],\n       [1.49924374e-14, 7.47970104e-01, 1.71656993e-05, 2.51988202e-01,\n        2.45451483e-05],\n       [8.80610282e-14, 7.72388577e-01, 3.29464747e-05, 2.27557883e-01,\n        2.05902397e-05],\n       [1.03026515e-13, 7.75026202e-01, 3.58019497e-05, 2.24916711e-01,\n        2.12856139e-05],\n       [1.06055491e-13, 7.74519026e-01, 3.65017622e-05, 2.25422755e-01,\n        2.16746066e-05],\n       [1.08995522e-13, 7.73795962e-01, 3.71151327e-05, 2.26145059e-01,\n        2.19131780e-05],\n       [1.11937606e-13, 7.72908449e-01, 3.76472490e-05, 2.27031812e-01,\n        2.20918628e-05],\n       [1.14782112e-13, 7.71871984e-01, 3.80603378e-05, 2.28067666e-01,\n        2.22355920e-05],\n       [1.17545256e-13, 7.70702004e-01, 3.83873339e-05, 2.29237273e-01,\n        2.23553088e-05],\n       [1.20288667e-13, 7.69429743e-01, 3.86495994e-05, 2.30509192e-01,\n        2.24583619e-05],\n       [1.22990133e-13, 7.68082619e-01, 3.88470216e-05, 2.31856108e-01,\n        2.25473050e-05],\n       [1.25650602e-13, 7.66672134e-01, 3.89967499e-05, 2.33266219e-01,\n        2.26241064e-05],\n       [1.28292383e-13, 7.65216708e-01, 3.91100257e-05, 2.34721392e-01,\n        2.26916018e-05],\n       [1.30918429e-13, 7.63730049e-01, 3.91913782e-05, 2.36208051e-01,\n        2.27513829e-05],\n       [1.33535449e-13, 7.62225270e-01, 3.92460970e-05, 2.37712651e-01,\n        2.28053850e-05],\n       [1.36147360e-13, 7.60697186e-01, 3.92887014e-05, 2.39240691e-01,\n        2.28535391e-05],\n       [1.38759813e-13, 7.59169400e-01, 3.93094233e-05, 2.40768373e-01,\n        2.28980862e-05],\n       [1.41375599e-13, 7.57635236e-01, 3.93218288e-05, 2.42302492e-01,\n        2.29390625e-05],\n       [1.43994707e-13, 7.56100655e-01, 3.93265909e-05, 2.43836999e-01,\n        2.29771595e-05],\n       [1.46636501e-13, 7.54570246e-01, 3.93282571e-05, 2.45367438e-01,\n        2.30133082e-05],\n       [1.49266274e-13, 7.53043652e-01, 3.93254631e-05, 2.46893972e-01,\n        2.30457354e-05],\n       [1.51913543e-13, 7.51525342e-01, 3.93193732e-05, 2.48412162e-01,\n        2.30769165e-05],\n       [1.54571627e-13, 7.50010788e-01, 3.93145274e-05, 2.49926776e-01,\n        2.31059985e-05],\n       [1.57239131e-13, 7.48509765e-01, 3.93031041e-05, 2.51427829e-01,\n        2.31340546e-05],\n       [1.59917964e-13, 7.47017741e-01, 3.92926377e-05, 2.52919883e-01,\n        2.31606700e-05],\n       [1.62608005e-13, 7.45535791e-01, 3.92822149e-05, 2.54401684e-01,\n        2.31859249e-05],\n       [1.65315624e-13, 7.44071364e-01, 3.92684778e-05, 2.55866081e-01,\n        2.32107104e-05],\n       [1.68033556e-13, 7.42617607e-01, 3.92557595e-05, 2.57319897e-01,\n        2.32342572e-05],\n       [1.70751596e-13, 7.41175413e-01, 3.92428337e-05, 2.58762121e-01,\n        2.32564616e-05],\n       [1.73499480e-13, 7.39747763e-01, 3.92327383e-05, 2.60189712e-01,\n        2.32784369e-05],\n       [1.76235017e-13, 7.38333762e-01, 3.92194488e-05, 2.61603624e-01,\n        2.32986640e-05],\n       [1.78995423e-13, 7.36932993e-01, 3.92084112e-05, 2.63004512e-01,\n        2.33187766e-05],\n       [1.81759311e-13, 7.35543787e-01, 3.91992289e-05, 2.64393657e-01,\n        2.33375413e-05],\n       [1.84540168e-13, 7.34175384e-01, 3.91861249e-05, 2.65762061e-01,\n        2.33563860e-05],\n       [1.87338914e-13, 7.32820690e-01, 3.91775429e-05, 2.67116785e-01,\n        2.33744686e-05],\n       [1.90141834e-13, 7.31484473e-01, 3.91644826e-05, 2.68453032e-01,\n        2.33920891e-05],\n       [1.92917324e-13, 7.30145931e-01, 3.91606882e-05, 2.69791484e-01,\n        2.34069412e-05],\n       [1.95860418e-13, 7.28867173e-01, 3.91485119e-05, 2.71070182e-01,\n        2.34274848e-05],\n       [1.98423743e-13, 7.27565825e-01, 3.91332906e-05, 2.72371560e-01,\n        2.34311301e-05],\n       [2.01275357e-13, 7.26258516e-01, 3.91366557e-05, 2.73678958e-01,\n        2.34462223e-05],\n       [2.04079998e-13, 7.24975765e-01, 3.91307694e-05, 2.74961710e-01,\n        2.34594718e-05],\n       [2.07119871e-13, 7.23744690e-01, 3.91213653e-05, 2.76192755e-01,\n        2.34812705e-05],\n       [2.09813287e-13, 7.22496450e-01, 3.91098001e-05, 2.77440876e-01,\n        2.34878316e-05],\n       [2.12911367e-13, 7.21301258e-01, 3.91007343e-05, 2.78636158e-01,\n        2.35112038e-05],\n       [2.15868312e-13, 7.20094740e-01, 3.90950881e-05, 2.79842734e-01,\n        2.35276148e-05],\n       [2.18656731e-13, 7.18855500e-01, 3.91084359e-05, 2.81081885e-01,\n        2.35355783e-05],\n       [2.21991086e-13, 7.17746735e-01, 3.91101275e-05, 2.82190651e-01,\n        2.35607640e-05],\n       [2.23959780e-13, 7.16573179e-01, 3.90861569e-05, 2.83364147e-01,\n        2.35339739e-05],\n       [2.27050082e-13, 7.15410888e-01, 3.91082976e-05, 2.84526497e-01,\n        2.35507414e-05],\n       [2.29993135e-13, 7.14272678e-01, 3.91100293e-05, 2.85664648e-01,\n        2.35622083e-05],\n       [2.32942219e-13, 7.13152289e-01, 3.91128233e-05, 2.86785066e-01,\n        2.35730840e-05],\n       [2.35895992e-13, 7.12046385e-01, 3.91170288e-05, 2.87890851e-01,\n        2.35832431e-05],\n       [2.38899232e-13, 7.10964322e-01, 3.91194662e-05, 2.88973033e-01,\n        2.35947227e-05],\n       [2.41914426e-13, 7.09898889e-01, 3.91233989e-05, 2.90038466e-01,\n        2.36059623e-05],\n       [2.44867874e-13, 7.08828807e-01, 3.91341528e-05, 2.91108549e-01,\n        2.36137148e-05],\n       [2.47829453e-13, 7.07779109e-01, 3.91453541e-05, 2.92158157e-01,\n        2.36210799e-05],\n       [2.50846517e-13, 7.06749916e-01, 3.91564463e-05, 2.93187261e-01,\n        2.36298238e-05],\n       [2.53861873e-13, 7.05735266e-01, 3.91685317e-05, 2.94201910e-01,\n        2.36377928e-05],\n       [2.56865438e-13, 7.04731405e-01, 3.91839385e-05, 2.95205861e-01,\n        2.36444976e-05],\n       [2.59906517e-13, 7.03743696e-01, 3.91984140e-05, 2.96193480e-01,\n        2.36519718e-05],\n       [2.62954263e-13, 7.02771485e-01, 3.92151087e-05, 2.97165722e-01,\n        2.36589512e-05],\n       [2.66027028e-13, 7.01813817e-01, 3.92319089e-05, 2.98123300e-01,\n        2.36661290e-05],\n       [2.69141724e-13, 7.00878501e-01, 3.92486581e-05, 2.99058616e-01,\n        2.36742926e-05],\n       [2.72179577e-13, 6.99934781e-01, 3.92728907e-05, 3.00002217e-01,\n        2.36787237e-05],\n       [2.75266138e-13, 6.99012935e-01, 3.92962684e-05, 3.00924063e-01,\n        2.36842134e-05],\n       [2.78406069e-13, 6.98113143e-01, 3.93184382e-05, 3.01823825e-01,\n        2.36909982e-05],\n       [2.81520114e-13, 6.97215915e-01, 3.93436640e-05, 3.02720994e-01,\n        2.36959568e-05],\n       [2.84757054e-13, 6.96359932e-01, 3.93638475e-05, 3.03577006e-01,\n        2.37047461e-05],\n       [2.87889477e-13, 6.95490241e-01, 3.93923001e-05, 3.04446697e-01,\n        2.37092572e-05],\n       [2.91006097e-13, 6.94622338e-01, 3.94259259e-05, 3.05314571e-01,\n        2.37122131e-05],\n       [2.94236396e-13, 6.93791807e-01, 3.94533272e-05, 3.06145012e-01,\n        2.37185577e-05],\n       [2.97450378e-13, 6.92963660e-01, 3.94847048e-05, 3.06973100e-01,\n        2.37235927e-05],\n       [3.00729087e-13, 6.92157209e-01, 3.95148418e-05, 3.07779551e-01,\n        2.37302229e-05],\n       [3.03932850e-13, 6.91342950e-01, 3.95519637e-05, 3.08593780e-01,\n        2.37335425e-05],\n       [3.07173666e-13, 6.90546751e-01, 3.95891257e-05, 3.09389949e-01,\n        2.37375898e-05],\n       [3.10381657e-13, 6.89745128e-01, 3.96331343e-05, 3.10191512e-01,\n        2.37393542e-05],\n       [3.13760167e-13, 6.88991845e-01, 3.96679316e-05, 3.10944766e-01,\n        2.37463573e-05],\n       [3.17054813e-13, 6.88224256e-01, 3.97120748e-05, 3.11712354e-01,\n        2.37495533e-05],\n       [3.20459669e-13, 6.87491357e-01, 3.97510557e-05, 3.12445134e-01,\n        2.37558907e-05],\n       [3.23754099e-13, 6.86738193e-01, 3.98011471e-05, 3.13198268e-01,\n        2.37578079e-05],\n       [3.27098374e-13, 6.86001062e-01, 3.98501033e-05, 3.13935339e-01,\n        2.37603417e-05],\n       [3.30627696e-13, 6.85310066e-01, 3.98918237e-05, 3.14626247e-01,\n        2.37679196e-05],\n       [3.34133898e-13, 6.84619784e-01, 3.99373967e-05, 3.15316528e-01,\n        2.37741133e-05],\n       [3.37609498e-13, 6.83928549e-01, 3.99867422e-05, 3.16007644e-01,\n        2.37785989e-05],\n       [3.41135784e-13, 6.83254063e-01, 4.00364770e-05, 3.16682070e-01,\n        2.37842305e-05],\n       [3.44488815e-13, 6.82544291e-01, 4.01007601e-05, 3.17391783e-01,\n        2.37832810e-05],\n       [3.48200445e-13, 6.81915343e-01, 4.01478756e-05, 3.18020731e-01,\n        2.37924323e-05],\n       [3.51769151e-13, 6.81257606e-01, 4.02064252e-05, 3.18678409e-01,\n        2.37965178e-05],\n       [3.55430746e-13, 6.80618823e-01, 4.02635706e-05, 3.19317162e-01,\n        2.38025423e-05],\n       [3.59059570e-13, 6.79983854e-01, 4.03253398e-05, 3.19952041e-01,\n        2.38068387e-05],\n       [3.62684627e-13, 6.79344296e-01, 4.03936720e-05, 3.20591480e-01,\n        2.38095472e-05],\n       [3.66612475e-13, 6.78768516e-01, 4.04471321e-05, 3.21167260e-01,\n        2.38201501e-05],\n       [3.70459224e-13, 6.78179145e-01, 4.05070095e-05, 3.21756542e-01,\n        2.38278590e-05],\n       [3.74258458e-13, 6.77583694e-01, 4.05754399e-05, 3.22351962e-01,\n        2.38331286e-05],\n       [3.78133749e-13, 6.77003443e-01, 4.06427353e-05, 3.22932124e-01,\n        2.38395551e-05],\n       [3.82045524e-13, 6.76432788e-01, 4.07119733e-05, 3.23502660e-01,\n        2.38460525e-05],\n       [3.85969848e-13, 6.75862670e-01, 4.07864245e-05, 3.24072719e-01,\n        2.38517332e-05],\n       [3.90012892e-13, 6.75315559e-01, 4.08581291e-05, 3.24619740e-01,\n        2.38595330e-05],\n       [3.94097949e-13, 6.74778521e-01, 4.09321037e-05, 3.25156659e-01,\n        2.38673347e-05],\n       [3.98216101e-13, 6.74247324e-01, 4.10077955e-05, 3.25687855e-01,\n        2.38749908e-05],\n       [4.02378136e-13, 6.73720598e-01, 4.10854409e-05, 3.26214343e-01,\n        2.38828598e-05],\n       [4.06558793e-13, 6.73192918e-01, 4.11680594e-05, 3.26741934e-01,\n        2.38899738e-05],\n       [4.10826565e-13, 6.72679424e-01, 4.12521149e-05, 3.27255428e-01,\n        2.38978337e-05],\n       [4.15211295e-13, 6.72188222e-01, 4.13354101e-05, 3.27746511e-01,\n        2.39075689e-05],\n       [4.19499884e-13, 6.71672344e-01, 4.14294118e-05, 3.28262299e-01,\n        2.39133824e-05],\n       [4.24035671e-13, 6.71195090e-01, 4.15177237e-05, 3.28739494e-01,\n        2.39235233e-05],\n       [4.28741867e-13, 6.70746922e-01, 4.15986760e-05, 3.29187542e-01,\n        2.39369583e-05],\n       [4.33304244e-13, 6.70266867e-01, 4.16944822e-05, 3.29667509e-01,\n        2.39454348e-05],\n       [4.37998867e-13, 6.69802785e-01, 4.17908886e-05, 3.30131501e-01,\n        2.39554320e-05],\n       [4.42782746e-13, 6.69348538e-01, 4.18870331e-05, 3.30585599e-01,\n        2.39660258e-05],\n       [4.47657943e-13, 6.68900609e-01, 4.19858261e-05, 3.31033379e-01,\n        2.39772307e-05],\n       [4.52510452e-13, 6.68443501e-01, 4.20933175e-05, 3.31490427e-01,\n        2.39861765e-05],\n       [4.57449887e-13, 6.67983294e-01, 4.22059020e-05, 3.31950605e-01,\n        2.39947512e-05],\n       [4.62707834e-13, 6.67566538e-01, 4.23083657e-05, 3.32367033e-01,\n        2.40086374e-05],\n       [4.67958571e-13, 6.67140186e-01, 4.24168466e-05, 3.32793385e-01,\n        2.40207773e-05],\n       [4.73212832e-13, 6.66682124e-01, 4.25393810e-05, 3.33251357e-01,\n        2.40281042e-05],\n       [4.78451480e-13, 6.66313648e-01, 4.25913931e-05, 3.33619744e-01,\n        2.40376012e-05],\n       [4.85212510e-13, 6.65721536e-01, 4.27447085e-05, 3.34211677e-01,\n        2.40189893e-05],\n       [4.93250243e-13, 6.67582929e-01, 4.11528708e-05, 3.32351774e-01,\n        2.41274829e-05],\n       [4.68572230e-13, 6.60547256e-01, 4.29567663e-05, 3.39387268e-01,\n        2.25529966e-05]], dtype=float32)"
     ]
    },
    {
     "data": {
      "text/plain": [
       "<Figure size 640x480 with 0 Axes>"
      ]
     },
     "metadata": {},
     "output_type": "display_data"
    }
   ],
   "source": [
    "fig,ax = plt.subplot(series_pred[0])\n",
    "for i in range(series_pred[0]):\n",
    "    ax[i].plot(np.argmax(series_pred[i:i+1,:,-1],axis = 0,keepdims=True))\n",
    "\n",
    "plt.show()"
   ]
  },
  {
   "cell_type": "code",
   "execution_count": 47,
   "metadata": {},
   "outputs": [],
   "source": [
    "for serie in test_series.series.values():\n",
    "    serie.decode_list = Serie.decode_list"
   ]
  },
  {
   "cell_type": "code",
   "execution_count": 49,
   "metadata": {},
   "outputs": [
    {
     "data": {
      "text/plain": [
       "{1: 'wakeup', 2: 'onset', 3: 'onset', 4: 'wakeup'}"
      ]
     },
     "execution_count": 49,
     "metadata": {},
     "output_type": "execute_result"
    }
   ],
   "source": [
    "test_series.series[\"038441c925bb\"].decode_list"
   ]
  },
  {
   "cell_type": "code",
   "execution_count": 79,
   "metadata": {},
   "outputs": [
    {
     "data": {
      "text/plain": [
       "array([[0, 0, 0, 0, 0, 0, 0, 0, 0, 0, 0, 0, 0, 0, 0, 0, 0, 0, 0, 0, 0, 0,\n",
       "        0, 0, 0, 0, 0, 0, 0, 0, 0, 0, 0, 0, 0, 0, 0, 0, 0, 0, 0, 0, 0, 0,\n",
       "        0, 0, 0, 0, 0, 0, 0, 0, 0, 0, 0, 0, 0, 0, 0, 0, 0, 0, 0, 0, 0, 0,\n",
       "        0, 0, 0, 0, 0, 0, 0, 0, 0, 0, 0, 0, 0, 0, 0, 0, 0, 0, 0, 0, 0, 0,\n",
       "        0, 0, 0, 0, 0, 0, 0, 0, 0, 0, 0, 0, 0, 0, 0, 0, 0, 0, 0, 0, 0, 0,\n",
       "        0, 0, 0, 0, 0, 0, 0, 0, 0, 0, 0, 0, 0, 0, 0, 0, 0, 0, 0, 0, 0, 0,\n",
       "        0, 0, 0, 0, 0, 0, 0, 0, 0, 0, 0, 0, 0, 0, 0, 0, 0, 0]],\n",
       "      dtype=int64)"
      ]
     },
     "execution_count": 79,
     "metadata": {},
     "output_type": "execute_result"
    }
   ],
   "source": [
    "np.argmax(series_pred[0:1,:,-1],axis = 0,keepdims=True)"
   ]
  },
  {
   "cell_type": "code",
   "execution_count": 77,
   "metadata": {},
   "outputs": [
    {
     "data": {
      "text/plain": [
       "array([1.35180820e-03, 5.68831689e-04, 1.65726044e-04, 1.95091547e-04,\n",
       "       1.87810176e-04, 1.54578593e-04, 1.38663454e-04, 1.87908328e-04,\n",
       "       1.49924032e-04, 7.99505433e-05, 1.11363646e-04, 1.38895542e-04,\n",
       "       1.88738399e-04, 1.39991098e-04, 1.63489880e-04, 1.46243197e-04,\n",
       "       6.36946133e-05, 6.75334668e-05, 1.86397192e-05, 1.31072775e-05,\n",
       "       1.15890052e-05, 1.24876578e-05, 1.17614309e-05, 1.01515579e-05,\n",
       "       1.45317017e-05, 2.21793998e-05, 2.05524357e-05, 3.97149006e-06,\n",
       "       1.79103081e-05, 3.32975178e-05, 3.55255579e-05, 2.45451483e-05,\n",
       "       2.05902397e-05, 2.12856139e-05, 2.16746066e-05, 2.19131780e-05,\n",
       "       2.20918628e-05, 2.22355920e-05, 2.23553088e-05, 2.24583619e-05,\n",
       "       2.25473050e-05, 2.26241064e-05, 2.26916018e-05, 2.27513829e-05,\n",
       "       2.28053850e-05, 2.28535391e-05, 2.28980862e-05, 2.29390625e-05,\n",
       "       2.29771595e-05, 2.30133082e-05, 2.30457354e-05, 2.30769165e-05,\n",
       "       2.31059985e-05, 2.31340546e-05, 2.31606700e-05, 2.31859249e-05,\n",
       "       2.32107104e-05, 2.32342572e-05, 2.32564616e-05, 2.32784369e-05,\n",
       "       2.32986640e-05, 2.33187766e-05, 2.33375413e-05, 2.33563860e-05,\n",
       "       2.33744686e-05, 2.33920891e-05, 2.34069412e-05, 2.34274848e-05,\n",
       "       2.34311301e-05, 2.34462223e-05, 2.34594718e-05, 2.34812705e-05,\n",
       "       2.34878316e-05, 2.35112038e-05, 2.35276148e-05, 2.35355783e-05,\n",
       "       2.35607640e-05, 2.35339739e-05, 2.35507414e-05, 2.35622083e-05,\n",
       "       2.35730840e-05, 2.35832431e-05, 2.35947227e-05, 2.36059623e-05,\n",
       "       2.36137148e-05, 2.36210799e-05, 2.36298238e-05, 2.36377928e-05,\n",
       "       2.36444976e-05, 2.36519718e-05, 2.36589512e-05, 2.36661290e-05,\n",
       "       2.36742926e-05, 2.36787237e-05, 2.36842134e-05, 2.36909982e-05,\n",
       "       2.36959568e-05, 2.37047461e-05, 2.37092572e-05, 2.37122131e-05,\n",
       "       2.37185577e-05, 2.37235927e-05, 2.37302229e-05, 2.37335425e-05,\n",
       "       2.37375898e-05, 2.37393542e-05, 2.37463573e-05, 2.37495533e-05,\n",
       "       2.37558907e-05, 2.37578079e-05, 2.37603417e-05, 2.37679196e-05,\n",
       "       2.37741133e-05, 2.37785989e-05, 2.37842305e-05, 2.37832810e-05,\n",
       "       2.37924323e-05, 2.37965178e-05, 2.38025423e-05, 2.38068387e-05,\n",
       "       2.38095472e-05, 2.38201501e-05, 2.38278590e-05, 2.38331286e-05,\n",
       "       2.38395551e-05, 2.38460525e-05, 2.38517332e-05, 2.38595330e-05,\n",
       "       2.38673347e-05, 2.38749908e-05, 2.38828598e-05, 2.38899738e-05,\n",
       "       2.38978337e-05, 2.39075689e-05, 2.39133824e-05, 2.39235233e-05,\n",
       "       2.39369583e-05, 2.39454348e-05, 2.39554320e-05, 2.39660258e-05,\n",
       "       2.39772307e-05, 2.39861765e-05, 2.39947512e-05, 2.40086374e-05,\n",
       "       2.40207773e-05, 2.40281042e-05, 2.40376012e-05, 2.40189893e-05,\n",
       "       2.41274829e-05, 2.25529966e-05], dtype=float32)"
      ]
     },
     "execution_count": 77,
     "metadata": {},
     "output_type": "execute_result"
    }
   ],
   "source": [
    "series_pred[0,:,-1]"
   ]
  },
  {
   "cell_type": "code",
   "execution_count": null,
   "metadata": {},
   "outputs": [],
   "source": []
  }
 ],
 "metadata": {
  "kernelspec": {
   "display_name": "venv_projects",
   "language": "python",
   "name": "venv_projects"
  },
  "language_info": {
   "codemirror_mode": {
    "name": "ipython",
    "version": 3
   },
   "file_extension": ".py",
   "mimetype": "text/x-python",
   "name": "python",
   "nbconvert_exporter": "python",
   "pygments_lexer": "ipython3",
   "version": "3.10.4"
  }
 },
 "nbformat": 4,
 "nbformat_minor": 2
}
