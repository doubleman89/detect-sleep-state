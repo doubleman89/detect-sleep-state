{
 "cells": [
  {
   "cell_type": "code",
   "execution_count": 1,
   "metadata": {},
   "outputs": [],
   "source": [
    "from dataloader.dataloader import Series,Serie\n",
    "from configs.config import CFG\n",
    "import pandas as pd\n",
    "import numpy as np"
   ]
  },
  {
   "cell_type": "code",
   "execution_count": 2,
   "metadata": {},
   "outputs": [],
   "source": [
    "from utils import config\n",
    "config = config.Config.from_json(CFG)"
   ]
  },
  {
   "cell_type": "code",
   "execution_count": 3,
   "metadata": {},
   "outputs": [],
   "source": [
    "import importlib\n",
    "import dataloader.dataloader\n",
    "from dataloader.dataloader import Series,Serie\n",
    "importlib.reload(dataloader.dataloader)\n",
    "try: \n",
    "    del series\n",
    "except:\n",
    "    pass"
   ]
  },
  {
   "cell_type": "code",
   "execution_count": 4,
   "metadata": {},
   "outputs": [
    {
     "data": {
      "text/plain": [
       "array([[[ 3.88929e+01,  8.03000e-02,  0.00000e+00],\n",
       "        [ 2.93744e+01,  7.52000e-02,  0.00000e+00],\n",
       "        [ 3.72251e+01,  1.79100e-01,  0.00000e+00],\n",
       "        ...,\n",
       "        [-1.85856e+01,  0.00000e+00,  3.00000e+00],\n",
       "        [-1.85856e+01,  0.00000e+00,  3.00000e+00],\n",
       "        [-1.85856e+01,  0.00000e+00,  3.00000e+00]],\n",
       "\n",
       "       [[-1.85856e+01,  0.00000e+00,  3.00000e+00],\n",
       "        [-1.85856e+01,  0.00000e+00,  3.00000e+00],\n",
       "        [-1.85856e+01,  0.00000e+00,  3.00000e+00],\n",
       "        ...,\n",
       "        [-3.17038e+01,  8.27000e-02,  1.00000e+00],\n",
       "        [-1.98320e+01,  1.03700e-01,  1.00000e+00],\n",
       "        [-8.35330e+00,  4.73000e-02,  1.00000e+00]],\n",
       "\n",
       "       [[ 7.34680e+00,  5.20000e-02,  1.00000e+00],\n",
       "        [ 3.39488e+01,  1.39000e-02,  1.00000e+00],\n",
       "        [ 4.83857e+01,  2.85000e-02,  1.00000e+00],\n",
       "        ...,\n",
       "        [-6.25043e+01,  0.00000e+00,  3.00000e+00],\n",
       "        [-6.25043e+01,  0.00000e+00,  3.00000e+00],\n",
       "        [-6.25043e+01,  0.00000e+00,  3.00000e+00]],\n",
       "\n",
       "       ...,\n",
       "\n",
       "       [[-4.30700e+00,  9.25000e-02,  0.00000e+00],\n",
       "        [ 5.52950e+00,  7.46000e-02,  0.00000e+00],\n",
       "        [ 1.84936e+01,  6.92000e-02,  0.00000e+00],\n",
       "        ...,\n",
       "        [-1.62243e+01,  4.00000e-04,  0.00000e+00],\n",
       "        [-1.62243e+01,  4.00000e-04,  0.00000e+00],\n",
       "        [-1.62243e+01,  4.00000e-04,  0.00000e+00]],\n",
       "\n",
       "       [[-1.62243e+01,  4.00000e-04,  0.00000e+00],\n",
       "        [-1.62243e+01,  4.00000e-04,  0.00000e+00],\n",
       "        [-1.62243e+01,  4.00000e-04,  0.00000e+00],\n",
       "        ...,\n",
       "        [-1.03408e+01,  5.15000e-02,  0.00000e+00],\n",
       "        [-6.41840e+00,  8.02000e-02,  0.00000e+00],\n",
       "        [-4.27560e+00,  1.05000e-01,  0.00000e+00]],\n",
       "\n",
       "       [[-4.30700e+00,  9.25000e-02,  0.00000e+00],\n",
       "        [ 5.52950e+00,  7.46000e-02,  0.00000e+00],\n",
       "        [ 1.84936e+01,  6.92000e-02,  0.00000e+00],\n",
       "        ...,\n",
       "        [-1.62243e+01,  4.00000e-04,  0.00000e+00],\n",
       "        [-1.62243e+01,  4.00000e-04,  0.00000e+00],\n",
       "        [-1.62243e+01,  4.00000e-04,  0.00000e+00]]])"
      ]
     },
     "execution_count": 4,
     "metadata": {},
     "output_type": "execute_result"
    }
   ],
   "source": [
    "series = Series(config.data,config.paths)\n",
    "series.createSeries()\n",
    "series.series['03d92c9f6f8a'].mask_slices"
   ]
  },
  {
   "cell_type": "code",
   "execution_count": 23,
   "metadata": {},
   "outputs": [],
   "source": [
    "from time import time"
   ]
  },
  {
   "cell_type": "code",
   "execution_count": 30,
   "metadata": {},
   "outputs": [],
   "source": [
    "def create_dataset_from_slices(series : Series):\n",
    "    ds_from_slices = None\n",
    "    for serie_id in series.series: \n",
    "        ms = series.series[serie_id].mask_slices\n",
    "        if ds_from_slices is None:\n",
    "            ds_from_slices=ms\n",
    "        else:\n",
    "            ds_from_slices = np.concatenate((ds_from_slices,ms),axis = 0)\n",
    "    \n",
    "    start = time()\n",
    "    perm = np.arange(ds_from_slices.shape[0])\n",
    "    np.random.shuffle(perm)\n",
    "    ds_from_slices =  ds_from_slices[perm]\n",
    "    print(time()-start)\n",
    "    return ds_from_slices"
   ]
  },
  {
   "cell_type": "code",
   "execution_count": 31,
   "metadata": {},
   "outputs": [],
   "source": [
    "def create_dataset_from_slices(series : Series):\n",
    "    ds_from_slices = None\n",
    "    for serie_id in series.series: \n",
    "        ms = series.series[serie_id].mask_slices\n",
    "        if ds_from_slices is None:\n",
    "            ds_from_slices=ms\n",
    "        else:\n",
    "            ds_from_slices = np.concatenate((ds_from_slices,ms),axis = 0)\n",
    "    \n",
    "    np.random.shuffle(ds_from_slices)\n",
    "    return ds_from_slices"
   ]
  },
  {
   "cell_type": "code",
   "execution_count": 33,
   "metadata": {},
   "outputs": [
    {
     "name": "stdout",
     "output_type": "stream",
     "text": [
      "0.018000125885009766\n",
      "0.012003898620605469\n"
     ]
    }
   ],
   "source": [
    "ds = create_dataset_from_slices(series)"
   ]
  },
  {
   "cell_type": "code",
   "execution_count": 15,
   "metadata": {},
   "outputs": [
    {
     "data": {
      "text/plain": [
       "(348, 8640, 3)"
      ]
     },
     "execution_count": 15,
     "metadata": {},
     "output_type": "execute_result"
    }
   ],
   "source": [
    "ds.shape"
   ]
  },
  {
   "cell_type": "code",
   "execution_count": null,
   "metadata": {},
   "outputs": [],
   "source": []
  }
 ],
 "metadata": {
  "kernelspec": {
   "display_name": "venv",
   "language": "python",
   "name": "venv"
  },
  "language_info": {
   "codemirror_mode": {
    "name": "ipython",
    "version": 3
   },
   "file_extension": ".py",
   "mimetype": "text/x-python",
   "name": "python",
   "nbconvert_exporter": "python",
   "pygments_lexer": "ipython3",
   "version": "3.10.4"
  },
  "orig_nbformat": 4
 },
 "nbformat": 4,
 "nbformat_minor": 2
}
